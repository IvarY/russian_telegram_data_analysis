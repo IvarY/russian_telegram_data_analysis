{
 "cells": [
  {
   "cell_type": "markdown",
   "source": [
    "# Data preprocessing"
   ],
   "metadata": {
    "collapsed": false,
    "pycharm": {
     "name": "#%% md\n"
    }
   }
  },
  {
   "cell_type": "markdown",
   "source": [
    "# 1. Load data"
   ],
   "metadata": {
    "collapsed": false,
    "pycharm": {
     "name": "#%% md\n"
    }
   }
  },
  {
   "cell_type": "code",
   "execution_count": 160,
   "outputs": [],
   "source": [
    "INPUT_FOLDER = './channels/'\n",
    "OUTPUT_FOLDER = './data/preprocessed_v1/'\n",
    "import os\n",
    "import pandas as pd\n",
    "import numpy as np\n",
    "from tqdm import tqdm\n",
    "import re\n",
    "from datetime import datetime, timezone"
   ],
   "metadata": {
    "collapsed": false,
    "pycharm": {
     "name": "#%%\n"
    }
   }
  },
  {
   "cell_type": "code",
   "execution_count": 101,
   "outputs": [
    {
     "name": "stderr",
     "output_type": "stream",
     "text": [
      "channels: 100%|██████████| 300/300 [00:00<?, ?filenames/s]"
     ]
    },
    {
     "name": "stdout",
     "output_type": "stream",
     "text": [
      "299\n"
     ]
    },
    {
     "name": "stderr",
     "output_type": "stream",
     "text": [
      "\n"
     ]
    }
   ],
   "source": [
    "# make a list of all the channel files\n",
    "channels = []\n",
    "for filename in tqdm(os.listdir(INPUT_FOLDER), desc='channels', unit='filenames'):\n",
    "    if filename.endswith('.csv'):\n",
    "        channels.append(filename)\n",
    "print(len(channels))"
   ],
   "metadata": {
    "collapsed": false,
    "pycharm": {
     "name": "#%%\n"
    }
   }
  },
  {
   "cell_type": "code",
   "execution_count": 102,
   "outputs": [],
   "source": [
    "#   method to read a channel file to a dataframe\n",
    "def read_channel(filename):\n",
    "    dtype_dict = {'id': 'int64', 'views': 'float64', 'message': 'str'}\n",
    "    df = pd.read_csv(os.path.join(INPUT_FOLDER, filename), index_col='Unnamed: 0', dtype=dtype_dict, parse_dates=['date'])\n",
    "    df['handle'] = filename[:-4]\n",
    "    return df"
   ],
   "metadata": {
    "collapsed": false,
    "pycharm": {
     "name": "#%%\n"
    }
   }
  },
  {
   "cell_type": "code",
   "execution_count": 103,
   "outputs": [
    {
     "data": {
      "text/plain": "      id                      date   views  \\\n0  12602 2022-12-19 13:05:23+00:00  3645.0   \n1  12601 2022-12-19 09:52:21+00:00  5831.0   \n2  12600 2022-12-19 09:18:53+00:00  3944.0   \n3  12599 2022-12-19 08:32:39+00:00  2970.0   \n4  12598 2022-12-18 21:41:25+00:00  4993.0   \n\n                                           reactions  \\\n0  MessageReactions(results=[ReactionCount(reacti...   \n1  MessageReactions(results=[ReactionCount(reacti...   \n2  MessageReactions(results=[ReactionCount(reacti...   \n3  MessageReactions(results=[ReactionCount(reacti...   \n4  MessageReactions(results=[ReactionCount(reacti...   \n\n                                to_id  \\\n0  PeerChannel(channel_id=1261603870)   \n1  PeerChannel(channel_id=1261603870)   \n2  PeerChannel(channel_id=1261603870)   \n3  PeerChannel(channel_id=1261603870)   \n4  PeerChannel(channel_id=1261603870)   \n\n                                            fwd_from  \\\n0                                                NaN   \n1                                                NaN   \n2                                                NaN   \n3  MessageFwdHeader(date=datetime.datetime(2022, ...   \n4                                                NaN   \n\n                                             message   type  duration  \\\n0  🇵🇰🇦🇫 Исламабад сделал ставку на афганских тали...  photo       NaN   \n1  🕯️ 6 лет назад, 19 декабря 2016 года, в резуль...  photo       NaN   \n2  🇮🇷🇷🇺 Глава МИД Ирана Хосейн Амир Абдоллахиян с...  photo       NaN   \n3  Наши Друзья открыли \\nсбор  для одного из Доне...  photo       NaN   \n4  🇷🇺 Сегодня, 19 декабря в России празднуют День...  photo       NaN   \n\n       handle  \n0  Abbasdjuma  \n1  Abbasdjuma  \n2  Abbasdjuma  \n3  Abbasdjuma  \n4  Abbasdjuma  ",
      "text/html": "<div>\n<style scoped>\n    .dataframe tbody tr th:only-of-type {\n        vertical-align: middle;\n    }\n\n    .dataframe tbody tr th {\n        vertical-align: top;\n    }\n\n    .dataframe thead th {\n        text-align: right;\n    }\n</style>\n<table border=\"1\" class=\"dataframe\">\n  <thead>\n    <tr style=\"text-align: right;\">\n      <th></th>\n      <th>id</th>\n      <th>date</th>\n      <th>views</th>\n      <th>reactions</th>\n      <th>to_id</th>\n      <th>fwd_from</th>\n      <th>message</th>\n      <th>type</th>\n      <th>duration</th>\n      <th>handle</th>\n    </tr>\n  </thead>\n  <tbody>\n    <tr>\n      <th>0</th>\n      <td>12602</td>\n      <td>2022-12-19 13:05:23+00:00</td>\n      <td>3645.0</td>\n      <td>MessageReactions(results=[ReactionCount(reacti...</td>\n      <td>PeerChannel(channel_id=1261603870)</td>\n      <td>NaN</td>\n      <td>🇵🇰🇦🇫 Исламабад сделал ставку на афганских тали...</td>\n      <td>photo</td>\n      <td>NaN</td>\n      <td>Abbasdjuma</td>\n    </tr>\n    <tr>\n      <th>1</th>\n      <td>12601</td>\n      <td>2022-12-19 09:52:21+00:00</td>\n      <td>5831.0</td>\n      <td>MessageReactions(results=[ReactionCount(reacti...</td>\n      <td>PeerChannel(channel_id=1261603870)</td>\n      <td>NaN</td>\n      <td>🕯️ 6 лет назад, 19 декабря 2016 года, в резуль...</td>\n      <td>photo</td>\n      <td>NaN</td>\n      <td>Abbasdjuma</td>\n    </tr>\n    <tr>\n      <th>2</th>\n      <td>12600</td>\n      <td>2022-12-19 09:18:53+00:00</td>\n      <td>3944.0</td>\n      <td>MessageReactions(results=[ReactionCount(reacti...</td>\n      <td>PeerChannel(channel_id=1261603870)</td>\n      <td>NaN</td>\n      <td>🇮🇷🇷🇺 Глава МИД Ирана Хосейн Амир Абдоллахиян с...</td>\n      <td>photo</td>\n      <td>NaN</td>\n      <td>Abbasdjuma</td>\n    </tr>\n    <tr>\n      <th>3</th>\n      <td>12599</td>\n      <td>2022-12-19 08:32:39+00:00</td>\n      <td>2970.0</td>\n      <td>MessageReactions(results=[ReactionCount(reacti...</td>\n      <td>PeerChannel(channel_id=1261603870)</td>\n      <td>MessageFwdHeader(date=datetime.datetime(2022, ...</td>\n      <td>Наши Друзья открыли \\nсбор  для одного из Доне...</td>\n      <td>photo</td>\n      <td>NaN</td>\n      <td>Abbasdjuma</td>\n    </tr>\n    <tr>\n      <th>4</th>\n      <td>12598</td>\n      <td>2022-12-18 21:41:25+00:00</td>\n      <td>4993.0</td>\n      <td>MessageReactions(results=[ReactionCount(reacti...</td>\n      <td>PeerChannel(channel_id=1261603870)</td>\n      <td>NaN</td>\n      <td>🇷🇺 Сегодня, 19 декабря в России празднуют День...</td>\n      <td>photo</td>\n      <td>NaN</td>\n      <td>Abbasdjuma</td>\n    </tr>\n  </tbody>\n</table>\n</div>"
     },
     "execution_count": 103,
     "metadata": {},
     "output_type": "execute_result"
    }
   ],
   "source": [
    "df = read_channel(channels[0])\n",
    "df.head()"
   ],
   "metadata": {
    "collapsed": false,
    "pycharm": {
     "name": "#%%\n"
    }
   }
  },
  {
   "cell_type": "code",
   "execution_count": 130,
   "outputs": [
    {
     "name": "stdout",
     "output_type": "stream",
     "text": [
      "<class 'pandas._libs.tslibs.timestamps.Timestamp'>\n",
      "0 days 01:51:01\n"
     ]
    }
   ],
   "source": [
    "print(type(df['date'][0]))\n",
    "print(df['date'][0]-df['date'][1])"
   ],
   "metadata": {
    "collapsed": false,
    "pycharm": {
     "name": "#%%\n"
    }
   }
  },
  {
   "cell_type": "code",
   "execution_count": 106,
   "outputs": [
    {
     "data": {
      "text/plain": "\"MessageReactions(results=[ReactionCount(reaction='🤔', count=24, chosen=False), ReactionCount(reaction='👍', count=7, chosen=False), ReactionCount(reaction='🔥', count=1, chosen=False), ReactionCount(reaction='😁', count=1, chosen=False), ReactionCount(reaction='🤮', count=1, chosen=False)], min=False, can_see_list=False, recent_reactions=[])\""
     },
     "execution_count": 106,
     "metadata": {},
     "output_type": "execute_result"
    }
   ],
   "source": [
    "df['reactions'][0]"
   ],
   "metadata": {
    "collapsed": false,
    "pycharm": {
     "name": "#%%\n"
    }
   }
  },
  {
   "cell_type": "code",
   "execution_count": 107,
   "outputs": [],
   "source": [
    "# Define a function to extract reaction data from the string\n",
    "def extract_reactions(row):\n",
    "    pattern = r\"ReactionCount\\(reaction='(\\S+)', count=(\\d+),\"\n",
    "    try:\n",
    "        matches = re.findall(pattern, row)\n",
    "    except TypeError:\n",
    "        print(row)\n",
    "    # matches = re.findall(pattern, row)\n",
    "    return {reaction: int(count) for reaction, count in matches}"
   ],
   "metadata": {
    "collapsed": false,
    "pycharm": {
     "name": "#%%\n"
    }
   }
  },
  {
   "cell_type": "code",
   "execution_count": 108,
   "outputs": [
    {
     "data": {
      "text/plain": "24"
     },
     "execution_count": 108,
     "metadata": {},
     "output_type": "execute_result"
    }
   ],
   "source": [
    "row_reacts = extract_reactions(df['reactions'][0])\n",
    "row_reacts['🤔']"
   ],
   "metadata": {
    "collapsed": false,
    "pycharm": {
     "name": "#%%\n"
    }
   }
  },
  {
   "cell_type": "code",
   "execution_count": 111,
   "outputs": [],
   "source": [
    "def save_channel(df, filename):\n",
    "  df.to_csv(os.path.join(OUTPUT_FOLDER, filename))"
   ],
   "metadata": {
    "collapsed": false,
    "pycharm": {
     "name": "#%%\n"
    }
   }
  },
  {
   "cell_type": "code",
   "execution_count": 120,
   "outputs": [],
   "source": [
    "# Define a function to extract reaction data from the string and\n",
    "def extract_reactions(row):\n",
    "    if pd.isna(row):\n",
    "        return pd.Series(dtype='float64')\n",
    "    pattern = r\"ReactionCount\\(reaction='(\\S+)', count=(\\d+),\"\n",
    "    try:\n",
    "        matches = re.findall(pattern, row)\n",
    "    except TypeError:\n",
    "        print(row)\n",
    "        raise Exception(f\"Reactions regex error:{e}\");\n",
    "    if not matches:\n",
    "        # No matches found, return an empty Series\n",
    "        return pd.Series(dtype='float64')\n",
    "    reactions_data = {react: count for react, count in matches}\n",
    "    try:\n",
    "        return pd.Series(reactions_data, dtype='float64')\n",
    "    except e:\n",
    "        print(row)\n",
    "        print(matches)\n",
    "        print(reactions_data)\n",
    "        raise Exception(f\"Reactions processing error:{e}\");"
   ],
   "metadata": {
    "collapsed": false,
    "pycharm": {
     "name": "#%%\n"
    }
   }
  },
  {
   "cell_type": "code",
   "execution_count": 128,
   "outputs": [],
   "source": [
    "def process_reactions_df(df):\n",
    "    # Apply the function to create new columns\n",
    "    df = pd.concat([df, df['reactions'].progress_apply(extract_reactions)], axis=1)\n",
    "    df.drop(columns=['reactions'], inplace=True)\n",
    "    return df"
   ],
   "metadata": {
    "collapsed": false,
    "pycharm": {
     "name": "#%%\n"
    }
   }
  },
  {
   "cell_type": "code",
   "execution_count": 123,
   "outputs": [
    {
     "data": {
      "text/plain": "     id                      date     views  \\\n0  5968 2022-12-18 17:44:04+00:00   69423.0   \n1  5967 2022-12-18 15:53:03+00:00   92385.0   \n2  5966 2022-12-18 10:11:34+00:00   90301.0   \n3  5965 2022-12-17 22:45:28+00:00  173857.0   \n4  5964 2022-12-17 12:40:48+00:00  474103.0   \n\n                                to_id fwd_from  \\\n0  PeerChannel(channel_id=1099760830)      NaN   \n1  PeerChannel(channel_id=1099760830)      NaN   \n2  PeerChannel(channel_id=1099760830)      NaN   \n3  PeerChannel(channel_id=1099760830)      NaN   \n4  PeerChannel(channel_id=1099760830)      NaN   \n\n                                             message  type  duration  \\\n0  Донецк в огне. Больницу им. Калинина эвакуирую...  text       NaN   \n1  А вот еще одна проблема, про которую узнала от...  text       NaN   \n2  Вчера в Луганске посетили госпиталь. 1195 паци...  text       NaN   \n3  Ой, ну ладно вам. Мы живы. ПВО сработало\\n\\nht...  text       NaN   \n4  Поговорили с Андреем Турчаком @turchak_andrey ...  text       NaN   \n\n         handle       🤬      😱       👍      😁       ❤      🔥     🤯     🤔  \\\n0  akashevarova  3827.0  480.0   139.0  106.0    47.0   24.0  18.0  17.0   \n1  akashevarova   157.0  176.0  6593.0  437.0   838.0  201.0  50.0  31.0   \n2  akashevarova    19.0    1.0  3691.0   71.0  1286.0   74.0   NaN   8.0   \n3  akashevarova    22.0   53.0  1063.0  139.0   272.0    NaN   7.0  40.0   \n4  akashevarova    27.0    4.0  1626.0   50.0  9292.0  111.0   5.0  22.0   \n\n       🥰      👏  \n0    3.0    NaN  \n1   25.0   76.0  \n2    7.0  129.0  \n3    NaN    NaN  \n4  135.0  385.0  ",
      "text/html": "<div>\n<style scoped>\n    .dataframe tbody tr th:only-of-type {\n        vertical-align: middle;\n    }\n\n    .dataframe tbody tr th {\n        vertical-align: top;\n    }\n\n    .dataframe thead th {\n        text-align: right;\n    }\n</style>\n<table border=\"1\" class=\"dataframe\">\n  <thead>\n    <tr style=\"text-align: right;\">\n      <th></th>\n      <th>id</th>\n      <th>date</th>\n      <th>views</th>\n      <th>to_id</th>\n      <th>fwd_from</th>\n      <th>message</th>\n      <th>type</th>\n      <th>duration</th>\n      <th>handle</th>\n      <th>🤬</th>\n      <th>😱</th>\n      <th>👍</th>\n      <th>😁</th>\n      <th>❤</th>\n      <th>🔥</th>\n      <th>🤯</th>\n      <th>🤔</th>\n      <th>🥰</th>\n      <th>👏</th>\n    </tr>\n  </thead>\n  <tbody>\n    <tr>\n      <th>0</th>\n      <td>5968</td>\n      <td>2022-12-18 17:44:04+00:00</td>\n      <td>69423.0</td>\n      <td>PeerChannel(channel_id=1099760830)</td>\n      <td>NaN</td>\n      <td>Донецк в огне. Больницу им. Калинина эвакуирую...</td>\n      <td>text</td>\n      <td>NaN</td>\n      <td>akashevarova</td>\n      <td>3827.0</td>\n      <td>480.0</td>\n      <td>139.0</td>\n      <td>106.0</td>\n      <td>47.0</td>\n      <td>24.0</td>\n      <td>18.0</td>\n      <td>17.0</td>\n      <td>3.0</td>\n      <td>NaN</td>\n    </tr>\n    <tr>\n      <th>1</th>\n      <td>5967</td>\n      <td>2022-12-18 15:53:03+00:00</td>\n      <td>92385.0</td>\n      <td>PeerChannel(channel_id=1099760830)</td>\n      <td>NaN</td>\n      <td>А вот еще одна проблема, про которую узнала от...</td>\n      <td>text</td>\n      <td>NaN</td>\n      <td>akashevarova</td>\n      <td>157.0</td>\n      <td>176.0</td>\n      <td>6593.0</td>\n      <td>437.0</td>\n      <td>838.0</td>\n      <td>201.0</td>\n      <td>50.0</td>\n      <td>31.0</td>\n      <td>25.0</td>\n      <td>76.0</td>\n    </tr>\n    <tr>\n      <th>2</th>\n      <td>5966</td>\n      <td>2022-12-18 10:11:34+00:00</td>\n      <td>90301.0</td>\n      <td>PeerChannel(channel_id=1099760830)</td>\n      <td>NaN</td>\n      <td>Вчера в Луганске посетили госпиталь. 1195 паци...</td>\n      <td>text</td>\n      <td>NaN</td>\n      <td>akashevarova</td>\n      <td>19.0</td>\n      <td>1.0</td>\n      <td>3691.0</td>\n      <td>71.0</td>\n      <td>1286.0</td>\n      <td>74.0</td>\n      <td>NaN</td>\n      <td>8.0</td>\n      <td>7.0</td>\n      <td>129.0</td>\n    </tr>\n    <tr>\n      <th>3</th>\n      <td>5965</td>\n      <td>2022-12-17 22:45:28+00:00</td>\n      <td>173857.0</td>\n      <td>PeerChannel(channel_id=1099760830)</td>\n      <td>NaN</td>\n      <td>Ой, ну ладно вам. Мы живы. ПВО сработало\\n\\nht...</td>\n      <td>text</td>\n      <td>NaN</td>\n      <td>akashevarova</td>\n      <td>22.0</td>\n      <td>53.0</td>\n      <td>1063.0</td>\n      <td>139.0</td>\n      <td>272.0</td>\n      <td>NaN</td>\n      <td>7.0</td>\n      <td>40.0</td>\n      <td>NaN</td>\n      <td>NaN</td>\n    </tr>\n    <tr>\n      <th>4</th>\n      <td>5964</td>\n      <td>2022-12-17 12:40:48+00:00</td>\n      <td>474103.0</td>\n      <td>PeerChannel(channel_id=1099760830)</td>\n      <td>NaN</td>\n      <td>Поговорили с Андреем Турчаком @turchak_andrey ...</td>\n      <td>text</td>\n      <td>NaN</td>\n      <td>akashevarova</td>\n      <td>27.0</td>\n      <td>4.0</td>\n      <td>1626.0</td>\n      <td>50.0</td>\n      <td>9292.0</td>\n      <td>111.0</td>\n      <td>5.0</td>\n      <td>22.0</td>\n      <td>135.0</td>\n      <td>385.0</td>\n    </tr>\n  </tbody>\n</table>\n</div>"
     },
     "execution_count": 123,
     "metadata": {},
     "output_type": "execute_result"
    }
   ],
   "source": [
    "df.head()"
   ],
   "metadata": {
    "collapsed": false,
    "pycharm": {
     "name": "#%%\n"
    }
   }
  },
  {
   "cell_type": "code",
   "execution_count": 124,
   "outputs": [
    {
     "data": {
      "text/plain": "numpy.float64"
     },
     "execution_count": 124,
     "metadata": {},
     "output_type": "execute_result"
    }
   ],
   "source": [
    "type(df['🤔'][0])"
   ],
   "metadata": {
    "collapsed": false,
    "pycharm": {
     "name": "#%%\n"
    }
   }
  },
  {
   "cell_type": "code",
   "execution_count": 132,
   "outputs": [
    {
     "data": {
      "text/plain": "'PeerChannel(channel_id=1099760830)'"
     },
     "execution_count": 132,
     "metadata": {},
     "output_type": "execute_result"
    }
   ],
   "source": [
    "df['to_id'][0]"
   ],
   "metadata": {
    "collapsed": false,
    "pycharm": {
     "name": "#%%\n"
    }
   }
  },
  {
   "cell_type": "code",
   "execution_count": 133,
   "outputs": [],
   "source": [
    "# function to extract to_id from the string\n",
    "def extract_to_id(row):\n",
    "    # Define a pattern to extract the channel ID\n",
    "    pattern = r'channel_id=(\\d+)'\n",
    "\n",
    "    # Use re.search to find the match in the string\n",
    "    match = re.search(pattern, row)\n",
    "\n",
    "    # Check if a match is found and extract the channel ID\n",
    "    if match:\n",
    "        return int(match.group(1))\n",
    "    else:\n",
    "        return np.NaN\n"
   ],
   "metadata": {
    "collapsed": false,
    "pycharm": {
     "name": "#%%\n"
    }
   }
  },
  {
   "cell_type": "code",
   "execution_count": 134,
   "outputs": [
    {
     "data": {
      "text/plain": "1099760830"
     },
     "execution_count": 134,
     "metadata": {},
     "output_type": "execute_result"
    }
   ],
   "source": [
    "extract_to_id(df['to_id'][0])"
   ],
   "metadata": {
    "collapsed": false,
    "pycharm": {
     "name": "#%%\n"
    }
   }
  },
  {
   "cell_type": "code",
   "execution_count": 135,
   "outputs": [],
   "source": [
    "def extract_to_id_df(df):\n",
    "    # Apply the function to create the new column\n",
    "    df['to_id'] = df['to_id'].progress_apply(extract_to_id)\n",
    "    return df"
   ],
   "metadata": {
    "collapsed": false,
    "pycharm": {
     "name": "#%%\n"
    }
   }
  },
  {
   "cell_type": "code",
   "execution_count": 138,
   "outputs": [
    {
     "data": {
      "text/plain": "to_id\nPeerChannel(channel_id=1099760830)    5880\nName: count, dtype: int64"
     },
     "execution_count": 138,
     "metadata": {},
     "output_type": "execute_result"
    }
   ],
   "source": [
    "df.value_counts('to_id')"
   ],
   "metadata": {
    "collapsed": false,
    "pycharm": {
     "name": "#%%\n"
    }
   }
  },
  {
   "cell_type": "code",
   "execution_count": 140,
   "outputs": [
    {
     "name": "stderr",
     "output_type": "stream",
     "text": [
      "2/299 akashevarova: 100%|██████████| 5880/5880 [00:00<00:00, 237041.49rows/s]\n"
     ]
    },
    {
     "data": {
      "text/plain": "        id                      date     views       to_id fwd_from  \\\n0     5968 2022-12-18 17:44:04+00:00   69423.0  1099760830      NaN   \n1     5967 2022-12-18 15:53:03+00:00   92385.0  1099760830      NaN   \n2     5966 2022-12-18 10:11:34+00:00   90301.0  1099760830      NaN   \n3     5965 2022-12-17 22:45:28+00:00  173857.0  1099760830      NaN   \n4     5964 2022-12-17 12:40:48+00:00  474103.0  1099760830      NaN   \n...    ...                       ...       ...         ...      ...   \n5875     6 2017-01-30 19:58:34+00:00     765.0  1099760830      NaN   \n5876     5 2017-01-30 18:46:14+00:00     827.0  1099760830      NaN   \n5877     4 2017-01-30 18:30:54+00:00    1081.0  1099760830      NaN   \n5878     3 2017-01-30 18:08:23+00:00    1487.0  1099760830      NaN   \n5879     1 2017-01-30 18:02:55+00:00       NaN  1099760830      NaN   \n\n                                                message  type  duration  \\\n0     Донецк в огне. Больницу им. Калинина эвакуирую...  text       NaN   \n1     А вот еще одна проблема, про которую узнала от...  text       NaN   \n2     Вчера в Луганске посетили госпиталь. 1195 паци...  text       NaN   \n3     Ой, ну ладно вам. Мы живы. ПВО сработало\\n\\nht...  text       NaN   \n4     Поговорили с Андреем Турчаком @turchak_andrey ...  text       NaN   \n...                                                 ...   ...       ...   \n5875  Только что выходила в Инстаграмм в прямой эфир...  text       NaN   \n5876          Да, поправка - МЕЧ. Я грамотная, понятно!  text       NaN   \n5877  Была сегодня на \"Царьграде\" по теме хакеров из...  text       NaN   \n5878  Вот решила тоже создать телеграмм-канал. То, ч...  text       NaN   \n5879                                                NaN  text       NaN   \n\n            handle       🤬      😱       👍      😁       ❤      🔥     🤯     🤔  \\\n0     akashevarova  3827.0  480.0   139.0  106.0    47.0   24.0  18.0  17.0   \n1     akashevarova   157.0  176.0  6593.0  437.0   838.0  201.0  50.0  31.0   \n2     akashevarova    19.0    1.0  3691.0   71.0  1286.0   74.0   NaN   8.0   \n3     akashevarova    22.0   53.0  1063.0  139.0   272.0    NaN   7.0  40.0   \n4     akashevarova    27.0    4.0  1626.0   50.0  9292.0  111.0   5.0  22.0   \n...            ...     ...    ...     ...    ...     ...    ...   ...   ...   \n5875  akashevarova     NaN    NaN     NaN    NaN     NaN    NaN   NaN   NaN   \n5876  akashevarova     NaN    NaN     NaN    NaN     NaN    NaN   NaN   NaN   \n5877  akashevarova     NaN    NaN     NaN    NaN     NaN    NaN   NaN   NaN   \n5878  akashevarova     NaN    NaN     NaN    NaN     NaN    NaN   NaN   NaN   \n5879  akashevarova     NaN    NaN     NaN    NaN     NaN    NaN   NaN   NaN   \n\n          🥰      👏  \n0       3.0    NaN  \n1      25.0   76.0  \n2       7.0  129.0  \n3       NaN    NaN  \n4     135.0  385.0  \n...     ...    ...  \n5875    NaN    NaN  \n5876    NaN    NaN  \n5877    NaN    NaN  \n5878    NaN    NaN  \n5879    NaN    NaN  \n\n[5880 rows x 19 columns]",
      "text/html": "<div>\n<style scoped>\n    .dataframe tbody tr th:only-of-type {\n        vertical-align: middle;\n    }\n\n    .dataframe tbody tr th {\n        vertical-align: top;\n    }\n\n    .dataframe thead th {\n        text-align: right;\n    }\n</style>\n<table border=\"1\" class=\"dataframe\">\n  <thead>\n    <tr style=\"text-align: right;\">\n      <th></th>\n      <th>id</th>\n      <th>date</th>\n      <th>views</th>\n      <th>to_id</th>\n      <th>fwd_from</th>\n      <th>message</th>\n      <th>type</th>\n      <th>duration</th>\n      <th>handle</th>\n      <th>🤬</th>\n      <th>😱</th>\n      <th>👍</th>\n      <th>😁</th>\n      <th>❤</th>\n      <th>🔥</th>\n      <th>🤯</th>\n      <th>🤔</th>\n      <th>🥰</th>\n      <th>👏</th>\n    </tr>\n  </thead>\n  <tbody>\n    <tr>\n      <th>0</th>\n      <td>5968</td>\n      <td>2022-12-18 17:44:04+00:00</td>\n      <td>69423.0</td>\n      <td>1099760830</td>\n      <td>NaN</td>\n      <td>Донецк в огне. Больницу им. Калинина эвакуирую...</td>\n      <td>text</td>\n      <td>NaN</td>\n      <td>akashevarova</td>\n      <td>3827.0</td>\n      <td>480.0</td>\n      <td>139.0</td>\n      <td>106.0</td>\n      <td>47.0</td>\n      <td>24.0</td>\n      <td>18.0</td>\n      <td>17.0</td>\n      <td>3.0</td>\n      <td>NaN</td>\n    </tr>\n    <tr>\n      <th>1</th>\n      <td>5967</td>\n      <td>2022-12-18 15:53:03+00:00</td>\n      <td>92385.0</td>\n      <td>1099760830</td>\n      <td>NaN</td>\n      <td>А вот еще одна проблема, про которую узнала от...</td>\n      <td>text</td>\n      <td>NaN</td>\n      <td>akashevarova</td>\n      <td>157.0</td>\n      <td>176.0</td>\n      <td>6593.0</td>\n      <td>437.0</td>\n      <td>838.0</td>\n      <td>201.0</td>\n      <td>50.0</td>\n      <td>31.0</td>\n      <td>25.0</td>\n      <td>76.0</td>\n    </tr>\n    <tr>\n      <th>2</th>\n      <td>5966</td>\n      <td>2022-12-18 10:11:34+00:00</td>\n      <td>90301.0</td>\n      <td>1099760830</td>\n      <td>NaN</td>\n      <td>Вчера в Луганске посетили госпиталь. 1195 паци...</td>\n      <td>text</td>\n      <td>NaN</td>\n      <td>akashevarova</td>\n      <td>19.0</td>\n      <td>1.0</td>\n      <td>3691.0</td>\n      <td>71.0</td>\n      <td>1286.0</td>\n      <td>74.0</td>\n      <td>NaN</td>\n      <td>8.0</td>\n      <td>7.0</td>\n      <td>129.0</td>\n    </tr>\n    <tr>\n      <th>3</th>\n      <td>5965</td>\n      <td>2022-12-17 22:45:28+00:00</td>\n      <td>173857.0</td>\n      <td>1099760830</td>\n      <td>NaN</td>\n      <td>Ой, ну ладно вам. Мы живы. ПВО сработало\\n\\nht...</td>\n      <td>text</td>\n      <td>NaN</td>\n      <td>akashevarova</td>\n      <td>22.0</td>\n      <td>53.0</td>\n      <td>1063.0</td>\n      <td>139.0</td>\n      <td>272.0</td>\n      <td>NaN</td>\n      <td>7.0</td>\n      <td>40.0</td>\n      <td>NaN</td>\n      <td>NaN</td>\n    </tr>\n    <tr>\n      <th>4</th>\n      <td>5964</td>\n      <td>2022-12-17 12:40:48+00:00</td>\n      <td>474103.0</td>\n      <td>1099760830</td>\n      <td>NaN</td>\n      <td>Поговорили с Андреем Турчаком @turchak_andrey ...</td>\n      <td>text</td>\n      <td>NaN</td>\n      <td>akashevarova</td>\n      <td>27.0</td>\n      <td>4.0</td>\n      <td>1626.0</td>\n      <td>50.0</td>\n      <td>9292.0</td>\n      <td>111.0</td>\n      <td>5.0</td>\n      <td>22.0</td>\n      <td>135.0</td>\n      <td>385.0</td>\n    </tr>\n    <tr>\n      <th>...</th>\n      <td>...</td>\n      <td>...</td>\n      <td>...</td>\n      <td>...</td>\n      <td>...</td>\n      <td>...</td>\n      <td>...</td>\n      <td>...</td>\n      <td>...</td>\n      <td>...</td>\n      <td>...</td>\n      <td>...</td>\n      <td>...</td>\n      <td>...</td>\n      <td>...</td>\n      <td>...</td>\n      <td>...</td>\n      <td>...</td>\n      <td>...</td>\n    </tr>\n    <tr>\n      <th>5875</th>\n      <td>6</td>\n      <td>2017-01-30 19:58:34+00:00</td>\n      <td>765.0</td>\n      <td>1099760830</td>\n      <td>NaN</td>\n      <td>Только что выходила в Инстаграмм в прямой эфир...</td>\n      <td>text</td>\n      <td>NaN</td>\n      <td>akashevarova</td>\n      <td>NaN</td>\n      <td>NaN</td>\n      <td>NaN</td>\n      <td>NaN</td>\n      <td>NaN</td>\n      <td>NaN</td>\n      <td>NaN</td>\n      <td>NaN</td>\n      <td>NaN</td>\n      <td>NaN</td>\n    </tr>\n    <tr>\n      <th>5876</th>\n      <td>5</td>\n      <td>2017-01-30 18:46:14+00:00</td>\n      <td>827.0</td>\n      <td>1099760830</td>\n      <td>NaN</td>\n      <td>Да, поправка - МЕЧ. Я грамотная, понятно!</td>\n      <td>text</td>\n      <td>NaN</td>\n      <td>akashevarova</td>\n      <td>NaN</td>\n      <td>NaN</td>\n      <td>NaN</td>\n      <td>NaN</td>\n      <td>NaN</td>\n      <td>NaN</td>\n      <td>NaN</td>\n      <td>NaN</td>\n      <td>NaN</td>\n      <td>NaN</td>\n    </tr>\n    <tr>\n      <th>5877</th>\n      <td>4</td>\n      <td>2017-01-30 18:30:54+00:00</td>\n      <td>1081.0</td>\n      <td>1099760830</td>\n      <td>NaN</td>\n      <td>Была сегодня на \"Царьграде\" по теме хакеров из...</td>\n      <td>text</td>\n      <td>NaN</td>\n      <td>akashevarova</td>\n      <td>NaN</td>\n      <td>NaN</td>\n      <td>NaN</td>\n      <td>NaN</td>\n      <td>NaN</td>\n      <td>NaN</td>\n      <td>NaN</td>\n      <td>NaN</td>\n      <td>NaN</td>\n      <td>NaN</td>\n    </tr>\n    <tr>\n      <th>5878</th>\n      <td>3</td>\n      <td>2017-01-30 18:08:23+00:00</td>\n      <td>1487.0</td>\n      <td>1099760830</td>\n      <td>NaN</td>\n      <td>Вот решила тоже создать телеграмм-канал. То, ч...</td>\n      <td>text</td>\n      <td>NaN</td>\n      <td>akashevarova</td>\n      <td>NaN</td>\n      <td>NaN</td>\n      <td>NaN</td>\n      <td>NaN</td>\n      <td>NaN</td>\n      <td>NaN</td>\n      <td>NaN</td>\n      <td>NaN</td>\n      <td>NaN</td>\n      <td>NaN</td>\n    </tr>\n    <tr>\n      <th>5879</th>\n      <td>1</td>\n      <td>2017-01-30 18:02:55+00:00</td>\n      <td>NaN</td>\n      <td>1099760830</td>\n      <td>NaN</td>\n      <td>NaN</td>\n      <td>text</td>\n      <td>NaN</td>\n      <td>akashevarova</td>\n      <td>NaN</td>\n      <td>NaN</td>\n      <td>NaN</td>\n      <td>NaN</td>\n      <td>NaN</td>\n      <td>NaN</td>\n      <td>NaN</td>\n      <td>NaN</td>\n      <td>NaN</td>\n      <td>NaN</td>\n    </tr>\n  </tbody>\n</table>\n<p>5880 rows × 19 columns</p>\n</div>"
     },
     "execution_count": 140,
     "metadata": {},
     "output_type": "execute_result"
    }
   ],
   "source": [
    "extract_to_id_df(df)"
   ],
   "metadata": {
    "collapsed": false,
    "pycharm": {
     "name": "#%%\n"
    }
   }
  },
  {
   "cell_type": "code",
   "execution_count": 141,
   "outputs": [
    {
     "data": {
      "text/plain": "'MessageFwdHeader(date=datetime.datetime(2022, 12, 12, 7, 47, 22, tzinfo=datetime.timezone.utc), imported=False, from_id=PeerChannel(channel_id=1301168156), from_name=None, channel_post=1506, post_author=None, saved_from_peer=None, saved_from_msg_id=None, psa_type=None)'"
     },
     "execution_count": 141,
     "metadata": {},
     "output_type": "execute_result"
    }
   ],
   "source": [
    "df['fwd_from'][20]"
   ],
   "metadata": {
    "collapsed": false,
    "pycharm": {
     "name": "#%%\n"
    }
   }
  },
  {
   "cell_type": "code",
   "execution_count": 147,
   "outputs": [],
   "source": [
    "def check_columns(df_list, columns_to_check):\n",
    "    result = {}\n",
    "\n",
    "    for idx, df in enumerate(df_list):\n",
    "        present_columns = [col for col in columns_to_check if col in df.columns]\n",
    "        result[idx] = present_columns\n",
    "\n",
    "    return result\n",
    "\n",
    "# Specify the columns you want to check\n",
    "columns_to_check = ['channel_name', 'frw_from_title', 'frw_from_name', 'msg_entity']"
   ],
   "metadata": {
    "collapsed": false,
    "pycharm": {
     "name": "#%%\n"
    }
   }
  },
  {
   "cell_type": "code",
   "execution_count": 148,
   "outputs": [
    {
     "name": "stderr",
     "output_type": "stream",
     "text": [
      "C:\\Users\\IvarY\\AppData\\Local\\Temp\\ipykernel_11356\\3396395887.py:4: DtypeWarning: Columns (6) have mixed types. Specify dtype option on import or set low_memory=False.\n",
      "  df = pd.read_csv(os.path.join(INPUT_FOLDER, filename), index_col='Unnamed: 0', dtype=dtype_dict, parse_dates=['date'])\n",
      "C:\\Users\\IvarY\\AppData\\Local\\Temp\\ipykernel_11356\\3396395887.py:4: DtypeWarning: Columns (6) have mixed types. Specify dtype option on import or set low_memory=False.\n",
      "  df = pd.read_csv(os.path.join(INPUT_FOLDER, filename), index_col='Unnamed: 0', dtype=dtype_dict, parse_dates=['date'])\n",
      "C:\\Users\\IvarY\\AppData\\Local\\Temp\\ipykernel_11356\\3396395887.py:4: DtypeWarning: Columns (6) have mixed types. Specify dtype option on import or set low_memory=False.\n",
      "  df = pd.read_csv(os.path.join(INPUT_FOLDER, filename), index_col='Unnamed: 0', dtype=dtype_dict, parse_dates=['date'])\n",
      "C:\\Users\\IvarY\\AppData\\Local\\Temp\\ipykernel_11356\\3396395887.py:4: DtypeWarning: Columns (6) have mixed types. Specify dtype option on import or set low_memory=False.\n",
      "  df = pd.read_csv(os.path.join(INPUT_FOLDER, filename), index_col='Unnamed: 0', dtype=dtype_dict, parse_dates=['date'])\n"
     ]
    }
   ],
   "source": [
    "# Call the function with your list of DataFrames and columns to check\n",
    "present_columns_result = check_columns((read_channel(fn) for fn in channels), columns_to_check)"
   ],
   "metadata": {
    "collapsed": false,
    "pycharm": {
     "name": "#%%\n"
    }
   }
  },
  {
   "cell_type": "code",
   "execution_count": 149,
   "outputs": [
    {
     "name": "stdout",
     "output_type": "stream",
     "text": [
      "4: ['frw_from_title', 'frw_from_name', 'msg_entity']\n",
      "28: ['frw_from_title', 'frw_from_name', 'msg_entity']\n",
      "42: ['frw_from_title', 'frw_from_name', 'msg_entity']\n",
      "54: ['frw_from_title', 'frw_from_name', 'msg_entity']\n",
      "64: ['frw_from_title', 'frw_from_name', 'msg_entity']\n",
      "72: ['frw_from_title', 'frw_from_name', 'msg_entity']\n",
      "76: ['frw_from_title', 'frw_from_name', 'msg_entity']\n",
      "112: ['frw_from_title', 'frw_from_name', 'msg_entity']\n",
      "128: ['frw_from_title', 'frw_from_name', 'msg_entity']\n",
      "140: ['frw_from_title', 'frw_from_name', 'msg_entity']\n",
      "146: ['frw_from_title', 'frw_from_name', 'msg_entity']\n",
      "155: ['frw_from_title', 'frw_from_name', 'msg_entity']\n",
      "165: ['frw_from_title', 'frw_from_name', 'msg_entity']\n",
      "169: ['frw_from_title', 'frw_from_name', 'msg_entity']\n",
      "198: ['frw_from_title', 'frw_from_name', 'msg_entity']\n",
      "246: ['frw_from_title', 'frw_from_name', 'msg_entity']\n",
      "253: ['frw_from_title', 'frw_from_name', 'msg_entity']\n",
      "260: ['frw_from_title', 'frw_from_name', 'msg_entity']\n",
      "266: ['frw_from_title', 'frw_from_name', 'msg_entity']\n",
      "291: ['frw_from_title', 'frw_from_name', 'msg_entity']\n"
     ]
    }
   ],
   "source": [
    "# Print the result\n",
    "for df_name, present_columns in present_columns_result.items():\n",
    "    if present_columns:\n",
    "        print(f'{df_name}: {present_columns}')"
   ],
   "metadata": {
    "collapsed": false,
    "pycharm": {
     "name": "#%%\n"
    }
   }
  },
  {
   "cell_type": "code",
   "execution_count": 243,
   "outputs": [
    {
     "data": {
      "text/plain": "          id                      date  views  reactions  \\\n0      15377 2022-12-04 10:26:53+00:00  173.0        NaN   \n1      15376 2022-12-03 19:32:06+00:00  528.0        NaN   \n2      15375 2022-12-03 18:56:42+00:00  512.0        NaN   \n3      15374 2022-12-02 19:27:06+00:00  644.0        NaN   \n4      15373 2022-12-02 18:58:20+00:00  705.0        NaN   \n...      ...                       ...    ...        ...   \n14547      5 2017-02-01 10:56:33+00:00  356.0        NaN   \n14548      4 2017-02-01 10:56:28+00:00  289.0        NaN   \n14549      3 2017-02-01 10:51:25+00:00  278.0        NaN   \n14550      2 2017-02-01 10:48:55+00:00    NaN        NaN   \n14551      1 2017-02-01 10:48:55+00:00    NaN        NaN   \n\n                                    to_id  \\\n0      PeerChannel(channel_id=1109279145)   \n1      PeerChannel(channel_id=1109279145)   \n2      PeerChannel(channel_id=1109279145)   \n3      PeerChannel(channel_id=1109279145)   \n4      PeerChannel(channel_id=1109279145)   \n...                                   ...   \n14547  PeerChannel(channel_id=1109279145)   \n14548  PeerChannel(channel_id=1109279145)   \n14549  PeerChannel(channel_id=1109279145)   \n14550  PeerChannel(channel_id=1109279145)   \n14551  PeerChannel(channel_id=1109279145)   \n\n                                                fwd_from  \\\n0      MessageFwdHeader(date=datetime.datetime(2022, ...   \n1                                                    NaN   \n2                                                    NaN   \n3                                                    NaN   \n4                                                    NaN   \n...                                                  ...   \n14547                                                NaN   \n14548                                                NaN   \n14549                                                NaN   \n14550                                                NaN   \n14551                                                NaN   \n\n                                                 message   type  duration  \\\n0      🚇БКЛ полноценно заработает уже в первом кварта...  photo       NaN   \n1      Активисты «Бессмертного полка» возложили цветы...  photo       NaN   \n2      Как всегда наши учёные расширяют границы возмо...  video       5.0   \n3      Активисты общественных проектов и координаторы...  video      60.0   \n4      В Лужниках состоялся Форум боевых искусств «Би...  video       5.0   \n...                                                  ...    ...       ...   \n14547                                                NaN  photo       NaN   \n14548                                                NaN  photo       NaN   \n14549  Приветствую вас мои маленькие любители политик...   text       NaN   \n14550                                                NaN  photo       NaN   \n14551                                                NaN   text       NaN   \n\n        frw_from_title frw_from_name  \\\n0      Дептранс Москвы        DtRoad   \n1                  NaN           NaN   \n2                  NaN           NaN   \n3                  NaN           NaN   \n4                  NaN           NaN   \n...                ...           ...   \n14547              NaN           NaN   \n14548              NaN           NaN   \n14549              NaN           NaN   \n14550              NaN           NaN   \n14551              NaN           NaN   \n\n                                              msg_entity    handle  \n0      [<telethon.tl.types.MessageEntityItalic object...  akitilop  \n1                                                    NaN  akitilop  \n2                                                    NaN  akitilop  \n3                                                    NaN  akitilop  \n4                                                    NaN  akitilop  \n...                                                  ...       ...  \n14547                                                NaN  akitilop  \n14548                                                NaN  akitilop  \n14549                                                NaN  akitilop  \n14550                                                NaN  akitilop  \n14551                                                NaN  akitilop  \n\n[14552 rows x 13 columns]",
      "text/html": "<div>\n<style scoped>\n    .dataframe tbody tr th:only-of-type {\n        vertical-align: middle;\n    }\n\n    .dataframe tbody tr th {\n        vertical-align: top;\n    }\n\n    .dataframe thead th {\n        text-align: right;\n    }\n</style>\n<table border=\"1\" class=\"dataframe\">\n  <thead>\n    <tr style=\"text-align: right;\">\n      <th></th>\n      <th>id</th>\n      <th>date</th>\n      <th>views</th>\n      <th>reactions</th>\n      <th>to_id</th>\n      <th>fwd_from</th>\n      <th>message</th>\n      <th>type</th>\n      <th>duration</th>\n      <th>frw_from_title</th>\n      <th>frw_from_name</th>\n      <th>msg_entity</th>\n      <th>handle</th>\n    </tr>\n  </thead>\n  <tbody>\n    <tr>\n      <th>0</th>\n      <td>15377</td>\n      <td>2022-12-04 10:26:53+00:00</td>\n      <td>173.0</td>\n      <td>NaN</td>\n      <td>PeerChannel(channel_id=1109279145)</td>\n      <td>MessageFwdHeader(date=datetime.datetime(2022, ...</td>\n      <td>🚇БКЛ полноценно заработает уже в первом кварта...</td>\n      <td>photo</td>\n      <td>NaN</td>\n      <td>Дептранс Москвы</td>\n      <td>DtRoad</td>\n      <td>[&lt;telethon.tl.types.MessageEntityItalic object...</td>\n      <td>akitilop</td>\n    </tr>\n    <tr>\n      <th>1</th>\n      <td>15376</td>\n      <td>2022-12-03 19:32:06+00:00</td>\n      <td>528.0</td>\n      <td>NaN</td>\n      <td>PeerChannel(channel_id=1109279145)</td>\n      <td>NaN</td>\n      <td>Активисты «Бессмертного полка» возложили цветы...</td>\n      <td>photo</td>\n      <td>NaN</td>\n      <td>NaN</td>\n      <td>NaN</td>\n      <td>NaN</td>\n      <td>akitilop</td>\n    </tr>\n    <tr>\n      <th>2</th>\n      <td>15375</td>\n      <td>2022-12-03 18:56:42+00:00</td>\n      <td>512.0</td>\n      <td>NaN</td>\n      <td>PeerChannel(channel_id=1109279145)</td>\n      <td>NaN</td>\n      <td>Как всегда наши учёные расширяют границы возмо...</td>\n      <td>video</td>\n      <td>5.0</td>\n      <td>NaN</td>\n      <td>NaN</td>\n      <td>NaN</td>\n      <td>akitilop</td>\n    </tr>\n    <tr>\n      <th>3</th>\n      <td>15374</td>\n      <td>2022-12-02 19:27:06+00:00</td>\n      <td>644.0</td>\n      <td>NaN</td>\n      <td>PeerChannel(channel_id=1109279145)</td>\n      <td>NaN</td>\n      <td>Активисты общественных проектов и координаторы...</td>\n      <td>video</td>\n      <td>60.0</td>\n      <td>NaN</td>\n      <td>NaN</td>\n      <td>NaN</td>\n      <td>akitilop</td>\n    </tr>\n    <tr>\n      <th>4</th>\n      <td>15373</td>\n      <td>2022-12-02 18:58:20+00:00</td>\n      <td>705.0</td>\n      <td>NaN</td>\n      <td>PeerChannel(channel_id=1109279145)</td>\n      <td>NaN</td>\n      <td>В Лужниках состоялся Форум боевых искусств «Би...</td>\n      <td>video</td>\n      <td>5.0</td>\n      <td>NaN</td>\n      <td>NaN</td>\n      <td>NaN</td>\n      <td>akitilop</td>\n    </tr>\n    <tr>\n      <th>...</th>\n      <td>...</td>\n      <td>...</td>\n      <td>...</td>\n      <td>...</td>\n      <td>...</td>\n      <td>...</td>\n      <td>...</td>\n      <td>...</td>\n      <td>...</td>\n      <td>...</td>\n      <td>...</td>\n      <td>...</td>\n      <td>...</td>\n    </tr>\n    <tr>\n      <th>14547</th>\n      <td>5</td>\n      <td>2017-02-01 10:56:33+00:00</td>\n      <td>356.0</td>\n      <td>NaN</td>\n      <td>PeerChannel(channel_id=1109279145)</td>\n      <td>NaN</td>\n      <td>NaN</td>\n      <td>photo</td>\n      <td>NaN</td>\n      <td>NaN</td>\n      <td>NaN</td>\n      <td>NaN</td>\n      <td>akitilop</td>\n    </tr>\n    <tr>\n      <th>14548</th>\n      <td>4</td>\n      <td>2017-02-01 10:56:28+00:00</td>\n      <td>289.0</td>\n      <td>NaN</td>\n      <td>PeerChannel(channel_id=1109279145)</td>\n      <td>NaN</td>\n      <td>NaN</td>\n      <td>photo</td>\n      <td>NaN</td>\n      <td>NaN</td>\n      <td>NaN</td>\n      <td>NaN</td>\n      <td>akitilop</td>\n    </tr>\n    <tr>\n      <th>14549</th>\n      <td>3</td>\n      <td>2017-02-01 10:51:25+00:00</td>\n      <td>278.0</td>\n      <td>NaN</td>\n      <td>PeerChannel(channel_id=1109279145)</td>\n      <td>NaN</td>\n      <td>Приветствую вас мои маленькие любители политик...</td>\n      <td>text</td>\n      <td>NaN</td>\n      <td>NaN</td>\n      <td>NaN</td>\n      <td>NaN</td>\n      <td>akitilop</td>\n    </tr>\n    <tr>\n      <th>14550</th>\n      <td>2</td>\n      <td>2017-02-01 10:48:55+00:00</td>\n      <td>NaN</td>\n      <td>NaN</td>\n      <td>PeerChannel(channel_id=1109279145)</td>\n      <td>NaN</td>\n      <td>NaN</td>\n      <td>photo</td>\n      <td>NaN</td>\n      <td>NaN</td>\n      <td>NaN</td>\n      <td>NaN</td>\n      <td>akitilop</td>\n    </tr>\n    <tr>\n      <th>14551</th>\n      <td>1</td>\n      <td>2017-02-01 10:48:55+00:00</td>\n      <td>NaN</td>\n      <td>NaN</td>\n      <td>PeerChannel(channel_id=1109279145)</td>\n      <td>NaN</td>\n      <td>NaN</td>\n      <td>text</td>\n      <td>NaN</td>\n      <td>NaN</td>\n      <td>NaN</td>\n      <td>NaN</td>\n      <td>akitilop</td>\n    </tr>\n  </tbody>\n</table>\n<p>14552 rows × 13 columns</p>\n</div>"
     },
     "execution_count": 243,
     "metadata": {},
     "output_type": "execute_result"
    }
   ],
   "source": [
    "test_df = read_channel(channels[4])\n",
    "test_df"
   ],
   "metadata": {
    "collapsed": false,
    "pycharm": {
     "name": "#%%\n"
    }
   }
  },
  {
   "cell_type": "code",
   "execution_count": 150,
   "outputs": [
    {
     "data": {
      "text/plain": "'[<telethon.tl.types.MessageEntityItalic object at 0x153bef8e0>]'"
     },
     "execution_count": 150,
     "metadata": {},
     "output_type": "execute_result"
    }
   ],
   "source": [
    "test_df['msg_entity'][0]"
   ],
   "metadata": {
    "collapsed": false,
    "pycharm": {
     "name": "#%%\n"
    }
   }
  },
  {
   "cell_type": "code",
   "execution_count": 151,
   "outputs": [
    {
     "data": {
      "text/plain": "'MessageFwdHeader(date=datetime.datetime(2022, 12, 1, 6, 2, 15, tzinfo=datetime.timezone.utc), imported=False, from_id=PeerChannel(channel_id=1029095426), from_name=None, channel_post=21757, post_author=None, saved_from_peer=None, saved_from_msg_id=None, psa_type=None)'"
     },
     "execution_count": 151,
     "metadata": {},
     "output_type": "execute_result"
    }
   ],
   "source": [
    "test_df['fwd_from'][0]"
   ],
   "metadata": {
    "collapsed": false,
    "pycharm": {
     "name": "#%%\n"
    }
   }
  },
  {
   "cell_type": "code",
   "execution_count": 153,
   "outputs": [
    {
     "ename": "FileNotFoundError",
     "evalue": "[Errno 2] No such file or directory: './channels/DtRoad.csv'",
     "output_type": "error",
     "traceback": [
      "\u001B[1;31m---------------------------------------------------------------------------\u001B[0m",
      "\u001B[1;31mFileNotFoundError\u001B[0m                         Traceback (most recent call last)",
      "Cell \u001B[1;32mIn[153], line 1\u001B[0m\n\u001B[1;32m----> 1\u001B[0m test_df2 \u001B[38;5;241m=\u001B[39m \u001B[43mread_channel\u001B[49m\u001B[43m(\u001B[49m\u001B[43mtest_df\u001B[49m\u001B[43m[\u001B[49m\u001B[38;5;124;43m'\u001B[39;49m\u001B[38;5;124;43mfrw_from_name\u001B[39;49m\u001B[38;5;124;43m'\u001B[39;49m\u001B[43m]\u001B[49m\u001B[43m[\u001B[49m\u001B[38;5;241;43m0\u001B[39;49m\u001B[43m]\u001B[49m\u001B[38;5;241;43m+\u001B[39;49m\u001B[38;5;124;43m'\u001B[39;49m\u001B[38;5;124;43m.csv\u001B[39;49m\u001B[38;5;124;43m'\u001B[39;49m\u001B[43m)\u001B[49m\n\u001B[0;32m      2\u001B[0m test_df2\u001B[38;5;241m.\u001B[39mhead()\n",
      "Cell \u001B[1;32mIn[102], line 4\u001B[0m, in \u001B[0;36mread_channel\u001B[1;34m(filename)\u001B[0m\n\u001B[0;32m      2\u001B[0m \u001B[38;5;28;01mdef\u001B[39;00m \u001B[38;5;21mread_channel\u001B[39m(filename):\n\u001B[0;32m      3\u001B[0m     dtype_dict \u001B[38;5;241m=\u001B[39m {\u001B[38;5;124m'\u001B[39m\u001B[38;5;124mid\u001B[39m\u001B[38;5;124m'\u001B[39m: \u001B[38;5;124m'\u001B[39m\u001B[38;5;124mint64\u001B[39m\u001B[38;5;124m'\u001B[39m, \u001B[38;5;124m'\u001B[39m\u001B[38;5;124mviews\u001B[39m\u001B[38;5;124m'\u001B[39m: \u001B[38;5;124m'\u001B[39m\u001B[38;5;124mfloat64\u001B[39m\u001B[38;5;124m'\u001B[39m, \u001B[38;5;124m'\u001B[39m\u001B[38;5;124mmessage\u001B[39m\u001B[38;5;124m'\u001B[39m: \u001B[38;5;124m'\u001B[39m\u001B[38;5;124mstr\u001B[39m\u001B[38;5;124m'\u001B[39m}\n\u001B[1;32m----> 4\u001B[0m     df \u001B[38;5;241m=\u001B[39m \u001B[43mpd\u001B[49m\u001B[38;5;241;43m.\u001B[39;49m\u001B[43mread_csv\u001B[49m\u001B[43m(\u001B[49m\u001B[43mos\u001B[49m\u001B[38;5;241;43m.\u001B[39;49m\u001B[43mpath\u001B[49m\u001B[38;5;241;43m.\u001B[39;49m\u001B[43mjoin\u001B[49m\u001B[43m(\u001B[49m\u001B[43mINPUT_FOLDER\u001B[49m\u001B[43m,\u001B[49m\u001B[43m \u001B[49m\u001B[43mfilename\u001B[49m\u001B[43m)\u001B[49m\u001B[43m,\u001B[49m\u001B[43m \u001B[49m\u001B[43mindex_col\u001B[49m\u001B[38;5;241;43m=\u001B[39;49m\u001B[38;5;124;43m'\u001B[39;49m\u001B[38;5;124;43mUnnamed: 0\u001B[39;49m\u001B[38;5;124;43m'\u001B[39;49m\u001B[43m,\u001B[49m\u001B[43m \u001B[49m\u001B[43mdtype\u001B[49m\u001B[38;5;241;43m=\u001B[39;49m\u001B[43mdtype_dict\u001B[49m\u001B[43m,\u001B[49m\u001B[43m \u001B[49m\u001B[43mparse_dates\u001B[49m\u001B[38;5;241;43m=\u001B[39;49m\u001B[43m[\u001B[49m\u001B[38;5;124;43m'\u001B[39;49m\u001B[38;5;124;43mdate\u001B[39;49m\u001B[38;5;124;43m'\u001B[39;49m\u001B[43m]\u001B[49m\u001B[43m)\u001B[49m\n\u001B[0;32m      5\u001B[0m     df[\u001B[38;5;124m'\u001B[39m\u001B[38;5;124mhandle\u001B[39m\u001B[38;5;124m'\u001B[39m] \u001B[38;5;241m=\u001B[39m filename[:\u001B[38;5;241m-\u001B[39m\u001B[38;5;241m4\u001B[39m]\n\u001B[0;32m      6\u001B[0m     \u001B[38;5;28;01mreturn\u001B[39;00m df\n",
      "File \u001B[1;32m~\\University\\CSS\\final_project\\venv\\lib\\site-packages\\pandas\\io\\parsers\\readers.py:948\u001B[0m, in \u001B[0;36mread_csv\u001B[1;34m(filepath_or_buffer, sep, delimiter, header, names, index_col, usecols, dtype, engine, converters, true_values, false_values, skipinitialspace, skiprows, skipfooter, nrows, na_values, keep_default_na, na_filter, verbose, skip_blank_lines, parse_dates, infer_datetime_format, keep_date_col, date_parser, date_format, dayfirst, cache_dates, iterator, chunksize, compression, thousands, decimal, lineterminator, quotechar, quoting, doublequote, escapechar, comment, encoding, encoding_errors, dialect, on_bad_lines, delim_whitespace, low_memory, memory_map, float_precision, storage_options, dtype_backend)\u001B[0m\n\u001B[0;32m    935\u001B[0m kwds_defaults \u001B[38;5;241m=\u001B[39m _refine_defaults_read(\n\u001B[0;32m    936\u001B[0m     dialect,\n\u001B[0;32m    937\u001B[0m     delimiter,\n\u001B[1;32m   (...)\u001B[0m\n\u001B[0;32m    944\u001B[0m     dtype_backend\u001B[38;5;241m=\u001B[39mdtype_backend,\n\u001B[0;32m    945\u001B[0m )\n\u001B[0;32m    946\u001B[0m kwds\u001B[38;5;241m.\u001B[39mupdate(kwds_defaults)\n\u001B[1;32m--> 948\u001B[0m \u001B[38;5;28;01mreturn\u001B[39;00m \u001B[43m_read\u001B[49m\u001B[43m(\u001B[49m\u001B[43mfilepath_or_buffer\u001B[49m\u001B[43m,\u001B[49m\u001B[43m \u001B[49m\u001B[43mkwds\u001B[49m\u001B[43m)\u001B[49m\n",
      "File \u001B[1;32m~\\University\\CSS\\final_project\\venv\\lib\\site-packages\\pandas\\io\\parsers\\readers.py:611\u001B[0m, in \u001B[0;36m_read\u001B[1;34m(filepath_or_buffer, kwds)\u001B[0m\n\u001B[0;32m    608\u001B[0m _validate_names(kwds\u001B[38;5;241m.\u001B[39mget(\u001B[38;5;124m\"\u001B[39m\u001B[38;5;124mnames\u001B[39m\u001B[38;5;124m\"\u001B[39m, \u001B[38;5;28;01mNone\u001B[39;00m))\n\u001B[0;32m    610\u001B[0m \u001B[38;5;66;03m# Create the parser.\u001B[39;00m\n\u001B[1;32m--> 611\u001B[0m parser \u001B[38;5;241m=\u001B[39m TextFileReader(filepath_or_buffer, \u001B[38;5;241m*\u001B[39m\u001B[38;5;241m*\u001B[39mkwds)\n\u001B[0;32m    613\u001B[0m \u001B[38;5;28;01mif\u001B[39;00m chunksize \u001B[38;5;129;01mor\u001B[39;00m iterator:\n\u001B[0;32m    614\u001B[0m     \u001B[38;5;28;01mreturn\u001B[39;00m parser\n",
      "File \u001B[1;32m~\\University\\CSS\\final_project\\venv\\lib\\site-packages\\pandas\\io\\parsers\\readers.py:1448\u001B[0m, in \u001B[0;36mTextFileReader.__init__\u001B[1;34m(self, f, engine, **kwds)\u001B[0m\n\u001B[0;32m   1445\u001B[0m     \u001B[38;5;28mself\u001B[39m\u001B[38;5;241m.\u001B[39moptions[\u001B[38;5;124m\"\u001B[39m\u001B[38;5;124mhas_index_names\u001B[39m\u001B[38;5;124m\"\u001B[39m] \u001B[38;5;241m=\u001B[39m kwds[\u001B[38;5;124m\"\u001B[39m\u001B[38;5;124mhas_index_names\u001B[39m\u001B[38;5;124m\"\u001B[39m]\n\u001B[0;32m   1447\u001B[0m \u001B[38;5;28mself\u001B[39m\u001B[38;5;241m.\u001B[39mhandles: IOHandles \u001B[38;5;241m|\u001B[39m \u001B[38;5;28;01mNone\u001B[39;00m \u001B[38;5;241m=\u001B[39m \u001B[38;5;28;01mNone\u001B[39;00m\n\u001B[1;32m-> 1448\u001B[0m \u001B[38;5;28mself\u001B[39m\u001B[38;5;241m.\u001B[39m_engine \u001B[38;5;241m=\u001B[39m \u001B[38;5;28;43mself\u001B[39;49m\u001B[38;5;241;43m.\u001B[39;49m\u001B[43m_make_engine\u001B[49m\u001B[43m(\u001B[49m\u001B[43mf\u001B[49m\u001B[43m,\u001B[49m\u001B[43m \u001B[49m\u001B[38;5;28;43mself\u001B[39;49m\u001B[38;5;241;43m.\u001B[39;49m\u001B[43mengine\u001B[49m\u001B[43m)\u001B[49m\n",
      "File \u001B[1;32m~\\University\\CSS\\final_project\\venv\\lib\\site-packages\\pandas\\io\\parsers\\readers.py:1705\u001B[0m, in \u001B[0;36mTextFileReader._make_engine\u001B[1;34m(self, f, engine)\u001B[0m\n\u001B[0;32m   1703\u001B[0m     \u001B[38;5;28;01mif\u001B[39;00m \u001B[38;5;124m\"\u001B[39m\u001B[38;5;124mb\u001B[39m\u001B[38;5;124m\"\u001B[39m \u001B[38;5;129;01mnot\u001B[39;00m \u001B[38;5;129;01min\u001B[39;00m mode:\n\u001B[0;32m   1704\u001B[0m         mode \u001B[38;5;241m+\u001B[39m\u001B[38;5;241m=\u001B[39m \u001B[38;5;124m\"\u001B[39m\u001B[38;5;124mb\u001B[39m\u001B[38;5;124m\"\u001B[39m\n\u001B[1;32m-> 1705\u001B[0m \u001B[38;5;28mself\u001B[39m\u001B[38;5;241m.\u001B[39mhandles \u001B[38;5;241m=\u001B[39m \u001B[43mget_handle\u001B[49m\u001B[43m(\u001B[49m\n\u001B[0;32m   1706\u001B[0m \u001B[43m    \u001B[49m\u001B[43mf\u001B[49m\u001B[43m,\u001B[49m\n\u001B[0;32m   1707\u001B[0m \u001B[43m    \u001B[49m\u001B[43mmode\u001B[49m\u001B[43m,\u001B[49m\n\u001B[0;32m   1708\u001B[0m \u001B[43m    \u001B[49m\u001B[43mencoding\u001B[49m\u001B[38;5;241;43m=\u001B[39;49m\u001B[38;5;28;43mself\u001B[39;49m\u001B[38;5;241;43m.\u001B[39;49m\u001B[43moptions\u001B[49m\u001B[38;5;241;43m.\u001B[39;49m\u001B[43mget\u001B[49m\u001B[43m(\u001B[49m\u001B[38;5;124;43m\"\u001B[39;49m\u001B[38;5;124;43mencoding\u001B[39;49m\u001B[38;5;124;43m\"\u001B[39;49m\u001B[43m,\u001B[49m\u001B[43m \u001B[49m\u001B[38;5;28;43;01mNone\u001B[39;49;00m\u001B[43m)\u001B[49m\u001B[43m,\u001B[49m\n\u001B[0;32m   1709\u001B[0m \u001B[43m    \u001B[49m\u001B[43mcompression\u001B[49m\u001B[38;5;241;43m=\u001B[39;49m\u001B[38;5;28;43mself\u001B[39;49m\u001B[38;5;241;43m.\u001B[39;49m\u001B[43moptions\u001B[49m\u001B[38;5;241;43m.\u001B[39;49m\u001B[43mget\u001B[49m\u001B[43m(\u001B[49m\u001B[38;5;124;43m\"\u001B[39;49m\u001B[38;5;124;43mcompression\u001B[39;49m\u001B[38;5;124;43m\"\u001B[39;49m\u001B[43m,\u001B[49m\u001B[43m \u001B[49m\u001B[38;5;28;43;01mNone\u001B[39;49;00m\u001B[43m)\u001B[49m\u001B[43m,\u001B[49m\n\u001B[0;32m   1710\u001B[0m \u001B[43m    \u001B[49m\u001B[43mmemory_map\u001B[49m\u001B[38;5;241;43m=\u001B[39;49m\u001B[38;5;28;43mself\u001B[39;49m\u001B[38;5;241;43m.\u001B[39;49m\u001B[43moptions\u001B[49m\u001B[38;5;241;43m.\u001B[39;49m\u001B[43mget\u001B[49m\u001B[43m(\u001B[49m\u001B[38;5;124;43m\"\u001B[39;49m\u001B[38;5;124;43mmemory_map\u001B[39;49m\u001B[38;5;124;43m\"\u001B[39;49m\u001B[43m,\u001B[49m\u001B[43m \u001B[49m\u001B[38;5;28;43;01mFalse\u001B[39;49;00m\u001B[43m)\u001B[49m\u001B[43m,\u001B[49m\n\u001B[0;32m   1711\u001B[0m \u001B[43m    \u001B[49m\u001B[43mis_text\u001B[49m\u001B[38;5;241;43m=\u001B[39;49m\u001B[43mis_text\u001B[49m\u001B[43m,\u001B[49m\n\u001B[0;32m   1712\u001B[0m \u001B[43m    \u001B[49m\u001B[43merrors\u001B[49m\u001B[38;5;241;43m=\u001B[39;49m\u001B[38;5;28;43mself\u001B[39;49m\u001B[38;5;241;43m.\u001B[39;49m\u001B[43moptions\u001B[49m\u001B[38;5;241;43m.\u001B[39;49m\u001B[43mget\u001B[49m\u001B[43m(\u001B[49m\u001B[38;5;124;43m\"\u001B[39;49m\u001B[38;5;124;43mencoding_errors\u001B[39;49m\u001B[38;5;124;43m\"\u001B[39;49m\u001B[43m,\u001B[49m\u001B[43m \u001B[49m\u001B[38;5;124;43m\"\u001B[39;49m\u001B[38;5;124;43mstrict\u001B[39;49m\u001B[38;5;124;43m\"\u001B[39;49m\u001B[43m)\u001B[49m\u001B[43m,\u001B[49m\n\u001B[0;32m   1713\u001B[0m \u001B[43m    \u001B[49m\u001B[43mstorage_options\u001B[49m\u001B[38;5;241;43m=\u001B[39;49m\u001B[38;5;28;43mself\u001B[39;49m\u001B[38;5;241;43m.\u001B[39;49m\u001B[43moptions\u001B[49m\u001B[38;5;241;43m.\u001B[39;49m\u001B[43mget\u001B[49m\u001B[43m(\u001B[49m\u001B[38;5;124;43m\"\u001B[39;49m\u001B[38;5;124;43mstorage_options\u001B[39;49m\u001B[38;5;124;43m\"\u001B[39;49m\u001B[43m,\u001B[49m\u001B[43m \u001B[49m\u001B[38;5;28;43;01mNone\u001B[39;49;00m\u001B[43m)\u001B[49m\u001B[43m,\u001B[49m\n\u001B[0;32m   1714\u001B[0m \u001B[43m\u001B[49m\u001B[43m)\u001B[49m\n\u001B[0;32m   1715\u001B[0m \u001B[38;5;28;01massert\u001B[39;00m \u001B[38;5;28mself\u001B[39m\u001B[38;5;241m.\u001B[39mhandles \u001B[38;5;129;01mis\u001B[39;00m \u001B[38;5;129;01mnot\u001B[39;00m \u001B[38;5;28;01mNone\u001B[39;00m\n\u001B[0;32m   1716\u001B[0m f \u001B[38;5;241m=\u001B[39m \u001B[38;5;28mself\u001B[39m\u001B[38;5;241m.\u001B[39mhandles\u001B[38;5;241m.\u001B[39mhandle\n",
      "File \u001B[1;32m~\\University\\CSS\\final_project\\venv\\lib\\site-packages\\pandas\\io\\common.py:863\u001B[0m, in \u001B[0;36mget_handle\u001B[1;34m(path_or_buf, mode, encoding, compression, memory_map, is_text, errors, storage_options)\u001B[0m\n\u001B[0;32m    858\u001B[0m \u001B[38;5;28;01melif\u001B[39;00m \u001B[38;5;28misinstance\u001B[39m(handle, \u001B[38;5;28mstr\u001B[39m):\n\u001B[0;32m    859\u001B[0m     \u001B[38;5;66;03m# Check whether the filename is to be opened in binary mode.\u001B[39;00m\n\u001B[0;32m    860\u001B[0m     \u001B[38;5;66;03m# Binary mode does not support 'encoding' and 'newline'.\u001B[39;00m\n\u001B[0;32m    861\u001B[0m     \u001B[38;5;28;01mif\u001B[39;00m ioargs\u001B[38;5;241m.\u001B[39mencoding \u001B[38;5;129;01mand\u001B[39;00m \u001B[38;5;124m\"\u001B[39m\u001B[38;5;124mb\u001B[39m\u001B[38;5;124m\"\u001B[39m \u001B[38;5;129;01mnot\u001B[39;00m \u001B[38;5;129;01min\u001B[39;00m ioargs\u001B[38;5;241m.\u001B[39mmode:\n\u001B[0;32m    862\u001B[0m         \u001B[38;5;66;03m# Encoding\u001B[39;00m\n\u001B[1;32m--> 863\u001B[0m         handle \u001B[38;5;241m=\u001B[39m \u001B[38;5;28;43mopen\u001B[39;49m\u001B[43m(\u001B[49m\n\u001B[0;32m    864\u001B[0m \u001B[43m            \u001B[49m\u001B[43mhandle\u001B[49m\u001B[43m,\u001B[49m\n\u001B[0;32m    865\u001B[0m \u001B[43m            \u001B[49m\u001B[43mioargs\u001B[49m\u001B[38;5;241;43m.\u001B[39;49m\u001B[43mmode\u001B[49m\u001B[43m,\u001B[49m\n\u001B[0;32m    866\u001B[0m \u001B[43m            \u001B[49m\u001B[43mencoding\u001B[49m\u001B[38;5;241;43m=\u001B[39;49m\u001B[43mioargs\u001B[49m\u001B[38;5;241;43m.\u001B[39;49m\u001B[43mencoding\u001B[49m\u001B[43m,\u001B[49m\n\u001B[0;32m    867\u001B[0m \u001B[43m            \u001B[49m\u001B[43merrors\u001B[49m\u001B[38;5;241;43m=\u001B[39;49m\u001B[43merrors\u001B[49m\u001B[43m,\u001B[49m\n\u001B[0;32m    868\u001B[0m \u001B[43m            \u001B[49m\u001B[43mnewline\u001B[49m\u001B[38;5;241;43m=\u001B[39;49m\u001B[38;5;124;43m\"\u001B[39;49m\u001B[38;5;124;43m\"\u001B[39;49m\u001B[43m,\u001B[49m\n\u001B[0;32m    869\u001B[0m \u001B[43m        \u001B[49m\u001B[43m)\u001B[49m\n\u001B[0;32m    870\u001B[0m     \u001B[38;5;28;01melse\u001B[39;00m:\n\u001B[0;32m    871\u001B[0m         \u001B[38;5;66;03m# Binary mode\u001B[39;00m\n\u001B[0;32m    872\u001B[0m         handle \u001B[38;5;241m=\u001B[39m \u001B[38;5;28mopen\u001B[39m(handle, ioargs\u001B[38;5;241m.\u001B[39mmode)\n",
      "\u001B[1;31mFileNotFoundError\u001B[0m: [Errno 2] No such file or directory: './channels/DtRoad.csv'"
     ]
    }
   ],
   "source": [
    "test_df2 = read_channel(test_df['frw_from_name'][0]+'.csv')\n",
    "test_df2.head()"
   ],
   "metadata": {
    "collapsed": false,
    "pycharm": {
     "name": "#%%\n"
    }
   }
  },
  {
   "cell_type": "code",
   "execution_count": 155,
   "outputs": [
    {
     "data": {
      "text/plain": "'MessageFwdHeader(date=datetime.datetime(2022, 12, 2, 14, 37, 58, tzinfo=datetime.timezone.utc), imported=False, from_id=PeerChannel(channel_id=1394050290), from_name=None, channel_post=142568, post_author=None, saved_from_peer=None, saved_from_msg_id=None, psa_type=None)'"
     },
     "execution_count": 155,
     "metadata": {},
     "output_type": "execute_result"
    }
   ],
   "source": [
    "test_df['fwd_from'][6]"
   ],
   "metadata": {
    "collapsed": false,
    "pycharm": {
     "name": "#%%\n"
    }
   }
  },
  {
   "cell_type": "code",
   "execution_count": 154,
   "outputs": [
    {
     "data": {
      "text/plain": "       id                      date     views  reactions  \\\n0  144036 2022-12-20 09:25:01+00:00   20367.0        NaN   \n1  144035 2022-12-20 09:20:12+00:00   49853.0        NaN   \n2  144034 2022-12-20 09:15:01+00:00   69298.0        NaN   \n3  144033 2022-12-20 09:10:16+00:00   87720.0        NaN   \n4  144032 2022-12-20 09:00:38+00:00  113195.0        NaN   \n\n                                to_id fwd_from  \\\n0  PeerChannel(channel_id=1394050290)      NaN   \n1  PeerChannel(channel_id=1394050290)      NaN   \n2  PeerChannel(channel_id=1394050290)      NaN   \n3  PeerChannel(channel_id=1394050290)      NaN   \n4  PeerChannel(channel_id=1394050290)      NaN   \n\n                                             message  type  duration  \\\n0  ❗️Смертность сельского населения из-за алкогол...  text       NaN   \n1  ❗️Число детей-инвалидов в России с 2019 года в...  text       NaN   \n2  ❗️Госдума во II чтении приняла законопроект о ...  text       NaN   \n3  Украинский министр цифровой трансформации Миха...  text       NaN   \n4  Госдума приняла закон, устанавливающий огранич...  text       NaN   \n\n       handle  \n0  bbbreaking  \n1  bbbreaking  \n2  bbbreaking  \n3  bbbreaking  \n4  bbbreaking  ",
      "text/html": "<div>\n<style scoped>\n    .dataframe tbody tr th:only-of-type {\n        vertical-align: middle;\n    }\n\n    .dataframe tbody tr th {\n        vertical-align: top;\n    }\n\n    .dataframe thead th {\n        text-align: right;\n    }\n</style>\n<table border=\"1\" class=\"dataframe\">\n  <thead>\n    <tr style=\"text-align: right;\">\n      <th></th>\n      <th>id</th>\n      <th>date</th>\n      <th>views</th>\n      <th>reactions</th>\n      <th>to_id</th>\n      <th>fwd_from</th>\n      <th>message</th>\n      <th>type</th>\n      <th>duration</th>\n      <th>handle</th>\n    </tr>\n  </thead>\n  <tbody>\n    <tr>\n      <th>0</th>\n      <td>144036</td>\n      <td>2022-12-20 09:25:01+00:00</td>\n      <td>20367.0</td>\n      <td>NaN</td>\n      <td>PeerChannel(channel_id=1394050290)</td>\n      <td>NaN</td>\n      <td>❗️Смертность сельского населения из-за алкогол...</td>\n      <td>text</td>\n      <td>NaN</td>\n      <td>bbbreaking</td>\n    </tr>\n    <tr>\n      <th>1</th>\n      <td>144035</td>\n      <td>2022-12-20 09:20:12+00:00</td>\n      <td>49853.0</td>\n      <td>NaN</td>\n      <td>PeerChannel(channel_id=1394050290)</td>\n      <td>NaN</td>\n      <td>❗️Число детей-инвалидов в России с 2019 года в...</td>\n      <td>text</td>\n      <td>NaN</td>\n      <td>bbbreaking</td>\n    </tr>\n    <tr>\n      <th>2</th>\n      <td>144034</td>\n      <td>2022-12-20 09:15:01+00:00</td>\n      <td>69298.0</td>\n      <td>NaN</td>\n      <td>PeerChannel(channel_id=1394050290)</td>\n      <td>NaN</td>\n      <td>❗️Госдума во II чтении приняла законопроект о ...</td>\n      <td>text</td>\n      <td>NaN</td>\n      <td>bbbreaking</td>\n    </tr>\n    <tr>\n      <th>3</th>\n      <td>144033</td>\n      <td>2022-12-20 09:10:16+00:00</td>\n      <td>87720.0</td>\n      <td>NaN</td>\n      <td>PeerChannel(channel_id=1394050290)</td>\n      <td>NaN</td>\n      <td>Украинский министр цифровой трансформации Миха...</td>\n      <td>text</td>\n      <td>NaN</td>\n      <td>bbbreaking</td>\n    </tr>\n    <tr>\n      <th>4</th>\n      <td>144032</td>\n      <td>2022-12-20 09:00:38+00:00</td>\n      <td>113195.0</td>\n      <td>NaN</td>\n      <td>PeerChannel(channel_id=1394050290)</td>\n      <td>NaN</td>\n      <td>Госдума приняла закон, устанавливающий огранич...</td>\n      <td>text</td>\n      <td>NaN</td>\n      <td>bbbreaking</td>\n    </tr>\n  </tbody>\n</table>\n</div>"
     },
     "execution_count": 154,
     "metadata": {},
     "output_type": "execute_result"
    }
   ],
   "source": [
    "test_df2 = read_channel(test_df['frw_from_name'][6]+'.csv')\n",
    "test_df2.head()"
   ],
   "metadata": {
    "collapsed": false,
    "pycharm": {
     "name": "#%%\n"
    }
   }
  },
  {
   "cell_type": "code",
   "execution_count": 156,
   "outputs": [
    {
     "data": {
      "text/plain": "'PeerChannel(channel_id=1394050290)'"
     },
     "execution_count": 156,
     "metadata": {},
     "output_type": "execute_result"
    }
   ],
   "source": [
    "test_df2['to_id'][0]"
   ],
   "metadata": {
    "collapsed": false,
    "pycharm": {
     "name": "#%%\n"
    }
   }
  },
  {
   "cell_type": "code",
   "execution_count": 234,
   "outputs": [],
   "source": [
    "# from dateutil import parser\n",
    "def process_fwd_from(row):\n",
    "    if pd.isna(row['fwd_from']):\n",
    "        return row\n",
    "\n",
    "    # Define patterns to extract datetime, channel_id, and channel_post\n",
    "    datetime_pattern = r'date=datetime\\.datetime\\((.*?)\\)'\n",
    "    channel_id_pattern = r'channel_id=(\\d+)'\n",
    "    channel_post_pattern = r'channel_post=(\\d+)'\n",
    "\n",
    "    # Use re.search to find matches in the input string\n",
    "    datetime_match = re.search(datetime_pattern, row['fwd_from'])\n",
    "    channel_id_match = re.search(channel_id_pattern, row['fwd_from'])\n",
    "    channel_post_match = re.search(channel_post_pattern, row['fwd_from'])\n",
    "\n",
    "    row['fwd_from_id'] = pd.NA\n",
    "    row['fwd_mes_id'] = pd.NA\n",
    "\n",
    "\n",
    "    # Extract values if matches are found\n",
    "    if datetime_match:\n",
    "        datetime_str = datetime_match.group(1)\n",
    "        try:\n",
    "            dt = datetime.strptime(datetime_str, '%Y, %m, %d, %H, %M, %S, tzinfo=datetime.timezone.utc')\n",
    "            # dt = parser.parse(datetime_str)\n",
    "            # row['datetime'] = dt\n",
    "        except ValueError as e:\n",
    "            try:\n",
    "                dt = datetime.strptime(datetime_str, '%Y, %m, %d, %H, %M, tzinfo=datetime.timezone.utc')\n",
    "                # print(datetime_str, dt)\n",
    "            except ValueError as e:\n",
    "                dt = np.NaN\n",
    "                print(row)\n",
    "                print(row['fwd_from'])\n",
    "        row['fwd_date'] = dt\n",
    "\n",
    "    if channel_id_match:\n",
    "        # channel_id = channel_id_match.group(1)\n",
    "        row['fwd_from_id'] = np.dtype('object').type(channel_id_match.group(1))\n",
    "\n",
    "    if channel_post_match:\n",
    "        # channel_post = channel_post_match.group(1)\n",
    "        row['fwd_mes_id'] = np.dtype('object').type(channel_post_match.group(1))\n",
    "\n",
    "    return row"
   ],
   "metadata": {
    "collapsed": false,
    "pycharm": {
     "name": "#%%\n"
    }
   }
  },
  {
   "cell_type": "code",
   "execution_count": 227,
   "outputs": [
    {
     "data": {
      "text/plain": "                           date  duration frw_from_name   frw_from_title  \\\n0     2022-12-04 10:26:53+00:00       NaN        DtRoad  Дептранс Москвы   \n1     2022-12-03 19:32:06+00:00       NaN           NaN              NaN   \n2     2022-12-03 18:56:42+00:00       5.0           NaN              NaN   \n3     2022-12-02 19:27:06+00:00      60.0           NaN              NaN   \n4     2022-12-02 18:58:20+00:00       5.0           NaN              NaN   \n...                         ...       ...           ...              ...   \n14547 2017-02-01 10:56:33+00:00       NaN           NaN              NaN   \n14548 2017-02-01 10:56:28+00:00       NaN           NaN              NaN   \n14549 2017-02-01 10:51:25+00:00       NaN           NaN              NaN   \n14550 2017-02-01 10:48:55+00:00       NaN           NaN              NaN   \n14551 2017-02-01 10:48:55+00:00       NaN           NaN              NaN   \n\n                 fwd_date                                           fwd_from  \\\n0     2022-12-01 06:02:15  MessageFwdHeader(date=datetime.datetime(2022, ...   \n1                     NaT                                                NaN   \n2                     NaT                                                NaN   \n3                     NaT                                                NaN   \n4                     NaT                                                NaN   \n...                   ...                                                ...   \n14547                 NaT                                                NaN   \n14548                 NaT                                                NaN   \n14549                 NaT                                                NaN   \n14550                 NaT                                                NaN   \n14551                 NaT                                                NaN   \n\n      fwd_from_id fwd_mes_id    handle     id  \\\n0             NaN        NaN  akitilop  15377   \n1             NaN        NaN  akitilop  15376   \n2             NaN        NaN  akitilop  15375   \n3             NaN        NaN  akitilop  15374   \n4             NaN        NaN  akitilop  15373   \n...           ...        ...       ...    ...   \n14547         NaN        NaN  akitilop      5   \n14548         NaN        NaN  akitilop      4   \n14549         NaN        NaN  akitilop      3   \n14550         NaN        NaN  akitilop      2   \n14551         NaN        NaN  akitilop      1   \n\n                                                 message  \\\n0      🚇БКЛ полноценно заработает уже в первом кварта...   \n1      Активисты «Бессмертного полка» возложили цветы...   \n2      Как всегда наши учёные расширяют границы возмо...   \n3      Активисты общественных проектов и координаторы...   \n4      В Лужниках состоялся Форум боевых искусств «Би...   \n...                                                  ...   \n14547                                                NaN   \n14548                                                NaN   \n14549  Приветствую вас мои маленькие любители политик...   \n14550                                                NaN   \n14551                                                NaN   \n\n                                              msg_entity  reactions  \\\n0      [<telethon.tl.types.MessageEntityItalic object...        NaN   \n1                                                    NaN        NaN   \n2                                                    NaN        NaN   \n3                                                    NaN        NaN   \n4                                                    NaN        NaN   \n...                                                  ...        ...   \n14547                                                NaN        NaN   \n14548                                                NaN        NaN   \n14549                                                NaN        NaN   \n14550                                                NaN        NaN   \n14551                                                NaN        NaN   \n\n                                    to_id   type  views  \n0      PeerChannel(channel_id=1109279145)  photo  173.0  \n1      PeerChannel(channel_id=1109279145)  photo  528.0  \n2      PeerChannel(channel_id=1109279145)  video  512.0  \n3      PeerChannel(channel_id=1109279145)  video  644.0  \n4      PeerChannel(channel_id=1109279145)  video  705.0  \n...                                   ...    ...    ...  \n14547  PeerChannel(channel_id=1109279145)  photo  356.0  \n14548  PeerChannel(channel_id=1109279145)  photo  289.0  \n14549  PeerChannel(channel_id=1109279145)   text  278.0  \n14550  PeerChannel(channel_id=1109279145)  photo    NaN  \n14551  PeerChannel(channel_id=1109279145)   text    NaN  \n\n[14552 rows x 16 columns]",
      "text/html": "<div>\n<style scoped>\n    .dataframe tbody tr th:only-of-type {\n        vertical-align: middle;\n    }\n\n    .dataframe tbody tr th {\n        vertical-align: top;\n    }\n\n    .dataframe thead th {\n        text-align: right;\n    }\n</style>\n<table border=\"1\" class=\"dataframe\">\n  <thead>\n    <tr style=\"text-align: right;\">\n      <th></th>\n      <th>date</th>\n      <th>duration</th>\n      <th>frw_from_name</th>\n      <th>frw_from_title</th>\n      <th>fwd_date</th>\n      <th>fwd_from</th>\n      <th>fwd_from_id</th>\n      <th>fwd_mes_id</th>\n      <th>handle</th>\n      <th>id</th>\n      <th>message</th>\n      <th>msg_entity</th>\n      <th>reactions</th>\n      <th>to_id</th>\n      <th>type</th>\n      <th>views</th>\n    </tr>\n  </thead>\n  <tbody>\n    <tr>\n      <th>0</th>\n      <td>2022-12-04 10:26:53+00:00</td>\n      <td>NaN</td>\n      <td>DtRoad</td>\n      <td>Дептранс Москвы</td>\n      <td>2022-12-01 06:02:15</td>\n      <td>MessageFwdHeader(date=datetime.datetime(2022, ...</td>\n      <td>NaN</td>\n      <td>NaN</td>\n      <td>akitilop</td>\n      <td>15377</td>\n      <td>🚇БКЛ полноценно заработает уже в первом кварта...</td>\n      <td>[&lt;telethon.tl.types.MessageEntityItalic object...</td>\n      <td>NaN</td>\n      <td>PeerChannel(channel_id=1109279145)</td>\n      <td>photo</td>\n      <td>173.0</td>\n    </tr>\n    <tr>\n      <th>1</th>\n      <td>2022-12-03 19:32:06+00:00</td>\n      <td>NaN</td>\n      <td>NaN</td>\n      <td>NaN</td>\n      <td>NaT</td>\n      <td>NaN</td>\n      <td>NaN</td>\n      <td>NaN</td>\n      <td>akitilop</td>\n      <td>15376</td>\n      <td>Активисты «Бессмертного полка» возложили цветы...</td>\n      <td>NaN</td>\n      <td>NaN</td>\n      <td>PeerChannel(channel_id=1109279145)</td>\n      <td>photo</td>\n      <td>528.0</td>\n    </tr>\n    <tr>\n      <th>2</th>\n      <td>2022-12-03 18:56:42+00:00</td>\n      <td>5.0</td>\n      <td>NaN</td>\n      <td>NaN</td>\n      <td>NaT</td>\n      <td>NaN</td>\n      <td>NaN</td>\n      <td>NaN</td>\n      <td>akitilop</td>\n      <td>15375</td>\n      <td>Как всегда наши учёные расширяют границы возмо...</td>\n      <td>NaN</td>\n      <td>NaN</td>\n      <td>PeerChannel(channel_id=1109279145)</td>\n      <td>video</td>\n      <td>512.0</td>\n    </tr>\n    <tr>\n      <th>3</th>\n      <td>2022-12-02 19:27:06+00:00</td>\n      <td>60.0</td>\n      <td>NaN</td>\n      <td>NaN</td>\n      <td>NaT</td>\n      <td>NaN</td>\n      <td>NaN</td>\n      <td>NaN</td>\n      <td>akitilop</td>\n      <td>15374</td>\n      <td>Активисты общественных проектов и координаторы...</td>\n      <td>NaN</td>\n      <td>NaN</td>\n      <td>PeerChannel(channel_id=1109279145)</td>\n      <td>video</td>\n      <td>644.0</td>\n    </tr>\n    <tr>\n      <th>4</th>\n      <td>2022-12-02 18:58:20+00:00</td>\n      <td>5.0</td>\n      <td>NaN</td>\n      <td>NaN</td>\n      <td>NaT</td>\n      <td>NaN</td>\n      <td>NaN</td>\n      <td>NaN</td>\n      <td>akitilop</td>\n      <td>15373</td>\n      <td>В Лужниках состоялся Форум боевых искусств «Би...</td>\n      <td>NaN</td>\n      <td>NaN</td>\n      <td>PeerChannel(channel_id=1109279145)</td>\n      <td>video</td>\n      <td>705.0</td>\n    </tr>\n    <tr>\n      <th>...</th>\n      <td>...</td>\n      <td>...</td>\n      <td>...</td>\n      <td>...</td>\n      <td>...</td>\n      <td>...</td>\n      <td>...</td>\n      <td>...</td>\n      <td>...</td>\n      <td>...</td>\n      <td>...</td>\n      <td>...</td>\n      <td>...</td>\n      <td>...</td>\n      <td>...</td>\n      <td>...</td>\n    </tr>\n    <tr>\n      <th>14547</th>\n      <td>2017-02-01 10:56:33+00:00</td>\n      <td>NaN</td>\n      <td>NaN</td>\n      <td>NaN</td>\n      <td>NaT</td>\n      <td>NaN</td>\n      <td>NaN</td>\n      <td>NaN</td>\n      <td>akitilop</td>\n      <td>5</td>\n      <td>NaN</td>\n      <td>NaN</td>\n      <td>NaN</td>\n      <td>PeerChannel(channel_id=1109279145)</td>\n      <td>photo</td>\n      <td>356.0</td>\n    </tr>\n    <tr>\n      <th>14548</th>\n      <td>2017-02-01 10:56:28+00:00</td>\n      <td>NaN</td>\n      <td>NaN</td>\n      <td>NaN</td>\n      <td>NaT</td>\n      <td>NaN</td>\n      <td>NaN</td>\n      <td>NaN</td>\n      <td>akitilop</td>\n      <td>4</td>\n      <td>NaN</td>\n      <td>NaN</td>\n      <td>NaN</td>\n      <td>PeerChannel(channel_id=1109279145)</td>\n      <td>photo</td>\n      <td>289.0</td>\n    </tr>\n    <tr>\n      <th>14549</th>\n      <td>2017-02-01 10:51:25+00:00</td>\n      <td>NaN</td>\n      <td>NaN</td>\n      <td>NaN</td>\n      <td>NaT</td>\n      <td>NaN</td>\n      <td>NaN</td>\n      <td>NaN</td>\n      <td>akitilop</td>\n      <td>3</td>\n      <td>Приветствую вас мои маленькие любители политик...</td>\n      <td>NaN</td>\n      <td>NaN</td>\n      <td>PeerChannel(channel_id=1109279145)</td>\n      <td>text</td>\n      <td>278.0</td>\n    </tr>\n    <tr>\n      <th>14550</th>\n      <td>2017-02-01 10:48:55+00:00</td>\n      <td>NaN</td>\n      <td>NaN</td>\n      <td>NaN</td>\n      <td>NaT</td>\n      <td>NaN</td>\n      <td>NaN</td>\n      <td>NaN</td>\n      <td>akitilop</td>\n      <td>2</td>\n      <td>NaN</td>\n      <td>NaN</td>\n      <td>NaN</td>\n      <td>PeerChannel(channel_id=1109279145)</td>\n      <td>photo</td>\n      <td>NaN</td>\n    </tr>\n    <tr>\n      <th>14551</th>\n      <td>2017-02-01 10:48:55+00:00</td>\n      <td>NaN</td>\n      <td>NaN</td>\n      <td>NaN</td>\n      <td>NaT</td>\n      <td>NaN</td>\n      <td>NaN</td>\n      <td>NaN</td>\n      <td>akitilop</td>\n      <td>1</td>\n      <td>NaN</td>\n      <td>NaN</td>\n      <td>NaN</td>\n      <td>PeerChannel(channel_id=1109279145)</td>\n      <td>text</td>\n      <td>NaN</td>\n    </tr>\n  </tbody>\n</table>\n<p>14552 rows × 16 columns</p>\n</div>"
     },
     "execution_count": 227,
     "metadata": {},
     "output_type": "execute_result"
    }
   ],
   "source": [
    "# test_df_proc[['fwd_from_id', 'fwd_mes_id']] = pd.NA\n",
    "# test_df_proc"
   ],
   "metadata": {
    "collapsed": false,
    "pycharm": {
     "name": "#%%\n"
    }
   }
  },
  {
   "cell_type": "code",
   "execution_count": 235,
   "outputs": [],
   "source": [
    "test_df_proc = test_df.apply(process_fwd_from, axis=1)"
   ],
   "metadata": {
    "collapsed": false,
    "pycharm": {
     "name": "#%%\n"
    }
   }
  },
  {
   "cell_type": "code",
   "execution_count": 236,
   "outputs": [
    {
     "data": {
      "text/plain": "                       date  duration frw_from_name   frw_from_title  \\\n0 2022-12-04 10:26:53+00:00       NaN        DtRoad  Дептранс Москвы   \n1 2022-12-03 19:32:06+00:00       NaN           NaN              NaN   \n2 2022-12-03 18:56:42+00:00       5.0           NaN              NaN   \n3 2022-12-02 19:27:06+00:00      60.0           NaN              NaN   \n4 2022-12-02 18:58:20+00:00       5.0           NaN              NaN   \n\n             fwd_date                                           fwd_from  \\\n0 2022-12-01 06:02:15  MessageFwdHeader(date=datetime.datetime(2022, ...   \n1                 NaT                                                NaN   \n2                 NaT                                                NaN   \n3                 NaT                                                NaN   \n4                 NaT                                                NaN   \n\n  fwd_from_id fwd_mes_id    handle     id  \\\n0  1029095426      21757  akitilop  15377   \n1         NaN        NaN  akitilop  15376   \n2         NaN        NaN  akitilop  15375   \n3         NaN        NaN  akitilop  15374   \n4         NaN        NaN  akitilop  15373   \n\n                                             message  \\\n0  🚇БКЛ полноценно заработает уже в первом кварта...   \n1  Активисты «Бессмертного полка» возложили цветы...   \n2  Как всегда наши учёные расширяют границы возмо...   \n3  Активисты общественных проектов и координаторы...   \n4  В Лужниках состоялся Форум боевых искусств «Би...   \n\n                                          msg_entity  reactions  \\\n0  [<telethon.tl.types.MessageEntityItalic object...        NaN   \n1                                                NaN        NaN   \n2                                                NaN        NaN   \n3                                                NaN        NaN   \n4                                                NaN        NaN   \n\n                                to_id   type  views  \n0  PeerChannel(channel_id=1109279145)  photo  173.0  \n1  PeerChannel(channel_id=1109279145)  photo  528.0  \n2  PeerChannel(channel_id=1109279145)  video  512.0  \n3  PeerChannel(channel_id=1109279145)  video  644.0  \n4  PeerChannel(channel_id=1109279145)  video  705.0  ",
      "text/html": "<div>\n<style scoped>\n    .dataframe tbody tr th:only-of-type {\n        vertical-align: middle;\n    }\n\n    .dataframe tbody tr th {\n        vertical-align: top;\n    }\n\n    .dataframe thead th {\n        text-align: right;\n    }\n</style>\n<table border=\"1\" class=\"dataframe\">\n  <thead>\n    <tr style=\"text-align: right;\">\n      <th></th>\n      <th>date</th>\n      <th>duration</th>\n      <th>frw_from_name</th>\n      <th>frw_from_title</th>\n      <th>fwd_date</th>\n      <th>fwd_from</th>\n      <th>fwd_from_id</th>\n      <th>fwd_mes_id</th>\n      <th>handle</th>\n      <th>id</th>\n      <th>message</th>\n      <th>msg_entity</th>\n      <th>reactions</th>\n      <th>to_id</th>\n      <th>type</th>\n      <th>views</th>\n    </tr>\n  </thead>\n  <tbody>\n    <tr>\n      <th>0</th>\n      <td>2022-12-04 10:26:53+00:00</td>\n      <td>NaN</td>\n      <td>DtRoad</td>\n      <td>Дептранс Москвы</td>\n      <td>2022-12-01 06:02:15</td>\n      <td>MessageFwdHeader(date=datetime.datetime(2022, ...</td>\n      <td>1029095426</td>\n      <td>21757</td>\n      <td>akitilop</td>\n      <td>15377</td>\n      <td>🚇БКЛ полноценно заработает уже в первом кварта...</td>\n      <td>[&lt;telethon.tl.types.MessageEntityItalic object...</td>\n      <td>NaN</td>\n      <td>PeerChannel(channel_id=1109279145)</td>\n      <td>photo</td>\n      <td>173.0</td>\n    </tr>\n    <tr>\n      <th>1</th>\n      <td>2022-12-03 19:32:06+00:00</td>\n      <td>NaN</td>\n      <td>NaN</td>\n      <td>NaN</td>\n      <td>NaT</td>\n      <td>NaN</td>\n      <td>NaN</td>\n      <td>NaN</td>\n      <td>akitilop</td>\n      <td>15376</td>\n      <td>Активисты «Бессмертного полка» возложили цветы...</td>\n      <td>NaN</td>\n      <td>NaN</td>\n      <td>PeerChannel(channel_id=1109279145)</td>\n      <td>photo</td>\n      <td>528.0</td>\n    </tr>\n    <tr>\n      <th>2</th>\n      <td>2022-12-03 18:56:42+00:00</td>\n      <td>5.0</td>\n      <td>NaN</td>\n      <td>NaN</td>\n      <td>NaT</td>\n      <td>NaN</td>\n      <td>NaN</td>\n      <td>NaN</td>\n      <td>akitilop</td>\n      <td>15375</td>\n      <td>Как всегда наши учёные расширяют границы возмо...</td>\n      <td>NaN</td>\n      <td>NaN</td>\n      <td>PeerChannel(channel_id=1109279145)</td>\n      <td>video</td>\n      <td>512.0</td>\n    </tr>\n    <tr>\n      <th>3</th>\n      <td>2022-12-02 19:27:06+00:00</td>\n      <td>60.0</td>\n      <td>NaN</td>\n      <td>NaN</td>\n      <td>NaT</td>\n      <td>NaN</td>\n      <td>NaN</td>\n      <td>NaN</td>\n      <td>akitilop</td>\n      <td>15374</td>\n      <td>Активисты общественных проектов и координаторы...</td>\n      <td>NaN</td>\n      <td>NaN</td>\n      <td>PeerChannel(channel_id=1109279145)</td>\n      <td>video</td>\n      <td>644.0</td>\n    </tr>\n    <tr>\n      <th>4</th>\n      <td>2022-12-02 18:58:20+00:00</td>\n      <td>5.0</td>\n      <td>NaN</td>\n      <td>NaN</td>\n      <td>NaT</td>\n      <td>NaN</td>\n      <td>NaN</td>\n      <td>NaN</td>\n      <td>akitilop</td>\n      <td>15373</td>\n      <td>В Лужниках состоялся Форум боевых искусств «Би...</td>\n      <td>NaN</td>\n      <td>NaN</td>\n      <td>PeerChannel(channel_id=1109279145)</td>\n      <td>video</td>\n      <td>705.0</td>\n    </tr>\n  </tbody>\n</table>\n</div>"
     },
     "execution_count": 236,
     "metadata": {},
     "output_type": "execute_result"
    }
   ],
   "source": [
    "test_df_proc.head()"
   ],
   "metadata": {
    "collapsed": false,
    "pycharm": {
     "name": "#%%\n"
    }
   }
  },
  {
   "cell_type": "code",
   "execution_count": 237,
   "outputs": [
    {
     "name": "stdout",
     "output_type": "stream",
     "text": [
      "<class 'pandas._libs.tslibs.timestamps.Timestamp'>\n",
      "<class 'str'>\n",
      "<class 'str'>\n"
     ]
    }
   ],
   "source": [
    "print(type(test_df_proc['fwd_date'][0]))\n",
    "print(type(test_df_proc['fwd_from_id'][0]))\n",
    "print(type(test_df_proc['fwd_mes_id'][0]))"
   ],
   "metadata": {
    "collapsed": false,
    "pycharm": {
     "name": "#%%\n"
    }
   }
  },
  {
   "cell_type": "code",
   "execution_count": 239,
   "outputs": [
    {
     "data": {
      "text/plain": "                       date  duration frw_from_name   frw_from_title  \\\n0 2022-12-04 10:26:53+00:00       NaN        DtRoad  Дептранс Москвы   \n1 2022-12-03 19:32:06+00:00       NaN           NaN              NaN   \n2 2022-12-03 18:56:42+00:00       5.0           NaN              NaN   \n3 2022-12-02 19:27:06+00:00      60.0           NaN              NaN   \n4 2022-12-02 18:58:20+00:00       5.0           NaN              NaN   \n\n             fwd_date                                           fwd_from  \\\n0 2022-12-01 06:02:15  MessageFwdHeader(date=datetime.datetime(2022, ...   \n1                 NaT                                                NaN   \n2                 NaT                                                NaN   \n3                 NaT                                                NaN   \n4                 NaT                                                NaN   \n\n   fwd_from_id  fwd_mes_id    handle     id  \\\n0   1029095426       21757  akitilop  15377   \n1         <NA>        <NA>  akitilop  15376   \n2         <NA>        <NA>  akitilop  15375   \n3         <NA>        <NA>  akitilop  15374   \n4         <NA>        <NA>  akitilop  15373   \n\n                                             message  \\\n0  🚇БКЛ полноценно заработает уже в первом кварта...   \n1  Активисты «Бессмертного полка» возложили цветы...   \n2  Как всегда наши учёные расширяют границы возмо...   \n3  Активисты общественных проектов и координаторы...   \n4  В Лужниках состоялся Форум боевых искусств «Би...   \n\n                                          msg_entity  reactions  \\\n0  [<telethon.tl.types.MessageEntityItalic object...        NaN   \n1                                                NaN        NaN   \n2                                                NaN        NaN   \n3                                                NaN        NaN   \n4                                                NaN        NaN   \n\n                                to_id   type  views  \n0  PeerChannel(channel_id=1109279145)  photo  173.0  \n1  PeerChannel(channel_id=1109279145)  photo  528.0  \n2  PeerChannel(channel_id=1109279145)  video  512.0  \n3  PeerChannel(channel_id=1109279145)  video  644.0  \n4  PeerChannel(channel_id=1109279145)  video  705.0  ",
      "text/html": "<div>\n<style scoped>\n    .dataframe tbody tr th:only-of-type {\n        vertical-align: middle;\n    }\n\n    .dataframe tbody tr th {\n        vertical-align: top;\n    }\n\n    .dataframe thead th {\n        text-align: right;\n    }\n</style>\n<table border=\"1\" class=\"dataframe\">\n  <thead>\n    <tr style=\"text-align: right;\">\n      <th></th>\n      <th>date</th>\n      <th>duration</th>\n      <th>frw_from_name</th>\n      <th>frw_from_title</th>\n      <th>fwd_date</th>\n      <th>fwd_from</th>\n      <th>fwd_from_id</th>\n      <th>fwd_mes_id</th>\n      <th>handle</th>\n      <th>id</th>\n      <th>message</th>\n      <th>msg_entity</th>\n      <th>reactions</th>\n      <th>to_id</th>\n      <th>type</th>\n      <th>views</th>\n    </tr>\n  </thead>\n  <tbody>\n    <tr>\n      <th>0</th>\n      <td>2022-12-04 10:26:53+00:00</td>\n      <td>NaN</td>\n      <td>DtRoad</td>\n      <td>Дептранс Москвы</td>\n      <td>2022-12-01 06:02:15</td>\n      <td>MessageFwdHeader(date=datetime.datetime(2022, ...</td>\n      <td>1029095426</td>\n      <td>21757</td>\n      <td>akitilop</td>\n      <td>15377</td>\n      <td>🚇БКЛ полноценно заработает уже в первом кварта...</td>\n      <td>[&lt;telethon.tl.types.MessageEntityItalic object...</td>\n      <td>NaN</td>\n      <td>PeerChannel(channel_id=1109279145)</td>\n      <td>photo</td>\n      <td>173.0</td>\n    </tr>\n    <tr>\n      <th>1</th>\n      <td>2022-12-03 19:32:06+00:00</td>\n      <td>NaN</td>\n      <td>NaN</td>\n      <td>NaN</td>\n      <td>NaT</td>\n      <td>NaN</td>\n      <td>&lt;NA&gt;</td>\n      <td>&lt;NA&gt;</td>\n      <td>akitilop</td>\n      <td>15376</td>\n      <td>Активисты «Бессмертного полка» возложили цветы...</td>\n      <td>NaN</td>\n      <td>NaN</td>\n      <td>PeerChannel(channel_id=1109279145)</td>\n      <td>photo</td>\n      <td>528.0</td>\n    </tr>\n    <tr>\n      <th>2</th>\n      <td>2022-12-03 18:56:42+00:00</td>\n      <td>5.0</td>\n      <td>NaN</td>\n      <td>NaN</td>\n      <td>NaT</td>\n      <td>NaN</td>\n      <td>&lt;NA&gt;</td>\n      <td>&lt;NA&gt;</td>\n      <td>akitilop</td>\n      <td>15375</td>\n      <td>Как всегда наши учёные расширяют границы возмо...</td>\n      <td>NaN</td>\n      <td>NaN</td>\n      <td>PeerChannel(channel_id=1109279145)</td>\n      <td>video</td>\n      <td>512.0</td>\n    </tr>\n    <tr>\n      <th>3</th>\n      <td>2022-12-02 19:27:06+00:00</td>\n      <td>60.0</td>\n      <td>NaN</td>\n      <td>NaN</td>\n      <td>NaT</td>\n      <td>NaN</td>\n      <td>&lt;NA&gt;</td>\n      <td>&lt;NA&gt;</td>\n      <td>akitilop</td>\n      <td>15374</td>\n      <td>Активисты общественных проектов и координаторы...</td>\n      <td>NaN</td>\n      <td>NaN</td>\n      <td>PeerChannel(channel_id=1109279145)</td>\n      <td>video</td>\n      <td>644.0</td>\n    </tr>\n    <tr>\n      <th>4</th>\n      <td>2022-12-02 18:58:20+00:00</td>\n      <td>5.0</td>\n      <td>NaN</td>\n      <td>NaN</td>\n      <td>NaT</td>\n      <td>NaN</td>\n      <td>&lt;NA&gt;</td>\n      <td>&lt;NA&gt;</td>\n      <td>akitilop</td>\n      <td>15373</td>\n      <td>В Лужниках состоялся Форум боевых искусств «Би...</td>\n      <td>NaN</td>\n      <td>NaN</td>\n      <td>PeerChannel(channel_id=1109279145)</td>\n      <td>video</td>\n      <td>705.0</td>\n    </tr>\n  </tbody>\n</table>\n</div>"
     },
     "execution_count": 239,
     "metadata": {},
     "output_type": "execute_result"
    }
   ],
   "source": [
    "test_df_proc['fwd_from_id'] = test_df_proc['fwd_from_id'].astype('Int64')\n",
    "test_df_proc['fwd_mes_id'] = test_df_proc['fwd_mes_id'].astype('Int64')\n",
    "test_df_proc.head()"
   ],
   "metadata": {
    "collapsed": false,
    "pycharm": {
     "name": "#%%\n"
    }
   }
  },
  {
   "cell_type": "code",
   "execution_count": 240,
   "outputs": [
    {
     "data": {
      "text/plain": "'MessageFwdHeader(date=datetime.datetime(2022, 12, 1, 6, 2, 15, tzinfo=datetime.timezone.utc), imported=False, from_id=PeerChannel(channel_id=1029095426), from_name=None, channel_post=21757, post_author=None, saved_from_peer=None, saved_from_msg_id=None, psa_type=None)'"
     },
     "execution_count": 240,
     "metadata": {},
     "output_type": "execute_result"
    }
   ],
   "source": [
    "test_df_proc['fwd_from'][0]"
   ],
   "metadata": {
    "collapsed": false,
    "pycharm": {
     "name": "#%%\n"
    }
   }
  },
  {
   "cell_type": "code",
   "execution_count": 247,
   "outputs": [
    {
     "name": "stdout",
     "output_type": "stream",
     "text": [
      "0/299 Abbasdjuma\n"
     ]
    },
    {
     "name": "stderr",
     "output_type": "stream",
     "text": [
      "Parsing reactions: 100%|██████████| 12002/12002 [00:03<00:00, 3176.95rows/s] \n",
      "Parsing to_id: 100%|██████████| 12002/12002 [00:00<00:00, 355092.45rows/s]\n",
      "Parsing fwd_from: 100%|██████████| 12002/12002 [00:03<00:00, 3014.79rows/s]\n"
     ]
    },
    {
     "name": "stdout",
     "output_type": "stream",
     "text": [
      "1/299 achexd2\n"
     ]
    },
    {
     "name": "stderr",
     "output_type": "stream",
     "text": [
      "Parsing reactions: 100%|██████████| 1454/1454 [00:00<00:00, 3171.07rows/s]\n",
      "Parsing to_id: 100%|██████████| 1454/1454 [00:00<00:00, 364199.34rows/s]\n",
      "Parsing fwd_from: 100%|██████████| 1454/1454 [00:00<00:00, 3426.93rows/s]\n"
     ]
    },
    {
     "name": "stdout",
     "output_type": "stream",
     "text": [
      "2/299 akashevarova\n"
     ]
    },
    {
     "name": "stderr",
     "output_type": "stream",
     "text": [
      "Parsing reactions: 100%|██████████| 5880/5880 [00:01<00:00, 3197.69rows/s] \n",
      "Parsing to_id: 100%|██████████| 5880/5880 [00:00<00:00, 341448.83rows/s]\n",
      "Parsing fwd_from: 100%|██████████| 5880/5880 [00:03<00:00, 1849.43rows/s]\n"
     ]
    },
    {
     "name": "stdout",
     "output_type": "stream",
     "text": [
      "3/299 akimapachev\n"
     ]
    },
    {
     "name": "stderr",
     "output_type": "stream",
     "text": [
      "Parsing reactions: 100%|██████████| 1592/1592 [00:00<00:00, 3802.65rows/s]\n",
      "Parsing to_id: 100%|██████████| 1592/1592 [00:00<00:00, 395248.73rows/s]\n",
      "Parsing fwd_from: 100%|██████████| 1592/1592 [00:00<00:00, 2122.43rows/s]\n"
     ]
    },
    {
     "name": "stdout",
     "output_type": "stream",
     "text": [
      "4/299 akitilop\n"
     ]
    },
    {
     "name": "stderr",
     "output_type": "stream",
     "text": [
      "Parsing reactions: 100%|██████████| 14552/14552 [00:01<00:00, 7973.18rows/s] \n",
      "Parsing to_id: 100%|██████████| 14552/14552 [00:00<00:00, 159657.62rows/s]\n",
      "Parsing fwd_from: 100%|██████████| 14552/14552 [00:10<00:00, 1357.42rows/s]\n"
     ]
    },
    {
     "name": "stdout",
     "output_type": "stream",
     "text": [
      "5/299 Alekhin_Telega\n"
     ]
    },
    {
     "name": "stderr",
     "output_type": "stream",
     "text": [
      "Parsing reactions: 100%|██████████| 5844/5844 [00:01<00:00, 5158.76rows/s]\n",
      "Parsing to_id: 100%|██████████| 5844/5844 [00:00<00:00, 247718.65rows/s]\n",
      "Parsing fwd_from: 100%|██████████| 5844/5844 [00:04<00:00, 1275.39rows/s]\n"
     ]
    },
    {
     "name": "stdout",
     "output_type": "stream",
     "text": [
      "6/299 aleksandr_skif\n"
     ]
    },
    {
     "name": "stderr",
     "output_type": "stream",
     "text": [
      "Parsing reactions: 100%|██████████| 2445/2445 [00:00<00:00, 6478.88rows/s] \n",
      "Parsing to_id: 100%|██████████| 2445/2445 [00:00<?, ?rows/s]\n",
      "Parsing fwd_from: 100%|██████████| 2445/2445 [00:00<00:00, 4675.63rows/s] \n"
     ]
    },
    {
     "name": "stdout",
     "output_type": "stream",
     "text": [
      "7/299 anatoly_nesmiyan\n"
     ]
    },
    {
     "name": "stderr",
     "output_type": "stream",
     "text": [
      "Parsing reactions: 100%|██████████| 5691/5691 [00:00<00:00, 5897.78rows/s]\n",
      "Parsing to_id: 100%|██████████| 5691/5691 [00:00<00:00, 341221.15rows/s]\n",
      "Parsing fwd_from: 100%|██████████| 5691/5691 [00:01<00:00, 4388.11rows/s] \n"
     ]
    },
    {
     "name": "stdout",
     "output_type": "stream",
     "text": [
      "8/299 anna_news\n"
     ]
    },
    {
     "name": "stderr",
     "output_type": "stream",
     "text": [
      "Parsing reactions: 100%|██████████| 41545/41545 [00:25<00:00, 1660.39rows/s]\n",
      "Parsing to_id: 100%|██████████| 41545/41545 [00:00<00:00, 269579.41rows/s]\n",
      "Parsing fwd_from: 100%|██████████| 41545/41545 [00:41<00:00, 1005.94rows/s]\n"
     ]
    },
    {
     "name": "stdout",
     "output_type": "stream",
     "text": [
      "9/299 antiskrepa\n"
     ]
    },
    {
     "name": "stderr",
     "output_type": "stream",
     "text": [
      "Parsing reactions: 100%|██████████| 13355/13355 [00:05<00:00, 2408.12rows/s] \n",
      "Parsing to_id: 100%|██████████| 13355/13355 [00:00<00:00, 427467.62rows/s]\n",
      "Parsing fwd_from: 100%|██████████| 13355/13355 [00:08<00:00, 1639.42rows/s]\n"
     ]
    },
    {
     "name": "stdout",
     "output_type": "stream",
     "text": [
      "10/299 archivarius_dz\n"
     ]
    },
    {
     "name": "stderr",
     "output_type": "stream",
     "text": [
      "Parsing reactions: 100%|██████████| 9993/9993 [00:04<00:00, 2422.31rows/s]\n",
      "Parsing to_id: 100%|██████████| 9993/9993 [00:00<00:00, 256277.54rows/s]\n",
      "Parsing fwd_from: 100%|██████████| 9993/9993 [00:12<00:00, 830.65rows/s] \n"
     ]
    },
    {
     "name": "stdout",
     "output_type": "stream",
     "text": [
      "11/299 ASGasparyan\n"
     ]
    },
    {
     "name": "stderr",
     "output_type": "stream",
     "text": [
      "Parsing reactions: 100%|██████████| 31051/31051 [00:17<00:00, 1787.92rows/s]\n",
      "Parsing to_id: 100%|██████████| 31051/31051 [00:00<00:00, 142165.44rows/s]\n",
      "Parsing fwd_from: 100%|██████████| 31051/31051 [00:22<00:00, 1372.18rows/s]\n"
     ]
    },
    {
     "name": "stdout",
     "output_type": "stream",
     "text": [
      "12/299 astrahandm\n"
     ]
    },
    {
     "name": "stderr",
     "output_type": "stream",
     "text": [
      "Parsing reactions: 100%|██████████| 6574/6574 [00:00<00:00, 9138.63rows/s] \n",
      "Parsing to_id: 100%|██████████| 6574/6574 [00:00<00:00, 274274.41rows/s]\n",
      "Parsing fwd_from: 100%|██████████| 6574/6574 [00:11<00:00, 565.11rows/s]\n"
     ]
    },
    {
     "name": "stdout",
     "output_type": "stream",
     "text": [
      "13/299 Ateobreaking\n"
     ]
    },
    {
     "name": "stderr",
     "output_type": "stream",
     "text": [
      "Parsing reactions: 100%|██████████| 75634/75634 [00:08<00:00, 8803.92rows/s] \n",
      "Parsing to_id: 100%|██████████| 75634/75634 [00:00<00:00, 192963.61rows/s]\n",
      "Parsing fwd_from: 100%|██████████| 75634/75634 [00:20<00:00, 3635.76rows/s] \n"
     ]
    },
    {
     "name": "stdout",
     "output_type": "stream",
     "text": [
      "14/299 Baronova\n"
     ]
    },
    {
     "name": "stderr",
     "output_type": "stream",
     "text": [
      "Parsing reactions: 100%|██████████| 21490/21490 [00:08<00:00, 2588.89rows/s] \n",
      "Parsing to_id: 100%|██████████| 21490/21490 [00:00<00:00, 384791.96rows/s]\n",
      "Parsing fwd_from: 100%|██████████| 21490/21490 [00:22<00:00, 961.88rows/s] \n"
     ]
    },
    {
     "name": "stdout",
     "output_type": "stream",
     "text": [
      "15/299 BattleSailor_13\n"
     ]
    },
    {
     "name": "stderr",
     "output_type": "stream",
     "text": [
      "Parsing reactions: 100%|██████████| 4150/4150 [00:01<00:00, 2125.18rows/s]\n",
      "Parsing to_id: 100%|██████████| 4150/4150 [00:00<00:00, 277396.64rows/s]\n",
      "Parsing fwd_from: 100%|██████████| 4150/4150 [00:05<00:00, 723.61rows/s] \n"
     ]
    },
    {
     "name": "stdout",
     "output_type": "stream",
     "text": [
      "16/299 bazabazon\n"
     ]
    },
    {
     "name": "stderr",
     "output_type": "stream",
     "text": [
      "Parsing reactions: 100%|██████████| 14950/14950 [00:02<00:00, 6582.54rows/s]\n",
      "Parsing to_id: 100%|██████████| 14950/14950 [00:00<00:00, 245029.81rows/s]\n",
      "Parsing fwd_from: 100%|██████████| 14950/14950 [00:01<00:00, 13768.01rows/s]\n"
     ]
    },
    {
     "name": "stdout",
     "output_type": "stream",
     "text": [
      "17/299 bbbreaking\n"
     ]
    },
    {
     "name": "stderr",
     "output_type": "stream",
     "text": [
      "Parsing reactions: 100%|██████████| 139745/139745 [00:16<00:00, 8308.01rows/s] \n",
      "Parsing to_id: 100%|██████████| 139745/139745 [00:00<00:00, 200773.39rows/s]\n",
      "Parsing fwd_from: 100%|██████████| 139745/139745 [00:22<00:00, 6141.34rows/s] \n"
     ]
    },
    {
     "name": "stdout",
     "output_type": "stream",
     "text": [
      "18/299 bbcrussian\n"
     ]
    },
    {
     "name": "stderr",
     "output_type": "stream",
     "text": [
      "Parsing reactions: 100%|██████████| 38121/38121 [00:05<00:00, 7456.54rows/s] \n",
      "Parsing to_id: 100%|██████████| 38121/38121 [00:00<00:00, 248204.43rows/s]\n",
      "Parsing fwd_from: 100%|██████████| 38121/38121 [00:09<00:00, 3862.47rows/s] \n"
     ]
    },
    {
     "name": "stdout",
     "output_type": "stream",
     "text": [
      "19/299 berdovaalena\n"
     ]
    },
    {
     "name": "stderr",
     "output_type": "stream",
     "text": [
      "Parsing reactions: 100%|██████████| 5547/5547 [00:07<00:00, 763.71rows/s] \n",
      "Parsing to_id: 100%|██████████| 5547/5547 [00:00<00:00, 67838.84rows/s]\n",
      "Parsing fwd_from: 100%|██████████| 5547/5547 [00:03<00:00, 1773.73rows/s]\n"
     ]
    },
    {
     "name": "stdout",
     "output_type": "stream",
     "text": [
      "20/299 bloodysx\n"
     ]
    },
    {
     "name": "stderr",
     "output_type": "stream",
     "text": [
      "Parsing reactions: 100%|██████████| 23739/23739 [00:04<00:00, 5656.28rows/s]\n",
      "Parsing to_id: 100%|██████████| 23739/23739 [00:00<00:00, 258349.94rows/s]\n",
      "Parsing fwd_from: 100%|██████████| 23739/23739 [00:24<00:00, 981.60rows/s] \n"
     ]
    },
    {
     "name": "stdout",
     "output_type": "stream",
     "text": [
      "21/299 bogemasranaya\n"
     ]
    },
    {
     "name": "stderr",
     "output_type": "stream",
     "text": [
      "Parsing reactions: 100%|██████████| 22262/22262 [00:20<00:00, 1107.61rows/s]\n",
      "Parsing to_id: 100%|██████████| 22262/22262 [00:00<00:00, 206682.55rows/s]\n",
      "Parsing fwd_from: 100%|██████████| 22262/22262 [00:46<00:00, 476.41rows/s]\n"
     ]
    },
    {
     "name": "stdout",
     "output_type": "stream",
     "text": [
      "22/299 boilerroomchannel\n"
     ]
    },
    {
     "name": "stderr",
     "output_type": "stream",
     "text": [
      "Parsing reactions: 100%|██████████| 15624/15624 [00:06<00:00, 2405.62rows/s]\n",
      "Parsing to_id: 100%|██████████| 15624/15624 [00:00<00:00, 108149.18rows/s]\n",
      "Parsing fwd_from: 100%|██████████| 15624/15624 [00:27<00:00, 561.45rows/s] \n"
     ]
    },
    {
     "name": "stdout",
     "output_type": "stream",
     "text": [
      "23/299 bolshiepushki\n"
     ]
    },
    {
     "name": "stderr",
     "output_type": "stream",
     "text": [
      "Parsing reactions: 100%|██████████| 2750/2750 [00:03<00:00, 829.36rows/s] \n",
      "Parsing to_id: 100%|██████████| 2750/2750 [00:00<00:00, 83561.56rows/s]\n",
      "Parsing fwd_from: 100%|██████████| 2750/2750 [00:01<00:00, 1666.26rows/s]\n"
     ]
    },
    {
     "name": "stdout",
     "output_type": "stream",
     "text": [
      "24/299 boris_rozhin\n"
     ]
    },
    {
     "name": "stderr",
     "output_type": "stream",
     "text": [
      "Parsing reactions: 100%|██████████| 70090/70090 [00:47<00:00, 1489.50rows/s] \n",
      "Parsing to_id: 100%|██████████| 70090/70090 [00:00<00:00, 373532.63rows/s]\n",
      "Parsing fwd_from: 100%|██████████| 70090/70090 [03:07<00:00, 373.95rows/s] \n"
     ]
    },
    {
     "name": "stdout",
     "output_type": "stream",
     "text": [
      "25/299 botcharov\n"
     ]
    },
    {
     "name": "stderr",
     "output_type": "stream",
     "text": [
      "Parsing reactions: 100%|██████████| 2986/2986 [00:02<00:00, 1183.78rows/s]\n",
      "Parsing to_id: 100%|██████████| 2986/2986 [00:00<00:00, 96580.65rows/s]\n",
      "Parsing fwd_from: 100%|██████████| 2986/2986 [00:08<00:00, 357.31rows/s]\n"
     ]
    },
    {
     "name": "stdout",
     "output_type": "stream",
     "text": [
      "26/299 breakingmash\n"
     ]
    },
    {
     "name": "stderr",
     "output_type": "stream",
     "text": [
      "Parsing reactions: 100%|██████████| 40089/40089 [00:11<00:00, 3413.58rows/s]\n",
      "Parsing to_id: 100%|██████████| 40089/40089 [00:00<00:00, 191408.47rows/s]\n",
      "Parsing fwd_from: 100%|██████████| 40089/40089 [00:29<00:00, 1375.68rows/s] \n"
     ]
    },
    {
     "name": "stdout",
     "output_type": "stream",
     "text": [
      "27/299 ChDambiev\n"
     ]
    },
    {
     "name": "stderr",
     "output_type": "stream",
     "text": [
      "Parsing reactions: 100%|██████████| 20597/20597 [00:28<00:00, 718.57rows/s] \n",
      "Parsing to_id: 100%|██████████| 20597/20597 [00:00<00:00, 76385.96rows/s] \n",
      "Parsing fwd_from: 100%|██████████| 20597/20597 [00:17<00:00, 1172.01rows/s]\n"
     ]
    },
    {
     "name": "stdout",
     "output_type": "stream",
     "text": [
      "28/299 chtddd\n"
     ]
    },
    {
     "name": "stderr",
     "output_type": "stream",
     "text": [
      "Parsing reactions: 100%|██████████| 63553/63553 [00:28<00:00, 2239.98rows/s]\n",
      "Parsing to_id: 100%|██████████| 63553/63553 [00:00<00:00, 290970.08rows/s]\n",
      "Parsing fwd_from: 100%|██████████| 63553/63553 [00:15<00:00, 4095.90rows/s] \n"
     ]
    },
    {
     "name": "stdout",
     "output_type": "stream",
     "text": [
      "29/299 comradepelevin\n"
     ]
    },
    {
     "name": "stderr",
     "output_type": "stream",
     "text": [
      "Parsing reactions: 100%|██████████| 3508/3508 [00:01<00:00, 2710.04rows/s]\n",
      "Parsing to_id: 100%|██████████| 3508/3508 [00:00<00:00, 292767.54rows/s]\n",
      "Parsing fwd_from: 100%|██████████| 3508/3508 [00:02<00:00, 1276.32rows/s]\n"
     ]
    },
    {
     "name": "stdout",
     "output_type": "stream",
     "text": [
      "30/299 corrkosarev\n"
     ]
    },
    {
     "name": "stderr",
     "output_type": "stream",
     "text": [
      "Parsing reactions: 100%|██████████| 832/832 [00:00<00:00, 1826.99rows/s]\n",
      "Parsing to_id: 100%|██████████| 832/832 [00:00<00:00, 206806.98rows/s]\n",
      "Parsing fwd_from: 100%|██████████| 832/832 [00:00<00:00, 1262.29rows/s]\n"
     ]
    },
    {
     "name": "stdout",
     "output_type": "stream",
     "text": [
      "31/299 criminalru\n"
     ]
    },
    {
     "name": "stderr",
     "output_type": "stream",
     "text": [
      "Parsing reactions: 100%|██████████| 29710/29710 [00:04<00:00, 7014.52rows/s] \n",
      "Parsing to_id: 100%|██████████| 29710/29710 [00:00<00:00, 309892.60rows/s]\n",
      "Parsing fwd_from: 100%|██████████| 29710/29710 [00:12<00:00, 2467.23rows/s] \n"
     ]
    },
    {
     "name": "stdout",
     "output_type": "stream",
     "text": [
      "32/299 ctrs2018\n"
     ]
    },
    {
     "name": "stderr",
     "output_type": "stream",
     "text": [
      "Parsing reactions: 100%|██████████| 15142/15142 [00:07<00:00, 1979.77rows/s]\n",
      "Parsing to_id: 100%|██████████| 15142/15142 [00:00<00:00, 140390.85rows/s]\n",
      "Parsing fwd_from: 100%|██████████| 15142/15142 [00:06<00:00, 2197.05rows/s]\n"
     ]
    },
    {
     "name": "stdout",
     "output_type": "stream",
     "text": [
      "33/299 daokedao\n"
     ]
    },
    {
     "name": "stderr",
     "output_type": "stream",
     "text": [
      "Parsing reactions: 100%|██████████| 24895/24895 [00:03<00:00, 7322.27rows/s] \n",
      "Parsing to_id: 100%|██████████| 24895/24895 [00:00<00:00, 341937.78rows/s]\n",
      "Parsing fwd_from: 100%|██████████| 24895/24895 [00:07<00:00, 3247.89rows/s]\n"
     ]
    },
    {
     "name": "stdout",
     "output_type": "stream",
     "text": [
      "34/299 denazi_UA\n"
     ]
    },
    {
     "name": "stderr",
     "output_type": "stream",
     "text": [
      "Parsing reactions: 100%|██████████| 30757/30757 [00:15<00:00, 2035.22rows/s]\n",
      "Parsing to_id: 100%|██████████| 30757/30757 [00:00<00:00, 201620.11rows/s]\n",
      "Parsing fwd_from: 100%|██████████| 30757/30757 [00:07<00:00, 4096.87rows/s] \n"
     ]
    },
    {
     "name": "stdout",
     "output_type": "stream",
     "text": [
      "35/299 dimsmirnov175\n"
     ]
    },
    {
     "name": "stderr",
     "output_type": "stream",
     "text": [
      "Parsing reactions: 100%|██████████| 41311/41311 [00:14<00:00, 2882.54rows/s] \n",
      "Parsing to_id: 100%|██████████| 41311/41311 [00:00<00:00, 203951.28rows/s]\n",
      "Parsing fwd_from: 100%|██████████| 41311/41311 [00:09<00:00, 4365.35rows/s] \n"
     ]
    },
    {
     "name": "stdout",
     "output_type": "stream",
     "text": [
      "36/299 dirtytatarstan\n"
     ]
    },
    {
     "name": "stderr",
     "output_type": "stream",
     "text": [
      "Parsing reactions: 100%|██████████| 38405/38405 [00:07<00:00, 5183.36rows/s] \n",
      "Parsing to_id: 100%|██████████| 38405/38405 [00:00<00:00, 135776.95rows/s]\n",
      "Parsing fwd_from: 100%|██████████| 38405/38405 [00:46<00:00, 828.97rows/s] \n"
     ]
    },
    {
     "name": "stdout",
     "output_type": "stream",
     "text": [
      "37/299 DmitriySteshin\n"
     ]
    },
    {
     "name": "stderr",
     "output_type": "stream",
     "text": [
      "Parsing reactions: 100%|██████████| 6308/6308 [00:01<00:00, 6151.76rows/s] \n",
      "Parsing to_id: 100%|██████████| 6308/6308 [00:00<00:00, 262943.82rows/s]\n",
      "Parsing fwd_from: 100%|██████████| 6308/6308 [00:03<00:00, 1646.67rows/s]\n"
     ]
    },
    {
     "name": "stdout",
     "output_type": "stream",
     "text": [
      "38/299 donbassr\n"
     ]
    },
    {
     "name": "stderr",
     "output_type": "stream",
     "text": [
      "Parsing reactions: 100%|██████████| 29806/29806 [00:04<00:00, 7375.38rows/s] \n",
      "Parsing to_id: 100%|██████████| 29806/29806 [00:00<00:00, 298421.01rows/s]\n",
      "Parsing fwd_from: 100%|██████████| 29806/29806 [00:13<00:00, 2155.10rows/s] \n"
     ]
    },
    {
     "name": "stdout",
     "output_type": "stream",
     "text": [
      "39/299 Doninside\n"
     ]
    },
    {
     "name": "stderr",
     "output_type": "stream",
     "text": [
      "Parsing reactions: 100%|██████████| 17515/17515 [00:16<00:00, 1083.74rows/s]\n",
      "Parsing to_id: 100%|██████████| 17515/17515 [00:00<00:00, 141666.67rows/s]\n",
      "Parsing fwd_from: 100%|██████████| 17515/17515 [00:25<00:00, 698.08rows/s] \n"
     ]
    },
    {
     "name": "stdout",
     "output_type": "stream",
     "text": [
      "40/299 dr_alex_sosnowski\n"
     ]
    },
    {
     "name": "stderr",
     "output_type": "stream",
     "text": [
      "Parsing reactions: 100%|██████████| 19780/19780 [00:18<00:00, 1077.63rows/s]\n",
      "Parsing to_id: 100%|██████████| 19780/19780 [00:00<00:00, 215539.56rows/s]\n",
      "Parsing fwd_from: 100%|██████████| 19780/19780 [00:38<00:00, 507.66rows/s] \n"
     ]
    },
    {
     "name": "stdout",
     "output_type": "stream",
     "text": [
      "41/299 ebobo_rus\n"
     ]
    },
    {
     "name": "stderr",
     "output_type": "stream",
     "text": [
      "Parsing reactions: 100%|██████████| 13845/13845 [00:11<00:00, 1216.39rows/s]\n",
      "Parsing to_id: 100%|██████████| 13845/13845 [00:00<00:00, 169288.36rows/s]\n",
      "Parsing fwd_from: 100%|██████████| 13845/13845 [00:06<00:00, 2239.20rows/s]\n"
     ]
    },
    {
     "name": "stdout",
     "output_type": "stream",
     "text": [
      "42/299 ekvinokurova\n"
     ]
    },
    {
     "name": "stderr",
     "output_type": "stream",
     "text": [
      "Parsing reactions: 100%|██████████| 21825/21825 [00:13<00:00, 1606.54rows/s]\n",
      "Parsing to_id: 100%|██████████| 21825/21825 [00:00<00:00, 216746.42rows/s]\n",
      "Parsing fwd_from: 100%|██████████| 21825/21825 [00:28<00:00, 756.96rows/s] \n"
     ]
    },
    {
     "name": "stdout",
     "output_type": "stream",
     "text": [
      "43/299 emphasises\n"
     ]
    },
    {
     "name": "stderr",
     "output_type": "stream",
     "text": [
      "Parsing reactions: 100%|██████████| 6384/6384 [00:01<00:00, 4051.47rows/s]\n",
      "Parsing to_id: 100%|██████████| 6384/6384 [00:00<00:00, 125499.45rows/s]\n",
      "Parsing fwd_from: 100%|██████████| 6384/6384 [00:14<00:00, 444.98rows/s] \n"
     ]
    },
    {
     "name": "stdout",
     "output_type": "stream",
     "text": [
      "44/299 ENews112\n"
     ]
    },
    {
     "name": "stderr",
     "output_type": "stream",
     "text": [
      "Parsing reactions: 100%|██████████| 8876/8876 [00:02<00:00, 3163.30rows/s]\n",
      "Parsing to_id: 100%|██████████| 8876/8876 [00:00<00:00, 95706.16rows/s]\n",
      "Parsing fwd_from: 100%|██████████| 8876/8876 [00:03<00:00, 2685.18rows/s] \n"
     ]
    },
    {
     "name": "stdout",
     "output_type": "stream",
     "text": [
      "45/299 epoddubny\n"
     ]
    },
    {
     "name": "stderr",
     "output_type": "stream",
     "text": [
      "Parsing reactions: 100%|██████████| 13473/13473 [00:11<00:00, 1137.14rows/s]\n",
      "Parsing to_id: 100%|██████████| 13473/13473 [00:00<00:00, 151790.30rows/s]\n",
      "Parsing fwd_from: 100%|██████████| 13473/13473 [00:30<00:00, 443.40rows/s]\n"
     ]
    },
    {
     "name": "stdout",
     "output_type": "stream",
     "text": [
      "46/299 ErnestV_2020\n"
     ]
    },
    {
     "name": "stderr",
     "output_type": "stream",
     "text": [
      "Parsing reactions: 100%|██████████| 33104/33104 [00:23<00:00, 1425.01rows/s]\n",
      "Parsing to_id: 100%|██████████| 33104/33104 [00:00<00:00, 219827.37rows/s]\n",
      "Parsing fwd_from: 100%|██████████| 33104/33104 [01:05<00:00, 506.80rows/s] \n"
     ]
    },
    {
     "name": "stdout",
     "output_type": "stream",
     "text": [
      "47/299 er_molnia\n"
     ]
    },
    {
     "name": "stderr",
     "output_type": "stream",
     "text": [
      "Parsing reactions: 100%|██████████| 5905/5905 [00:01<00:00, 3934.14rows/s]\n",
      "Parsing to_id: 100%|██████████| 5905/5905 [00:00<00:00, 132247.78rows/s]\n",
      "Parsing fwd_from: 100%|██████████| 5905/5905 [00:02<00:00, 2904.56rows/s] \n"
     ]
    },
    {
     "name": "stdout",
     "output_type": "stream",
     "text": [
      "48/299 evgenyprimakov\n"
     ]
    },
    {
     "name": "stderr",
     "output_type": "stream",
     "text": [
      "Parsing reactions: 100%|██████████| 2738/2738 [00:00<00:00, 2935.27rows/s]\n",
      "Parsing to_id: 100%|██████████| 2738/2738 [00:00<00:00, 98050.80rows/s]\n",
      "Parsing fwd_from: 100%|██████████| 2738/2738 [00:07<00:00, 355.26rows/s] \n"
     ]
    },
    {
     "name": "stdout",
     "output_type": "stream",
     "text": [
      "49/299 fontankaspb\n"
     ]
    },
    {
     "name": "stderr",
     "output_type": "stream",
     "text": [
      "Parsing reactions: 100%|██████████| 31679/31679 [00:25<00:00, 1265.72rows/s]\n",
      "Parsing to_id: 100%|██████████| 31679/31679 [00:00<00:00, 204524.77rows/s]\n",
      "Parsing fwd_from: 100%|██████████| 31679/31679 [00:12<00:00, 2586.94rows/s] \n"
     ]
    },
    {
     "name": "stdout",
     "output_type": "stream",
     "text": [
      "50/299 foxandraven\n"
     ]
    },
    {
     "name": "stderr",
     "output_type": "stream",
     "text": [
      "Parsing reactions: 100%|██████████| 9142/9142 [00:07<00:00, 1178.96rows/s]\n",
      "Parsing to_id: 100%|██████████| 9142/9142 [00:00<00:00, 153706.86rows/s]\n",
      "Parsing fwd_from: 100%|██████████| 9142/9142 [00:22<00:00, 409.41rows/s]\n"
     ]
    },
    {
     "name": "stdout",
     "output_type": "stream",
     "text": [
      "51/299 freeman365\n"
     ]
    },
    {
     "name": "stderr",
     "output_type": "stream",
     "text": [
      "Parsing reactions: 100%|██████████| 223/223 [00:00<00:00, 3427.47rows/s]\n",
      "Parsing to_id: 100%|██████████| 223/223 [00:00<00:00, 55810.60rows/s]\n",
      "Parsing fwd_from: 100%|██████████| 223/223 [00:00<00:00, 9290.96rows/s]\n"
     ]
    },
    {
     "name": "stdout",
     "output_type": "stream",
     "text": [
      "52/299 FridrihShow\n"
     ]
    },
    {
     "name": "stderr",
     "output_type": "stream",
     "text": [
      "Parsing reactions: 100%|██████████| 6952/6952 [00:05<00:00, 1202.69rows/s]\n",
      "Parsing to_id: 100%|██████████| 6952/6952 [00:00<00:00, 108749.96rows/s]\n",
      "Parsing fwd_from: 100%|██████████| 6952/6952 [00:14<00:00, 468.12rows/s]\n"
     ]
    },
    {
     "name": "stdout",
     "output_type": "stream",
     "text": [
      "53/299 fuckyouthatswhy\n"
     ]
    },
    {
     "name": "stderr",
     "output_type": "stream",
     "text": [
      "Parsing reactions: 100%|██████████| 66974/66974 [00:39<00:00, 1700.40rows/s]\n",
      "Parsing to_id: 100%|██████████| 66974/66974 [00:00<00:00, 309459.42rows/s]\n",
      "Parsing fwd_from: 100%|██████████| 66974/66974 [02:16<00:00, 490.81rows/s] \n"
     ]
    },
    {
     "name": "stdout",
     "output_type": "stream",
     "text": [
      "54/299 glava_lnr_info\n"
     ]
    },
    {
     "name": "stderr",
     "output_type": "stream",
     "text": [
      "Parsing reactions: 100%|██████████| 536/536 [00:00<00:00, 1899.06rows/s]\n",
      "Parsing to_id: 100%|██████████| 536/536 [00:00<00:00, 134603.46rows/s]\n",
      "Parsing fwd_from: 100%|██████████| 536/536 [00:00<00:00, 1493.46rows/s]\n"
     ]
    },
    {
     "name": "stdout",
     "output_type": "stream",
     "text": [
      "55/299 glavmedia\n"
     ]
    },
    {
     "name": "stderr",
     "output_type": "stream",
     "text": [
      "Parsing reactions: 100%|██████████| 218510/218510 [04:14<00:00, 857.07rows/s] \n",
      "Parsing to_id: 100%|██████████| 218510/218510 [00:01<00:00, 139368.07rows/s]\n",
      "Parsing fwd_from: 100%|██████████| 218510/218510 [17:59<00:00, 202.34rows/s]\n"
     ]
    },
    {
     "name": "stdout",
     "output_type": "stream",
     "text": [
      "56/299 glavpolit\n"
     ]
    },
    {
     "name": "stderr",
     "output_type": "stream",
     "text": [
      "Parsing reactions: 100%|██████████| 13791/13791 [00:03<00:00, 3605.69rows/s]\n",
      "Parsing to_id: 100%|██████████| 13791/13791 [00:00<00:00, 132945.17rows/s]\n",
      "Parsing fwd_from: 100%|██████████| 13791/13791 [00:19<00:00, 716.41rows/s] \n"
     ]
    },
    {
     "name": "stdout",
     "output_type": "stream",
     "text": [
      "57/299 go338\n"
     ]
    },
    {
     "name": "stderr",
     "output_type": "stream",
     "text": [
      "Parsing reactions: 100%|██████████| 43953/43953 [00:13<00:00, 3354.15rows/s]\n",
      "Parsing to_id: 100%|██████████| 43953/43953 [00:00<00:00, 130964.17rows/s]\n",
      "Parsing fwd_from: 100%|██████████| 43953/43953 [01:25<00:00, 513.40rows/s] \n"
     ]
    },
    {
     "name": "stdout",
     "output_type": "stream",
     "text": [
      "58/299 golosmordora\n"
     ]
    },
    {
     "name": "stderr",
     "output_type": "stream",
     "text": [
      "Parsing reactions: 100%|██████████| 24908/24908 [00:20<00:00, 1240.88rows/s]\n",
      "Parsing to_id: 100%|██████████| 24908/24908 [00:00<00:00, 157605.62rows/s]\n",
      "Parsing fwd_from: 100%|██████████| 24908/24908 [00:49<00:00, 500.52rows/s] \n"
     ]
    },
    {
     "name": "stdout",
     "output_type": "stream",
     "text": [
      "59/299 Gori_spb\n"
     ]
    },
    {
     "name": "stderr",
     "output_type": "stream",
     "text": [
      "Parsing reactions: 100%|██████████| 31826/31826 [00:08<00:00, 3557.49rows/s]\n",
      "Parsing to_id: 100%|██████████| 31826/31826 [00:00<00:00, 168127.16rows/s]\n",
      "Parsing fwd_from: 100%|██████████| 31826/31826 [00:45<00:00, 695.65rows/s] \n"
     ]
    },
    {
     "name": "stdout",
     "output_type": "stream",
     "text": [
      "60/299 government_rus\n"
     ]
    },
    {
     "name": "stderr",
     "output_type": "stream",
     "text": [
      "Parsing reactions: 100%|██████████| 5538/5538 [00:01<00:00, 3991.63rows/s]\n",
      "Parsing to_id: 100%|██████████| 5538/5538 [00:00<00:00, 162507.82rows/s]\n",
      "Parsing fwd_from: 100%|██████████| 5538/5538 [00:02<00:00, 2352.01rows/s] \n"
     ]
    },
    {
     "name": "stdout",
     "output_type": "stream",
     "text": [
      "61/299 govoritfursov\n"
     ]
    },
    {
     "name": "stderr",
     "output_type": "stream",
     "text": [
      "Parsing reactions: 100%|██████████| 2147/2147 [00:01<00:00, 1233.52rows/s]\n",
      "Parsing to_id: 100%|██████████| 2147/2147 [00:00<00:00, 126117.54rows/s]\n",
      "Parsing fwd_from: 100%|██████████| 2147/2147 [00:01<00:00, 1427.53rows/s]\n"
     ]
    },
    {
     "name": "stdout",
     "output_type": "stream",
     "text": [
      "62/299 GrafinyaNegoduet\n"
     ]
    },
    {
     "name": "stderr",
     "output_type": "stream",
     "text": [
      "Parsing reactions: 100%|██████████| 774/774 [00:00<00:00, 1158.70rows/s]\n",
      "Parsing to_id: 100%|██████████| 774/774 [00:00<00:00, 152312.63rows/s]\n",
      "Parsing fwd_from: 100%|██████████| 774/774 [00:01<00:00, 515.70rows/s]\n"
     ]
    },
    {
     "name": "stdout",
     "output_type": "stream",
     "text": [
      "63/299 gramotyyaroslava\n"
     ]
    },
    {
     "name": "stderr",
     "output_type": "stream",
     "text": [
      "Parsing reactions: 100%|██████████| 14304/14304 [00:11<00:00, 1224.68rows/s]\n",
      "Parsing to_id: 100%|██████████| 14304/14304 [00:00<00:00, 152255.39rows/s]\n",
      "Parsing fwd_from: 100%|██████████| 14304/14304 [00:27<00:00, 511.37rows/s]\n"
     ]
    },
    {
     "name": "stdout",
     "output_type": "stream",
     "text": [
      "64/299 grey_zone\n"
     ]
    },
    {
     "name": "stderr",
     "output_type": "stream",
     "text": [
      "Parsing reactions: 100%|██████████| 15591/15591 [00:04<00:00, 3701.22rows/s]\n",
      "Parsing to_id: 100%|██████████| 15591/15591 [00:00<00:00, 155374.86rows/s]\n",
      "Parsing fwd_from: 100%|██████████| 15591/15591 [00:27<00:00, 557.51rows/s]\n"
     ]
    },
    {
     "name": "stdout",
     "output_type": "stream",
     "text": [
      "65/299 grishkafilippov\n"
     ]
    },
    {
     "name": "stderr",
     "output_type": "stream",
     "text": [
      "Parsing reactions: 100%|██████████| 11065/11065 [00:08<00:00, 1236.70rows/s]\n",
      "Parsing to_id: 100%|██████████| 11065/11065 [00:00<00:00, 153969.58rows/s]\n",
      "Parsing fwd_from: 100%|██████████| 11065/11065 [00:34<00:00, 321.90rows/s] \n"
     ]
    },
    {
     "name": "stdout",
     "output_type": "stream",
     "text": [
      "66/299 Gubery\n"
     ]
    },
    {
     "name": "stderr",
     "output_type": "stream",
     "text": [
      "Parsing reactions: 100%|██████████| 64957/64957 [00:18<00:00, 3572.05rows/s]\n",
      "Parsing to_id: 100%|██████████| 64957/64957 [00:00<00:00, 162798.26rows/s]\n",
      "Parsing fwd_from: 100%|██████████| 64957/64957 [04:54<00:00, 220.22rows/s]\n"
     ]
    },
    {
     "name": "stdout",
     "output_type": "stream",
     "text": [
      "67/299 HersonVestnik\n"
     ]
    },
    {
     "name": "stderr",
     "output_type": "stream",
     "text": [
      "Parsing reactions: 100%|██████████| 11964/11964 [00:09<00:00, 1218.13rows/s]\n",
      "Parsing to_id: 100%|██████████| 11964/11964 [00:00<00:00, 150185.27rows/s]\n",
      "Parsing fwd_from: 100%|██████████| 11964/11964 [00:18<00:00, 644.06rows/s] \n"
     ]
    },
    {
     "name": "stdout",
     "output_type": "stream",
     "text": [
      "68/299 Hinshtein\n"
     ]
    },
    {
     "name": "stderr",
     "output_type": "stream",
     "text": [
      "Parsing reactions: 100%|██████████| 2914/2914 [00:02<00:00, 1278.60rows/s]\n",
      "Parsing to_id: 100%|██████████| 2914/2914 [00:00<00:00, 172457.03rows/s]\n",
      "Parsing fwd_from: 100%|██████████| 2914/2914 [00:03<00:00, 807.71rows/s] \n"
     ]
    },
    {
     "name": "stdout",
     "output_type": "stream",
     "text": [
      "69/299 holmogortalks\n"
     ]
    },
    {
     "name": "stderr",
     "output_type": "stream",
     "text": [
      "Parsing reactions: 100%|██████████| 25936/25936 [00:22<00:00, 1172.89rows/s]\n",
      "Parsing to_id: 100%|██████████| 25936/25936 [00:00<00:00, 154205.24rows/s]\n",
      "Parsing fwd_from: 100%|██████████| 25936/25936 [01:06<00:00, 391.77rows/s] \n"
     ]
    },
    {
     "name": "stdout",
     "output_type": "stream",
     "text": [
      "70/299 HouseOfCardsRussia\n"
     ]
    },
    {
     "name": "stderr",
     "output_type": "stream",
     "text": [
      "Parsing reactions: 100%|██████████| 82343/82343 [01:02<00:00, 1311.80rows/s]\n",
      "Parsing to_id: 100%|██████████| 82343/82343 [00:00<00:00, 153556.42rows/s]\n",
      "Parsing fwd_from: 100%|██████████| 82343/82343 [01:23<00:00, 985.23rows/s] \n"
     ]
    },
    {
     "name": "stdout",
     "output_type": "stream",
     "text": [
      "71/299 ia_steklomoy\n"
     ]
    },
    {
     "name": "stderr",
     "output_type": "stream",
     "text": [
      "Parsing reactions: 100%|██████████| 18767/18767 [00:05<00:00, 3721.91rows/s]\n",
      "Parsing to_id: 100%|██████████| 18767/18767 [00:00<00:00, 160823.67rows/s]\n",
      "Parsing fwd_from: 100%|██████████| 18767/18767 [00:48<00:00, 389.74rows/s] \n"
     ]
    },
    {
     "name": "stdout",
     "output_type": "stream",
     "text": [
      "72/299 ikakprosto\n"
     ]
    },
    {
     "name": "stderr",
     "output_type": "stream",
     "text": [
      "Parsing reactions: 100%|██████████| 5002/5002 [00:03<00:00, 1253.03rows/s]\n",
      "Parsing to_id: 100%|██████████| 5002/5002 [00:00<00:00, 139089.01rows/s]\n",
      "Parsing fwd_from: 100%|██████████| 5002/5002 [00:02<00:00, 2399.22rows/s]\n"
     ]
    },
    {
     "name": "stdout",
     "output_type": "stream",
     "text": [
      "73/299 imerkouri\n"
     ]
    },
    {
     "name": "stderr",
     "output_type": "stream",
     "text": [
      "Parsing reactions: 100%|██████████| 1832/1832 [00:01<00:00, 1210.60rows/s]\n",
      "Parsing to_id: 100%|██████████| 1832/1832 [00:00<00:00, 153088.38rows/s]\n",
      "Parsing fwd_from: 100%|██████████| 1832/1832 [00:01<00:00, 1050.95rows/s]\n"
     ]
    },
    {
     "name": "stdout",
     "output_type": "stream",
     "text": [
      "74/299 imnotbozhena\n"
     ]
    },
    {
     "name": "stderr",
     "output_type": "stream",
     "text": [
      "Parsing reactions: 100%|██████████| 29564/29564 [00:25<00:00, 1180.12rows/s]\n",
      "Parsing to_id: 100%|██████████| 29564/29564 [00:00<00:00, 152449.45rows/s]\n",
      "Parsing fwd_from: 100%|██████████| 29564/29564 [00:19<00:00, 1542.37rows/s]\n"
     ]
    },
    {
     "name": "stdout",
     "output_type": "stream",
     "text": [
      "75/299 infantmilitario\n"
     ]
    },
    {
     "name": "stderr",
     "output_type": "stream",
     "text": [
      "Parsing reactions: 100%|██████████| 87947/87947 [00:23<00:00, 3756.52rows/s]\n",
      "Parsing to_id: 100%|██████████| 87947/87947 [00:00<00:00, 175021.46rows/s]\n",
      "Parsing fwd_from: 100%|██████████| 87947/87947 [00:34<00:00, 2584.73rows/s] \n"
     ]
    },
    {
     "name": "stdout",
     "output_type": "stream",
     "text": [
      "76/299 infomoscow24\n"
     ]
    },
    {
     "name": "stderr",
     "output_type": "stream",
     "text": [
      "Parsing reactions: 100%|██████████| 35609/35609 [00:27<00:00, 1315.93rows/s]\n",
      "Parsing to_id: 100%|██████████| 35609/35609 [00:00<00:00, 169085.76rows/s]\n",
      "Parsing fwd_from: 100%|██████████| 35609/35609 [00:17<00:00, 1983.95rows/s]\n"
     ]
    },
    {
     "name": "stdout",
     "output_type": "stream",
     "text": [
      "77/299 informnapalm\n"
     ]
    },
    {
     "name": "stderr",
     "output_type": "stream",
     "text": [
      "Parsing reactions: 100%|██████████| 14468/14468 [00:12<00:00, 1181.96rows/s]\n",
      "Parsing to_id: 100%|██████████| 14468/14468 [00:00<00:00, 142215.12rows/s]\n",
      "Parsing fwd_from: 100%|██████████| 14468/14468 [00:20<00:00, 719.75rows/s] \n"
     ]
    },
    {
     "name": "stdout",
     "output_type": "stream",
     "text": [
      "78/299 insect_life\n"
     ]
    },
    {
     "name": "stderr",
     "output_type": "stream",
     "text": [
      "Parsing reactions: 100%|██████████| 16401/16401 [00:13<00:00, 1195.58rows/s]\n",
      "Parsing to_id: 100%|██████████| 16401/16401 [00:00<00:00, 143192.71rows/s]\n",
      "Parsing fwd_from: 100%|██████████| 16401/16401 [00:08<00:00, 1900.23rows/s]\n"
     ]
    },
    {
     "name": "stdout",
     "output_type": "stream",
     "text": [
      "79/299 InsightPeople\n"
     ]
    },
    {
     "name": "stderr",
     "output_type": "stream",
     "text": [
      "Parsing reactions: 100%|██████████| 2262/2262 [00:01<00:00, 1310.35rows/s]\n",
      "Parsing to_id: 100%|██████████| 2262/2262 [00:00<00:00, 174460.59rows/s]\n",
      "Parsing fwd_from: 100%|██████████| 2262/2262 [00:00<00:00, 2467.84rows/s]\n"
     ]
    },
    {
     "name": "stdout",
     "output_type": "stream",
     "text": [
      "80/299 istrkalkglk\n"
     ]
    },
    {
     "name": "stderr",
     "output_type": "stream",
     "text": [
      "Parsing reactions: 100%|██████████| 3567/3567 [00:00<00:00, 4095.11rows/s]\n",
      "Parsing to_id: 100%|██████████| 3567/3567 [00:00<00:00, 137560.52rows/s]\n",
      "Parsing fwd_from: 100%|██████████| 3567/3567 [00:03<00:00, 1143.38rows/s]\n"
     ]
    },
    {
     "name": "stdout",
     "output_type": "stream",
     "text": [
      "81/299 izvestia\n"
     ]
    },
    {
     "name": "stderr",
     "output_type": "stream",
     "text": [
      "Parsing reactions: 100%|██████████| 113400/113400 [01:28<00:00, 1281.54rows/s]\n",
      "Parsing to_id: 100%|██████████| 113400/113400 [00:00<00:00, 123091.63rows/s]\n",
      "Parsing fwd_from: 100%|██████████| 113400/113400 [01:02<00:00, 1804.01rows/s] \n"
     ]
    },
    {
     "name": "stdout",
     "output_type": "stream",
     "text": [
      "82/299 karaulny\n"
     ]
    },
    {
     "name": "stderr",
     "output_type": "stream",
     "text": [
      "Parsing reactions: 100%|██████████| 435487/435487 [02:04<00:00, 3510.55rows/s]\n",
      "Parsing to_id: 100%|██████████| 435487/435487 [00:02<00:00, 155021.32rows/s]\n",
      "Parsing fwd_from: 100%|██████████| 435487/435487 [39:27<00:00, 183.97rows/s] \n"
     ]
    },
    {
     "name": "stdout",
     "output_type": "stream",
     "text": [
      "83/299 kashinguru\n"
     ]
    },
    {
     "name": "stderr",
     "output_type": "stream",
     "text": [
      "Parsing reactions: 100%|██████████| 69474/69474 [00:07<00:00, 9116.59rows/s] \n",
      "Parsing to_id: 100%|██████████| 69474/69474 [00:00<00:00, 414649.11rows/s]\n",
      "Parsing fwd_from: 100%|██████████| 69474/69474 [02:41<00:00, 429.12rows/s] \n"
     ]
    },
    {
     "name": "stdout",
     "output_type": "stream",
     "text": [
      "84/299 kolezev\n"
     ]
    },
    {
     "name": "stderr",
     "output_type": "stream",
     "text": [
      "Parsing reactions: 100%|██████████| 12418/12418 [00:10<00:00, 1221.05rows/s]\n",
      "Parsing to_id: 100%|██████████| 12418/12418 [00:00<00:00, 128384.30rows/s]\n",
      "Parsing fwd_from: 100%|██████████| 12418/12418 [00:13<00:00, 887.82rows/s] \n"
     ]
    },
    {
     "name": "stdout",
     "output_type": "stream",
     "text": [
      "85/299 kommersant\n"
     ]
    },
    {
     "name": "stderr",
     "output_type": "stream",
     "text": [
      "Parsing reactions: 100%|██████████| 44071/44071 [00:30<00:00, 1436.98rows/s]\n",
      "Parsing to_id: 100%|██████████| 44071/44071 [00:00<00:00, 294149.65rows/s]\n",
      "Parsing fwd_from: 100%|██████████| 44071/44071 [00:16<00:00, 2634.47rows/s] \n"
     ]
    },
    {
     "name": "stdout",
     "output_type": "stream",
     "text": [
      "86/299 kononenkome\n"
     ]
    },
    {
     "name": "stderr",
     "output_type": "stream",
     "text": [
      "Parsing reactions: 100%|██████████| 36119/36119 [00:26<00:00, 1366.15rows/s] \n",
      "Parsing to_id: 100%|██████████| 36119/36119 [00:00<00:00, 180465.45rows/s]\n",
      "Parsing fwd_from: 100%|██████████| 36119/36119 [00:37<00:00, 973.78rows/s] \n"
     ]
    },
    {
     "name": "stdout",
     "output_type": "stream",
     "text": [
      "87/299 kornilov1968\n"
     ]
    },
    {
     "name": "stderr",
     "output_type": "stream",
     "text": [
      "Parsing reactions: 100%|██████████| 14390/14390 [00:10<00:00, 1380.96rows/s]\n",
      "Parsing to_id: 100%|██████████| 14390/14390 [00:00<00:00, 181586.90rows/s]\n",
      "Parsing fwd_from: 100%|██████████| 14390/14390 [00:15<00:00, 905.79rows/s] \n"
     ]
    },
    {
     "name": "stdout",
     "output_type": "stream",
     "text": [
      "88/299 KotNaMirotvorze\n"
     ]
    },
    {
     "name": "stderr",
     "output_type": "stream",
     "text": [
      "Parsing reactions: 100%|██████████| 14248/14248 [00:04<00:00, 3054.62rows/s] \n",
      "Parsing to_id: 100%|██████████| 14248/14248 [00:00<00:00, 285824.36rows/s]\n",
      "Parsing fwd_from: 100%|██████████| 14248/14248 [00:15<00:00, 911.45rows/s] \n"
     ]
    },
    {
     "name": "stdout",
     "output_type": "stream",
     "text": [
      "89/299 kozakrichala\n"
     ]
    },
    {
     "name": "stderr",
     "output_type": "stream",
     "text": [
      "Parsing reactions: 100%|██████████| 23505/23505 [00:06<00:00, 3622.46rows/s]\n",
      "Parsing to_id: 100%|██████████| 23505/23505 [00:00<00:00, 168233.09rows/s]\n",
      "Parsing fwd_from: 100%|██████████| 23505/23505 [00:37<00:00, 622.28rows/s] \n"
     ]
    },
    {
     "name": "stdout",
     "output_type": "stream",
     "text": [
      "90/299 krasovkin\n"
     ]
    },
    {
     "name": "stderr",
     "output_type": "stream",
     "text": [
      "Parsing reactions: 100%|██████████| 9745/9745 [00:07<00:00, 1327.99rows/s]\n",
      "Parsing to_id: 100%|██████████| 9745/9745 [00:00<00:00, 144107.99rows/s]\n",
      "Parsing fwd_from: 100%|██████████| 9745/9745 [00:20<00:00, 486.03rows/s] \n"
     ]
    },
    {
     "name": "stdout",
     "output_type": "stream",
     "text": [
      "91/299 kremlebezBashennik\n"
     ]
    },
    {
     "name": "stderr",
     "output_type": "stream",
     "text": [
      "Parsing reactions: 100%|██████████| 31163/31163 [00:08<00:00, 3806.32rows/s]\n",
      "Parsing to_id: 100%|██████████| 31163/31163 [00:00<00:00, 208010.76rows/s]\n",
      "Parsing fwd_from: 100%|██████████| 31163/31163 [01:34<00:00, 328.15rows/s] \n"
     ]
    },
    {
     "name": "stdout",
     "output_type": "stream",
     "text": [
      "92/299 kremlinprachka\n"
     ]
    },
    {
     "name": "stderr",
     "output_type": "stream",
     "text": [
      "Parsing reactions: 100%|██████████| 21641/21641 [00:05<00:00, 4005.20rows/s]\n",
      "Parsing to_id: 100%|██████████| 21641/21641 [00:00<00:00, 148897.21rows/s]\n",
      "Parsing fwd_from: 100%|██████████| 21641/21641 [00:17<00:00, 1202.61rows/s]\n"
     ]
    },
    {
     "name": "stdout",
     "output_type": "stream",
     "text": [
      "93/299 kremlin_mother_expert\n"
     ]
    },
    {
     "name": "stderr",
     "output_type": "stream",
     "text": [
      "Parsing reactions: 100%|██████████| 13475/13475 [00:10<00:00, 1300.30rows/s]\n",
      "Parsing to_id: 100%|██████████| 13475/13475 [00:00<00:00, 152835.87rows/s]\n",
      "Parsing fwd_from: 100%|██████████| 13475/13475 [00:08<00:00, 1591.11rows/s]\n"
     ]
    },
    {
     "name": "stdout",
     "output_type": "stream",
     "text": [
      "94/299 krispotupchik\n"
     ]
    },
    {
     "name": "stderr",
     "output_type": "stream",
     "text": [
      "Parsing reactions: 100%|██████████| 6562/6562 [00:04<00:00, 1330.63rows/s]\n",
      "Parsing to_id: 100%|██████████| 6562/6562 [00:00<00:00, 146014.60rows/s]\n",
      "Parsing fwd_from: 100%|██████████| 6562/6562 [00:04<00:00, 1330.48rows/s]\n"
     ]
    },
    {
     "name": "stdout",
     "output_type": "stream",
     "text": [
      "95/299 kryuchkovoleg\n"
     ]
    },
    {
     "name": "stderr",
     "output_type": "stream",
     "text": [
      "Parsing reactions: 100%|██████████| 571/571 [00:00<00:00, 3803.48rows/s]\n",
      "Parsing to_id: 100%|██████████| 571/571 [00:00<00:00, 53866.26rows/s]\n",
      "Parsing fwd_from: 100%|██████████| 571/571 [00:00<00:00, 804.31rows/s] \n"
     ]
    },
    {
     "name": "stdout",
     "output_type": "stream",
     "text": [
      "96/299 ksbchk\n"
     ]
    },
    {
     "name": "stderr",
     "output_type": "stream",
     "text": [
      "Parsing reactions: 100%|██████████| 5095/5095 [00:04<00:00, 1196.19rows/s]\n",
      "Parsing to_id: 100%|██████████| 5095/5095 [00:00<00:00, 183242.97rows/s]\n",
      "Parsing fwd_from: 100%|██████████| 5095/5095 [00:01<00:00, 2748.48rows/s]\n"
     ]
    },
    {
     "name": "stdout",
     "output_type": "stream",
     "text": [
      "97/299 kshulika\n"
     ]
    },
    {
     "name": "stderr",
     "output_type": "stream",
     "text": [
      "Parsing reactions: 100%|██████████| 60665/60665 [00:23<00:00, 2553.71rows/s] \n",
      "Parsing to_id: 100%|██████████| 60665/60665 [00:00<00:00, 421818.14rows/s]\n",
      "Parsing fwd_from: 100%|██████████| 60665/60665 [00:08<00:00, 7182.49rows/s] \n"
     ]
    },
    {
     "name": "stdout",
     "output_type": "stream",
     "text": [
      "98/299 kstati_p\n"
     ]
    },
    {
     "name": "stderr",
     "output_type": "stream",
     "text": [
      "Parsing reactions: 100%|██████████| 22746/22746 [00:07<00:00, 3232.89rows/s] \n",
      "Parsing to_id: 100%|██████████| 22746/22746 [00:00<00:00, 355488.96rows/s]\n",
      "Parsing fwd_from: 100%|██████████| 22746/22746 [00:08<00:00, 2657.81rows/s]\n"
     ]
    },
    {
     "name": "stdout",
     "output_type": "stream",
     "text": [
      "99/299 larkin_doc\n"
     ]
    },
    {
     "name": "stderr",
     "output_type": "stream",
     "text": [
      "Parsing reactions: 100%|██████████| 10337/10337 [00:02<00:00, 3629.29rows/s] \n",
      "Parsing to_id: 100%|██████████| 10337/10337 [00:00<00:00, 303090.71rows/s]\n",
      "Parsing fwd_from: 100%|██████████| 10337/10337 [00:12<00:00, 840.44rows/s] \n"
     ]
    },
    {
     "name": "stdout",
     "output_type": "stream",
     "text": [
      "100/299 Lauradjagadiary\n"
     ]
    },
    {
     "name": "stderr",
     "output_type": "stream",
     "text": [
      "Parsing reactions: 100%|██████████| 6650/6650 [00:04<00:00, 1419.59rows/s]\n",
      "Parsing to_id: 100%|██████████| 6650/6650 [00:00<00:00, 277854.26rows/s]\n",
      "Parsing fwd_from: 100%|██████████| 6650/6650 [00:03<00:00, 2010.99rows/s]\n"
     ]
    },
    {
     "name": "stdout",
     "output_type": "stream",
     "text": [
      "101/299 lentachold\n"
     ]
    },
    {
     "name": "stderr",
     "output_type": "stream",
     "text": [
      "Parsing reactions: 100%|██████████| 55553/55553 [00:06<00:00, 9022.46rows/s] \n",
      "Parsing to_id: 100%|██████████| 55553/55553 [00:00<00:00, 448447.55rows/s]\n",
      "Parsing fwd_from: 100%|██████████| 55553/55553 [00:08<00:00, 6694.26rows/s] \n"
     ]
    },
    {
     "name": "stdout",
     "output_type": "stream",
     "text": [
      "102/299 lentadnya\n"
     ]
    },
    {
     "name": "stderr",
     "output_type": "stream",
     "text": [
      "Parsing reactions: 100%|██████████| 62966/62966 [00:20<00:00, 3079.66rows/s] \n",
      "Parsing to_id: 100%|██████████| 62966/62966 [00:00<00:00, 396901.93rows/s]\n",
      "Parsing fwd_from: 100%|██████████| 62966/62966 [00:45<00:00, 1375.90rows/s]\n"
     ]
    },
    {
     "name": "stdout",
     "output_type": "stream",
     "text": [
      "103/299 lesyaryabtseva\n"
     ]
    },
    {
     "name": "stderr",
     "output_type": "stream",
     "text": [
      "Parsing reactions: 100%|██████████| 5880/5880 [00:05<00:00, 1020.48rows/s]\n",
      "Parsing to_id: 100%|██████████| 5880/5880 [00:00<00:00, 171229.36rows/s]\n",
      "Parsing fwd_from: 100%|██████████| 5880/5880 [00:11<00:00, 519.78rows/s] \n"
     ]
    },
    {
     "name": "stdout",
     "output_type": "stream",
     "text": [
      "104/299 leylinurimm\n"
     ]
    },
    {
     "name": "stderr",
     "output_type": "stream",
     "text": [
      "Parsing reactions: 100%|██████████| 29215/29215 [00:19<00:00, 1466.09rows/s]\n",
      "Parsing to_id: 100%|██████████| 29215/29215 [00:00<00:00, 232714.64rows/s]\n",
      "Parsing fwd_from: 100%|██████████| 29215/29215 [00:10<00:00, 2816.61rows/s]\n"
     ]
    },
    {
     "name": "stdout",
     "output_type": "stream",
     "text": [
      "105/299 lobaev_vlad\n"
     ]
    },
    {
     "name": "stderr",
     "output_type": "stream",
     "text": [
      "Parsing reactions: 100%|██████████| 4939/4939 [00:03<00:00, 1541.13rows/s]\n",
      "Parsing to_id: 100%|██████████| 4939/4939 [00:00<00:00, 166036.16rows/s]\n",
      "Parsing fwd_from: 100%|██████████| 4939/4939 [00:08<00:00, 609.84rows/s] \n"
     ]
    },
    {
     "name": "stdout",
     "output_type": "stream",
     "text": [
      "106/299 lu_di_z\n"
     ]
    },
    {
     "name": "stderr",
     "output_type": "stream",
     "text": [
      "Parsing reactions: 100%|██████████| 15943/15943 [00:10<00:00, 1463.22rows/s]\n",
      "Parsing to_id: 100%|██████████| 15943/15943 [00:00<00:00, 218378.14rows/s]\n",
      "Parsing fwd_from: 100%|██████████| 15943/15943 [00:06<00:00, 2479.67rows/s]\n"
     ]
    },
    {
     "name": "stdout",
     "output_type": "stream",
     "text": [
      "107/299 madam_secretar\n"
     ]
    },
    {
     "name": "stderr",
     "output_type": "stream",
     "text": [
      "Parsing reactions: 100%|██████████| 17627/17627 [00:12<00:00, 1365.03rows/s]\n",
      "Parsing to_id: 100%|██████████| 17627/17627 [00:00<00:00, 226604.82rows/s]\n",
      "Parsing fwd_from: 100%|██████████| 17627/17627 [00:15<00:00, 1131.16rows/s]\n"
     ]
    },
    {
     "name": "stdout",
     "output_type": "stream",
     "text": [
      "108/299 maester\n"
     ]
    },
    {
     "name": "stderr",
     "output_type": "stream",
     "text": [
      "Parsing reactions: 100%|██████████| 4155/4155 [00:00<00:00, 4301.73rows/s]\n",
      "Parsing to_id: 100%|██████████| 4155/4155 [00:00<00:00, 134403.79rows/s]\n",
      "Parsing fwd_from: 100%|██████████| 4155/4155 [00:01<00:00, 2107.07rows/s]\n"
     ]
    },
    {
     "name": "stdout",
     "output_type": "stream",
     "text": [
      "109/299 makarov_kb\n"
     ]
    },
    {
     "name": "stderr",
     "output_type": "stream",
     "text": [
      "Parsing reactions: 100%|██████████| 1849/1849 [00:01<00:00, 1332.91rows/s]\n",
      "Parsing to_id: 100%|██████████| 1849/1849 [00:00<00:00, 123593.87rows/s]\n",
      "Parsing fwd_from: 100%|██████████| 1849/1849 [00:01<00:00, 962.19rows/s] \n"
     ]
    },
    {
     "name": "stdout",
     "output_type": "stream",
     "text": [
      "110/299 mardanaka\n"
     ]
    },
    {
     "name": "stderr",
     "output_type": "stream",
     "text": [
      "Parsing reactions: 100%|██████████| 10852/10852 [00:03<00:00, 3600.82rows/s]\n",
      "Parsing to_id: 100%|██████████| 10852/10852 [00:00<00:00, 172643.47rows/s]\n",
      "Parsing fwd_from: 100%|██████████| 10852/10852 [00:16<00:00, 648.15rows/s] \n"
     ]
    },
    {
     "name": "stdout",
     "output_type": "stream",
     "text": [
      "111/299 margaritasimonyan\n"
     ]
    },
    {
     "name": "stderr",
     "output_type": "stream",
     "text": [
      "Parsing reactions: 100%|██████████| 12237/12237 [00:03<00:00, 3659.81rows/s]\n",
      "Parsing to_id: 100%|██████████| 12237/12237 [00:00<00:00, 142567.42rows/s]\n",
      "Parsing fwd_from: 100%|██████████| 12237/12237 [00:24<00:00, 497.76rows/s]\n"
     ]
    },
    {
     "name": "stdout",
     "output_type": "stream",
     "text": [
      "112/299 mariabutina\n"
     ]
    },
    {
     "name": "stderr",
     "output_type": "stream",
     "text": [
      "Parsing reactions: 100%|██████████| 48659/48659 [00:34<00:00, 1404.59rows/s]\n",
      "Parsing to_id: 100%|██████████| 48659/48659 [00:00<00:00, 247049.00rows/s]\n",
      "Parsing fwd_from: 100%|██████████| 48659/48659 [00:16<00:00, 2925.08rows/s] \n"
     ]
    },
    {
     "name": "stdout",
     "output_type": "stream",
     "text": [
      "113/299 mariashukshina\n"
     ]
    },
    {
     "name": "stderr",
     "output_type": "stream",
     "text": [
      "Parsing reactions: 100%|██████████| 9084/9084 [00:02<00:00, 4070.25rows/s]\n",
      "Parsing to_id: 100%|██████████| 9084/9084 [00:00<00:00, 171798.18rows/s]\n",
      "Parsing fwd_from: 100%|██████████| 9084/9084 [00:28<00:00, 322.55rows/s]\n"
     ]
    },
    {
     "name": "stdout",
     "output_type": "stream",
     "text": [
      "114/299 MariaVladimirovnaZakharova\n"
     ]
    },
    {
     "name": "stderr",
     "output_type": "stream",
     "text": [
      "Parsing reactions: 100%|██████████| 4196/4196 [00:00<00:00, 5573.96rows/s]\n",
      "Parsing to_id: 100%|██████████| 4196/4196 [00:00<00:00, 210364.44rows/s]\n",
      "Parsing fwd_from: 100%|██████████| 4196/4196 [00:03<00:00, 1203.85rows/s]\n"
     ]
    },
    {
     "name": "stdout",
     "output_type": "stream",
     "text": [
      "115/299 Marinaslovo\n"
     ]
    },
    {
     "name": "stderr",
     "output_type": "stream",
     "text": [
      "Parsing reactions: 100%|██████████| 5050/5050 [00:05<00:00, 1001.62rows/s]\n",
      "Parsing to_id: 100%|██████████| 5050/5050 [00:00<00:00, 83027.53rows/s]\n",
      "Parsing fwd_from: 100%|██████████| 5050/5050 [00:05<00:00, 858.59rows/s] \n"
     ]
    },
    {
     "name": "stdout",
     "output_type": "stream",
     "text": [
      "116/299 maryananaumova\n"
     ]
    },
    {
     "name": "stderr",
     "output_type": "stream",
     "text": [
      "Parsing reactions: 100%|██████████| 607/607 [00:00<00:00, 2150.36rows/s]\n",
      "Parsing to_id: 100%|██████████| 607/607 [00:00<00:00, 202896.28rows/s]\n",
      "Parsing fwd_from: 100%|██████████| 607/607 [00:00<00:00, 3408.78rows/s]\n"
     ]
    },
    {
     "name": "stdout",
     "output_type": "stream",
     "text": [
      "117/299 mashmoyka\n"
     ]
    },
    {
     "name": "stderr",
     "output_type": "stream",
     "text": [
      "Parsing reactions: 100%|██████████| 10851/10851 [00:05<00:00, 1866.46rows/s]\n",
      "Parsing to_id: 100%|██████████| 10851/10851 [00:00<00:00, 293690.87rows/s]\n",
      "Parsing fwd_from: 100%|██████████| 10851/10851 [00:02<00:00, 4712.39rows/s]\n"
     ]
    },
    {
     "name": "stdout",
     "output_type": "stream",
     "text": [
      "118/299 master_pera\n"
     ]
    },
    {
     "name": "stderr",
     "output_type": "stream",
     "text": [
      "Parsing reactions: 100%|██████████| 11075/11075 [00:01<00:00, 8133.15rows/s] \n",
      "Parsing to_id: 100%|██████████| 11075/11075 [00:00<00:00, 308189.86rows/s]\n",
      "Parsing fwd_from: 100%|██████████| 11075/11075 [00:07<00:00, 1474.54rows/s]\n"
     ]
    },
    {
     "name": "stdout",
     "output_type": "stream",
     "text": [
      "119/299 maxim2004live\n"
     ]
    },
    {
     "name": "stderr",
     "output_type": "stream",
     "text": [
      "Parsing reactions: 100%|██████████| 1185/1185 [00:00<00:00, 2822.26rows/s]\n",
      "Parsing to_id: 100%|██████████| 1185/1185 [00:00<00:00, 237924.86rows/s]\n",
      "Parsing fwd_from: 100%|██████████| 1185/1185 [00:00<00:00, 5143.62rows/s]\n"
     ]
    },
    {
     "name": "stdout",
     "output_type": "stream",
     "text": [
      "120/299 mediakiller\n"
     ]
    },
    {
     "name": "stderr",
     "output_type": "stream",
     "text": [
      "Parsing reactions: 100%|██████████| 4591/4591 [00:00<00:00, 8414.86rows/s] \n",
      "Parsing to_id: 100%|██████████| 4591/4591 [00:00<00:00, 287682.82rows/s]\n",
      "Parsing fwd_from: 100%|██████████| 4591/4591 [00:01<00:00, 3364.98rows/s]\n"
     ]
    },
    {
     "name": "stdout",
     "output_type": "stream",
     "text": [
      "121/299 mediatech\n"
     ]
    },
    {
     "name": "stderr",
     "output_type": "stream",
     "text": [
      "Parsing reactions: 100%|██████████| 15823/15823 [00:01<00:00, 8293.43rows/s] \n",
      "Parsing to_id: 100%|██████████| 15823/15823 [00:00<00:00, 223449.36rows/s]\n",
      "Parsing fwd_from: 100%|██████████| 15823/15823 [00:08<00:00, 1959.45rows/s]\n"
     ]
    },
    {
     "name": "stdout",
     "output_type": "stream",
     "text": [
      "122/299 mediazzzona\n"
     ]
    },
    {
     "name": "stderr",
     "output_type": "stream",
     "text": [
      "Parsing reactions: 100%|██████████| 10112/10112 [00:01<00:00, 8470.38rows/s]\n",
      "Parsing to_id: 100%|██████████| 10112/10112 [00:00<00:00, 405600.20rows/s]\n",
      "Parsing fwd_from: 100%|██████████| 10112/10112 [00:02<00:00, 3634.07rows/s]\n"
     ]
    },
    {
     "name": "stdout",
     "output_type": "stream",
     "text": [
      "123/299 meduzalive\n"
     ]
    },
    {
     "name": "stderr",
     "output_type": "stream",
     "text": [
      "Parsing reactions: 100%|██████████| 74906/74906 [00:15<00:00, 4729.22rows/s] \n",
      "Parsing to_id: 100%|██████████| 74906/74906 [00:00<00:00, 298092.28rows/s]\n",
      "Parsing fwd_from: 100%|██████████| 74906/74906 [00:48<00:00, 1538.57rows/s]\n"
     ]
    },
    {
     "name": "stdout",
     "output_type": "stream",
     "text": [
      "124/299 Medvedeva_Olesya\n"
     ]
    },
    {
     "name": "stderr",
     "output_type": "stream",
     "text": [
      "Parsing reactions: 100%|██████████| 7706/7706 [00:01<00:00, 5434.48rows/s]\n",
      "Parsing to_id: 100%|██████████| 7706/7706 [00:00<00:00, 120721.71rows/s]\n",
      "Parsing fwd_from: 100%|██████████| 7706/7706 [00:09<00:00, 843.83rows/s] \n"
     ]
    },
    {
     "name": "stdout",
     "output_type": "stream",
     "text": [
      "125/299 MedvedevVesti\n"
     ]
    },
    {
     "name": "stderr",
     "output_type": "stream",
     "text": [
      "Parsing reactions: 100%|██████████| 11788/11788 [00:02<00:00, 4062.83rows/s]\n",
      "Parsing to_id: 100%|██████████| 11788/11788 [00:00<00:00, 183770.89rows/s]\n",
      "Parsing fwd_from: 100%|██████████| 11788/11788 [00:30<00:00, 381.83rows/s]\n"
     ]
    },
    {
     "name": "stdout",
     "output_type": "stream",
     "text": [
      "126/299 medvedev_telegram\n"
     ]
    },
    {
     "name": "stderr",
     "output_type": "stream",
     "text": [
      "Parsing reactions: 100%|██████████| 222/222 [00:00<00:00, 6107.21rows/s]\n",
      "Parsing to_id: 100%|██████████| 222/222 [00:00<?, ?rows/s]\n",
      "Parsing fwd_from: 100%|██████████| 222/222 [00:00<00:00, 12347.64rows/s]\n"
     ]
    },
    {
     "name": "stdout",
     "output_type": "stream",
     "text": [
      "127/299 mestamedia\n"
     ]
    },
    {
     "name": "stderr",
     "output_type": "stream",
     "text": [
      "Parsing reactions: 100%|██████████| 16072/16072 [00:11<00:00, 1444.64rows/s]\n",
      "Parsing to_id: 100%|██████████| 16072/16072 [00:00<00:00, 208723.01rows/s]\n",
      "Parsing fwd_from: 100%|██████████| 16072/16072 [00:21<00:00, 734.04rows/s] \n"
     ]
    },
    {
     "name": "stdout",
     "output_type": "stream",
     "text": [
      "128/299 metodi4ka\n"
     ]
    },
    {
     "name": "stderr",
     "output_type": "stream",
     "text": [
      "Parsing reactions: 100%|██████████| 7225/7225 [00:01<00:00, 4874.74rows/s]\n",
      "Parsing to_id: 100%|██████████| 7225/7225 [00:00<00:00, 181389.56rows/s]\n",
      "Parsing fwd_from: 100%|██████████| 7225/7225 [00:03<00:00, 2394.63rows/s] \n"
     ]
    },
    {
     "name": "stdout",
     "output_type": "stream",
     "text": [
      "129/299 MID_Russia\n"
     ]
    },
    {
     "name": "stderr",
     "output_type": "stream",
     "text": [
      "Parsing reactions: 100%|██████████| 23469/23469 [00:05<00:00, 4026.22rows/s]\n",
      "Parsing to_id: 100%|██████████| 23469/23469 [00:00<00:00, 217161.65rows/s]\n",
      "Parsing fwd_from: 100%|██████████| 23469/23469 [00:19<00:00, 1201.86rows/s]\n"
     ]
    },
    {
     "name": "stdout",
     "output_type": "stream",
     "text": [
      "130/299 mig41\n"
     ]
    },
    {
     "name": "stderr",
     "output_type": "stream",
     "text": [
      "Parsing reactions: 100%|██████████| 21414/21414 [00:13<00:00, 1639.84rows/s]\n",
      "Parsing to_id: 100%|██████████| 21414/21414 [00:00<00:00, 412109.65rows/s]\n",
      "Parsing fwd_from: 100%|██████████| 21414/21414 [00:16<00:00, 1304.86rows/s]\n"
     ]
    },
    {
     "name": "stdout",
     "output_type": "stream",
     "text": [
      "131/299 Mikle1On\n"
     ]
    },
    {
     "name": "stderr",
     "output_type": "stream",
     "text": [
      "Parsing reactions: 100%|██████████| 9151/9151 [00:06<00:00, 1355.28rows/s]\n",
      "Parsing to_id: 100%|██████████| 9151/9151 [00:00<00:00, 367018.65rows/s]\n",
      "Parsing fwd_from: 100%|██████████| 9151/9151 [00:16<00:00, 565.94rows/s] \n"
     ]
    },
    {
     "name": "stdout",
     "output_type": "stream",
     "text": [
      "132/299 milchronicles\n"
     ]
    },
    {
     "name": "stderr",
     "output_type": "stream",
     "text": [
      "Parsing reactions: 100%|██████████| 1362/1362 [00:00<00:00, 3110.61rows/s]\n",
      "Parsing to_id: 100%|██████████| 1362/1362 [00:00<00:00, 170475.74rows/s]\n",
      "Parsing fwd_from: 100%|██████████| 1362/1362 [00:00<00:00, 4969.07rows/s]\n",
      "C:\\Users\\IvarY\\AppData\\Local\\Temp\\ipykernel_11356\\3396395887.py:4: DtypeWarning: Columns (6) have mixed types. Specify dtype option on import or set low_memory=False.\n",
      "  df = pd.read_csv(os.path.join(INPUT_FOLDER, filename), index_col='Unnamed: 0', dtype=dtype_dict, parse_dates=['date'])\n"
     ]
    },
    {
     "name": "stdout",
     "output_type": "stream",
     "text": [
      "133/299 milinfolive\n"
     ]
    },
    {
     "name": "stderr",
     "output_type": "stream",
     "text": [
      "Parsing reactions: 100%|██████████| 91083/91083 [00:10<00:00, 8978.31rows/s] \n",
      "Parsing to_id: 100%|██████████| 91083/91083 [00:00<00:00, 453684.76rows/s]\n",
      "Parsing fwd_from: 100%|██████████| 91083/91083 [00:13<00:00, 6609.69rows/s] \n"
     ]
    },
    {
     "name": "stdout",
     "output_type": "stream",
     "text": [
      "134/299 minaevlife\n"
     ]
    },
    {
     "name": "stderr",
     "output_type": "stream",
     "text": [
      "Parsing reactions: 100%|██████████| 10413/10413 [00:04<00:00, 2440.07rows/s]\n",
      "Parsing to_id: 100%|██████████| 10413/10413 [00:00<00:00, 388100.59rows/s]\n",
      "Parsing fwd_from: 100%|██████████| 10413/10413 [00:17<00:00, 597.83rows/s] \n"
     ]
    },
    {
     "name": "stdout",
     "output_type": "stream",
     "text": [
      "135/299 mkhusnullin\n"
     ]
    },
    {
     "name": "stderr",
     "output_type": "stream",
     "text": [
      "Parsing reactions: 100%|██████████| 742/742 [00:00<00:00, 1006.61rows/s]\n",
      "Parsing to_id: 100%|██████████| 742/742 [00:00<00:00, 185745.96rows/s]\n",
      "Parsing fwd_from: 100%|██████████| 742/742 [00:00<00:00, 2032.96rows/s]\n"
     ]
    },
    {
     "name": "stdout",
     "output_type": "stream",
     "text": [
      "136/299 mnews_ru\n"
     ]
    },
    {
     "name": "stderr",
     "output_type": "stream",
     "text": [
      "Parsing reactions: 100%|██████████| 9245/9245 [00:05<00:00, 1802.96rows/s]\n",
      "Parsing to_id: 100%|██████████| 9245/9245 [00:00<00:00, 257193.82rows/s]\n",
      "Parsing fwd_from: 100%|██████████| 9245/9245 [00:07<00:00, 1264.26rows/s]\n"
     ]
    },
    {
     "name": "stdout",
     "output_type": "stream",
     "text": [
      "137/299 mnogonazi\n"
     ]
    },
    {
     "name": "stderr",
     "output_type": "stream",
     "text": [
      "Parsing reactions: 100%|██████████| 9179/9179 [00:08<00:00, 1073.38rows/s]\n",
      "Parsing to_id: 100%|██████████| 9179/9179 [00:00<00:00, 178751.59rows/s]\n",
      "Parsing fwd_from: 100%|██████████| 9179/9179 [00:04<00:00, 1994.61rows/s]\n"
     ]
    },
    {
     "name": "stdout",
     "output_type": "stream",
     "text": [
      "138/299 mod_russia\n"
     ]
    },
    {
     "name": "stderr",
     "output_type": "stream",
     "text": [
      "Parsing reactions: 100%|██████████| 9573/9573 [00:09<00:00, 1029.99rows/s]\n",
      "Parsing to_id: 100%|██████████| 9573/9573 [00:00<00:00, 125113.57rows/s]\n",
      "Parsing fwd_from: 100%|██████████| 9573/9573 [00:05<00:00, 1772.16rows/s]\n"
     ]
    },
    {
     "name": "stdout",
     "output_type": "stream",
     "text": [
      "139/299 momdontread\n"
     ]
    },
    {
     "name": "stderr",
     "output_type": "stream",
     "text": [
      "Parsing reactions: 100%|██████████| 2333/2333 [00:02<00:00, 1072.90rows/s]\n",
      "Parsing to_id: 100%|██████████| 2333/2333 [00:00<00:00, 145515.14rows/s]\n",
      "Parsing fwd_from: 100%|██████████| 2333/2333 [00:01<00:00, 2226.97rows/s]\n"
     ]
    },
    {
     "name": "stdout",
     "output_type": "stream",
     "text": [
      "140/299 moscowach\n"
     ]
    },
    {
     "name": "stderr",
     "output_type": "stream",
     "text": [
      "Parsing reactions: 100%|██████████| 25029/25029 [00:16<00:00, 1479.77rows/s]\n",
      "Parsing to_id: 100%|██████████| 25029/25029 [00:00<00:00, 216425.26rows/s]\n",
      "Parsing fwd_from: 100%|██████████| 25029/25029 [00:07<00:00, 3205.38rows/s] \n"
     ]
    },
    {
     "name": "stdout",
     "output_type": "stream",
     "text": [
      "141/299 MoscowEcon\n"
     ]
    },
    {
     "name": "stderr",
     "output_type": "stream",
     "text": [
      "Parsing reactions: 100%|██████████| 3165/3165 [00:02<00:00, 1220.40rows/s]\n",
      "Parsing to_id: 100%|██████████| 3165/3165 [00:00<00:00, 126946.98rows/s]\n",
      "Parsing fwd_from: 100%|██████████| 3165/3165 [00:01<00:00, 1661.68rows/s]\n"
     ]
    },
    {
     "name": "stdout",
     "output_type": "stream",
     "text": [
      "142/299 moscowmap\n"
     ]
    },
    {
     "name": "stderr",
     "output_type": "stream",
     "text": [
      "Parsing reactions: 100%|██████████| 49183/49183 [00:11<00:00, 4159.62rows/s]\n",
      "Parsing to_id: 100%|██████████| 49183/49183 [00:00<00:00, 240711.39rows/s]\n",
      "Parsing fwd_from: 100%|██████████| 49183/49183 [00:15<00:00, 3093.20rows/s] \n"
     ]
    },
    {
     "name": "stdout",
     "output_type": "stream",
     "text": [
      "143/299 mosnow\n"
     ]
    },
    {
     "name": "stderr",
     "output_type": "stream",
     "text": [
      "Parsing reactions: 100%|██████████| 29013/29013 [00:10<00:00, 2768.14rows/s] \n",
      "Parsing to_id: 100%|██████████| 29013/29013 [00:00<00:00, 208875.75rows/s]\n",
      "Parsing fwd_from: 100%|██████████| 29013/29013 [00:05<00:00, 4920.51rows/s] \n"
     ]
    },
    {
     "name": "stdout",
     "output_type": "stream",
     "text": [
      "144/299 mozhemobyasnit\n"
     ]
    },
    {
     "name": "stderr",
     "output_type": "stream",
     "text": [
      "Parsing reactions: 100%|██████████| 3635/3635 [00:01<00:00, 3144.61rows/s]\n",
      "Parsing to_id: 100%|██████████| 3635/3635 [00:00<00:00, 214404.37rows/s]\n",
      "Parsing fwd_from: 100%|██████████| 3635/3635 [00:00<00:00, 5206.74rows/s] \n"
     ]
    },
    {
     "name": "stdout",
     "output_type": "stream",
     "text": [
      "145/299 msgazdiev\n"
     ]
    },
    {
     "name": "stderr",
     "output_type": "stream",
     "text": [
      "Parsing reactions: 100%|██████████| 982/982 [00:00<00:00, 8713.55rows/s]\n",
      "Parsing to_id: 100%|██████████| 982/982 [00:00<00:00, 492385.72rows/s]\n",
      "Parsing fwd_from: 100%|██████████| 982/982 [00:00<00:00, 1803.22rows/s]\n"
     ]
    },
    {
     "name": "stdout",
     "output_type": "stream",
     "text": [
      "146/299 Nackepelo\n"
     ]
    },
    {
     "name": "stderr",
     "output_type": "stream",
     "text": [
      "Parsing reactions: 100%|██████████| 3940/3940 [00:00<00:00, 6172.73rows/s] \n",
      "Parsing to_id: 100%|██████████| 3940/3940 [00:00<00:00, 219480.41rows/s]\n",
      "Parsing fwd_from: 100%|██████████| 3940/3940 [00:04<00:00, 980.04rows/s] \n"
     ]
    },
    {
     "name": "stdout",
     "output_type": "stream",
     "text": [
      "147/299 naralex88\n"
     ]
    },
    {
     "name": "stderr",
     "output_type": "stream",
     "text": [
      "Parsing reactions: 100%|██████████| 694/694 [00:00<00:00, 2209.07rows/s]\n",
      "Parsing to_id: 100%|██████████| 694/694 [00:00<00:00, 173948.07rows/s]\n",
      "Parsing fwd_from: 100%|██████████| 694/694 [00:01<00:00, 510.79rows/s] \n"
     ]
    },
    {
     "name": "stdout",
     "output_type": "stream",
     "text": [
      "148/299 navalny\n"
     ]
    },
    {
     "name": "stderr",
     "output_type": "stream",
     "text": [
      "Parsing reactions: 100%|██████████| 3264/3264 [00:01<00:00, 1671.31rows/s]\n",
      "Parsing to_id: 100%|██████████| 3264/3264 [00:00<00:00, 136360.73rows/s]\n",
      "Parsing fwd_from: 100%|██████████| 3264/3264 [00:03<00:00, 840.70rows/s] \n"
     ]
    },
    {
     "name": "stdout",
     "output_type": "stream",
     "text": [
      "149/299 navideovidno\n"
     ]
    },
    {
     "name": "stderr",
     "output_type": "stream",
     "text": [
      "Parsing reactions: 100%|██████████| 54637/54637 [00:16<00:00, 3405.29rows/s] \n",
      "Parsing to_id: 100%|██████████| 54637/54637 [00:00<00:00, 285265.32rows/s]\n",
      "Parsing fwd_from: 100%|██████████| 54637/54637 [03:21<00:00, 271.61rows/s]\n"
     ]
    },
    {
     "name": "stdout",
     "output_type": "stream",
     "text": [
      "150/299 nemorgenshtern\n"
     ]
    },
    {
     "name": "stderr",
     "output_type": "stream",
     "text": [
      "Parsing reactions: 100%|██████████| 11232/11232 [00:08<00:00, 1311.32rows/s]\n",
      "Parsing to_id: 100%|██████████| 11232/11232 [00:00<00:00, 142279.85rows/s]\n",
      "Parsing fwd_from: 100%|██████████| 11232/11232 [00:04<00:00, 2309.67rows/s]\n"
     ]
    },
    {
     "name": "stdout",
     "output_type": "stream",
     "text": [
      "151/299 NeoficialniyBeZsonoV\n"
     ]
    },
    {
     "name": "stderr",
     "output_type": "stream",
     "text": [
      "Parsing reactions: 100%|██████████| 3489/3489 [00:03<00:00, 1008.02rows/s]\n",
      "Parsing to_id: 100%|██████████| 3489/3489 [00:00<00:00, 136308.34rows/s]\n",
      "Parsing fwd_from: 100%|██████████| 3489/3489 [00:01<00:00, 1757.49rows/s]\n"
     ]
    },
    {
     "name": "stdout",
     "output_type": "stream",
     "text": [
      "152/299 nevzorovtv\n"
     ]
    },
    {
     "name": "stderr",
     "output_type": "stream",
     "text": [
      "Parsing reactions: 100%|██████████| 6362/6362 [00:05<00:00, 1193.09rows/s]\n",
      "Parsing to_id: 100%|██████████| 6362/6362 [00:00<00:00, 191968.25rows/s]\n",
      "Parsing fwd_from: 100%|██████████| 6362/6362 [00:07<00:00, 903.02rows/s] \n"
     ]
    },
    {
     "name": "stdout",
     "output_type": "stream",
     "text": [
      "153/299 new_militarycolumnist\n"
     ]
    },
    {
     "name": "stderr",
     "output_type": "stream",
     "text": [
      "Parsing reactions: 100%|██████████| 92681/92681 [00:21<00:00, 4382.27rows/s]\n",
      "Parsing to_id: 100%|██████████| 92681/92681 [00:00<00:00, 220169.45rows/s]\n",
      "Parsing fwd_from: 100%|██████████| 92681/92681 [00:31<00:00, 2983.42rows/s] \n"
     ]
    },
    {
     "name": "stdout",
     "output_type": "stream",
     "text": [
      "154/299 NoodleRemoverPlus\n"
     ]
    },
    {
     "name": "stderr",
     "output_type": "stream",
     "text": [
      "Parsing reactions: 100%|██████████| 4971/4971 [00:03<00:00, 1351.83rows/s]\n",
      "Parsing to_id: 100%|██████████| 4971/4971 [00:00<00:00, 166137.19rows/s]\n",
      "Parsing fwd_from: 100%|██████████| 4971/4971 [00:07<00:00, 710.10rows/s] \n"
     ]
    },
    {
     "name": "stdout",
     "output_type": "stream",
     "text": [
      "155/299 norin_ea\n"
     ]
    },
    {
     "name": "stderr",
     "output_type": "stream",
     "text": [
      "Parsing reactions: 100%|██████████| 8151/8151 [00:07<00:00, 1084.01rows/s]\n",
      "Parsing to_id: 100%|██████████| 8151/8151 [00:00<00:00, 156913.18rows/s]\n",
      "Parsing fwd_from: 100%|██████████| 8151/8151 [00:05<00:00, 1571.10rows/s]\n"
     ]
    },
    {
     "name": "stdout",
     "output_type": "stream",
     "text": [
      "156/299 northerntechno\n"
     ]
    },
    {
     "name": "stderr",
     "output_type": "stream",
     "text": [
      "Parsing reactions: 100%|██████████| 9001/9001 [00:07<00:00, 1182.66rows/s]\n",
      "Parsing to_id: 100%|██████████| 9001/9001 [00:00<00:00, 149904.23rows/s]\n",
      "Parsing fwd_from: 100%|██████████| 9001/9001 [00:06<00:00, 1428.04rows/s]\n"
     ]
    },
    {
     "name": "stdout",
     "output_type": "stream",
     "text": [
      "157/299 notes_veterans\n"
     ]
    },
    {
     "name": "stderr",
     "output_type": "stream",
     "text": [
      "Parsing reactions: 100%|██████████| 6799/6799 [00:05<00:00, 1302.86rows/s]\n",
      "Parsing to_id: 100%|██████████| 6799/6799 [00:00<00:00, 175577.20rows/s]\n",
      "Parsing fwd_from: 100%|██████████| 6799/6799 [00:13<00:00, 501.61rows/s] \n"
     ]
    },
    {
     "name": "stdout",
     "output_type": "stream",
     "text": [
      "158/299 novaya_pishet\n"
     ]
    },
    {
     "name": "stderr",
     "output_type": "stream",
     "text": [
      "Parsing reactions: 100%|██████████| 36567/36567 [00:22<00:00, 1633.58rows/s]\n",
      "Parsing to_id: 100%|██████████| 36567/36567 [00:00<00:00, 245112.65rows/s]\n",
      "Parsing fwd_from: 100%|██████████| 36567/36567 [00:13<00:00, 2670.67rows/s] \n"
     ]
    },
    {
     "name": "stdout",
     "output_type": "stream",
     "text": [
      "159/299 ntnzn\n"
     ]
    },
    {
     "name": "stderr",
     "output_type": "stream",
     "text": [
      "Parsing reactions: 100%|██████████| 5136/5136 [00:03<00:00, 1366.69rows/s]\n",
      "Parsing to_id: 100%|██████████| 5136/5136 [00:00<00:00, 126655.49rows/s]\n",
      "Parsing fwd_from: 100%|██████████| 5136/5136 [00:11<00:00, 458.63rows/s]\n",
      "C:\\Users\\IvarY\\AppData\\Local\\Temp\\ipykernel_11356\\3396395887.py:4: DtypeWarning: Columns (6) have mixed types. Specify dtype option on import or set low_memory=False.\n",
      "  df = pd.read_csv(os.path.join(INPUT_FOLDER, filename), index_col='Unnamed: 0', dtype=dtype_dict, parse_dates=['date'])\n"
     ]
    },
    {
     "name": "stdout",
     "output_type": "stream",
     "text": [
      "160/299 ntvnews\n"
     ]
    },
    {
     "name": "stderr",
     "output_type": "stream",
     "text": [
      "Parsing reactions: 100%|██████████| 105117/105117 [01:19<00:00, 1323.54rows/s]\n",
      "Parsing to_id: 100%|██████████| 105117/105117 [00:00<00:00, 119744.56rows/s]\n",
      "Parsing fwd_from: 100%|██████████| 105117/105117 [00:53<00:00, 1975.67rows/s] \n"
     ]
    },
    {
     "name": "stdout",
     "output_type": "stream",
     "text": [
      "161/299 n_zackhaim\n"
     ]
    },
    {
     "name": "stderr",
     "output_type": "stream",
     "text": [
      "Parsing reactions: 100%|██████████| 2135/2135 [00:01<00:00, 1257.98rows/s]\n",
      "Parsing to_id: 100%|██████████| 2135/2135 [00:00<00:00, 179859.38rows/s]\n",
      "Parsing fwd_from: 100%|██████████| 2135/2135 [00:01<00:00, 1313.13rows/s]\n"
     ]
    },
    {
     "name": "stdout",
     "output_type": "stream",
     "text": [
      "162/299 obrazbuduschego2\n"
     ]
    },
    {
     "name": "stderr",
     "output_type": "stream",
     "text": [
      "Parsing reactions: 100%|██████████| 12157/12157 [00:04<00:00, 2861.97rows/s]\n",
      "Parsing to_id: 100%|██████████| 12157/12157 [00:00<00:00, 154305.20rows/s]\n",
      "Parsing fwd_from: 100%|██████████| 12157/12157 [00:31<00:00, 391.36rows/s]\n"
     ]
    },
    {
     "name": "stdout",
     "output_type": "stream",
     "text": [
      "163/299 obyasnayemrf\n"
     ]
    },
    {
     "name": "stderr",
     "output_type": "stream",
     "text": [
      "Parsing reactions: 100%|██████████| 4599/4599 [00:04<00:00, 932.44rows/s] \n",
      "Parsing to_id: 100%|██████████| 4599/4599 [00:00<00:00, 158906.04rows/s]\n",
      "Parsing fwd_from: 100%|██████████| 4599/4599 [00:02<00:00, 2241.17rows/s] \n"
     ]
    },
    {
     "name": "stdout",
     "output_type": "stream",
     "text": [
      "164/299 octagonmedia\n"
     ]
    },
    {
     "name": "stderr",
     "output_type": "stream",
     "text": [
      "Parsing reactions: 100%|██████████| 12318/12318 [00:04<00:00, 3045.31rows/s]\n",
      "Parsing to_id: 100%|██████████| 12318/12318 [00:00<00:00, 146517.49rows/s]\n",
      "Parsing fwd_from: 100%|██████████| 12318/12318 [00:27<00:00, 444.20rows/s] \n"
     ]
    },
    {
     "name": "stdout",
     "output_type": "stream",
     "text": [
      "165/299 odinokayakoko\n"
     ]
    },
    {
     "name": "stderr",
     "output_type": "stream",
     "text": [
      "Parsing reactions: 100%|██████████| 11746/11746 [00:02<00:00, 4244.36rows/s]\n",
      "Parsing to_id: 100%|██████████| 11746/11746 [00:00<00:00, 171681.70rows/s]\n",
      "Parsing fwd_from: 100%|██████████| 11746/11746 [00:06<00:00, 1773.19rows/s]\n"
     ]
    },
    {
     "name": "stdout",
     "output_type": "stream",
     "text": [
      "166/299 olegderipaska\n"
     ]
    },
    {
     "name": "stderr",
     "output_type": "stream",
     "text": [
      "Parsing reactions: 100%|██████████| 443/443 [00:00<00:00, 3666.71rows/s]\n",
      "Parsing to_id: 100%|██████████| 443/443 [00:00<00:00, 60812.88rows/s]\n",
      "Parsing fwd_from: 100%|██████████| 443/443 [00:00<00:00, 1568.51rows/s]\n"
     ]
    },
    {
     "name": "stdout",
     "output_type": "stream",
     "text": [
      "167/299 olegtsarov\n"
     ]
    },
    {
     "name": "stderr",
     "output_type": "stream",
     "text": [
      "Parsing reactions: 100%|██████████| 3634/3634 [00:03<00:00, 1160.64rows/s]\n",
      "Parsing to_id: 100%|██████████| 3634/3634 [00:00<00:00, 140114.73rows/s]\n",
      "Parsing fwd_from: 100%|██████████| 3634/3634 [00:06<00:00, 519.55rows/s] \n"
     ]
    },
    {
     "name": "stdout",
     "output_type": "stream",
     "text": [
      "168/299 operdrain\n"
     ]
    },
    {
     "name": "stderr",
     "output_type": "stream",
     "text": [
      "Parsing reactions: 100%|██████████| 29377/29377 [00:08<00:00, 3650.61rows/s] \n",
      "Parsing to_id: 100%|██████████| 29377/29377 [00:00<00:00, 102291.69rows/s]\n",
      "Parsing fwd_from: 100%|██████████| 29377/29377 [00:36<00:00, 814.23rows/s] \n"
     ]
    },
    {
     "name": "stdout",
     "output_type": "stream",
     "text": [
      "169/299 opersvodki\n"
     ]
    },
    {
     "name": "stderr",
     "output_type": "stream",
     "text": [
      "Parsing reactions: 100%|██████████| 10467/10467 [00:11<00:00, 879.82rows/s] \n",
      "Parsing to_id: 100%|██████████| 10467/10467 [00:00<00:00, 327520.12rows/s]\n",
      "Parsing fwd_from: 100%|██████████| 10467/10467 [00:02<00:00, 3995.86rows/s]\n"
     ]
    },
    {
     "name": "stdout",
     "output_type": "stream",
     "text": [
      "170/299 oper_goblin\n"
     ]
    },
    {
     "name": "stderr",
     "output_type": "stream",
     "text": [
      "Parsing reactions: 100%|██████████| 20388/20388 [00:06<00:00, 3337.93rows/s] \n",
      "Parsing to_id: 100%|██████████| 20388/20388 [00:00<00:00, 463023.36rows/s]\n",
      "Parsing fwd_from: 100%|██████████| 20388/20388 [00:32<00:00, 634.39rows/s] \n"
     ]
    },
    {
     "name": "stdout",
     "output_type": "stream",
     "text": [
      "171/299 optimistkavshtatskom\n"
     ]
    },
    {
     "name": "stderr",
     "output_type": "stream",
     "text": [
      "Parsing reactions: 100%|██████████| 5891/5891 [00:06<00:00, 968.41rows/s] \n",
      "Parsing to_id: 100%|██████████| 5891/5891 [00:00<00:00, 133875.76rows/s]\n",
      "Parsing fwd_from: 100%|██████████| 5891/5891 [00:07<00:00, 766.87rows/s] \n"
     ]
    },
    {
     "name": "stdout",
     "output_type": "stream",
     "text": [
      "172/299 orda_mordora\n"
     ]
    },
    {
     "name": "stderr",
     "output_type": "stream",
     "text": [
      "Parsing reactions: 100%|██████████| 13482/13482 [00:09<00:00, 1446.27rows/s]\n",
      "Parsing to_id: 100%|██████████| 13482/13482 [00:00<00:00, 186187.03rows/s]\n",
      "Parsing fwd_from: 100%|██████████| 13482/13482 [00:04<00:00, 3027.36rows/s] \n"
     ]
    },
    {
     "name": "stdout",
     "output_type": "stream",
     "text": [
      "173/299 oreshkins\n"
     ]
    },
    {
     "name": "stderr",
     "output_type": "stream",
     "text": [
      "Parsing reactions: 100%|██████████| 10384/10384 [00:02<00:00, 3793.89rows/s]\n",
      "Parsing to_id: 100%|██████████| 10384/10384 [00:00<00:00, 136661.21rows/s]\n",
      "Parsing fwd_from: 100%|██████████| 10384/10384 [00:09<00:00, 1144.37rows/s]\n"
     ]
    },
    {
     "name": "stdout",
     "output_type": "stream",
     "text": [
      "174/299 OstashkoNews\n"
     ]
    },
    {
     "name": "stderr",
     "output_type": "stream",
     "text": [
      "Parsing reactions: 100%|██████████| 43626/43626 [00:38<00:00, 1141.87rows/s]\n",
      "Parsing to_id: 100%|██████████| 43626/43626 [00:00<00:00, 174372.46rows/s]\n",
      "Parsing fwd_from: 100%|██████████| 43626/43626 [00:14<00:00, 3089.89rows/s]\n"
     ]
    },
    {
     "name": "stdout",
     "output_type": "stream",
     "text": [
      "175/299 ostorozhno_novosti\n"
     ]
    },
    {
     "name": "stderr",
     "output_type": "stream",
     "text": [
      "Parsing reactions: 100%|██████████| 13101/13101 [00:02<00:00, 5935.19rows/s] \n",
      "Parsing to_id: 100%|██████████| 13101/13101 [00:00<00:00, 395867.51rows/s]\n",
      "Parsing fwd_from: 100%|██████████| 13101/13101 [00:05<00:00, 2286.88rows/s] \n"
     ]
    },
    {
     "name": "stdout",
     "output_type": "stream",
     "text": [
      "176/299 otsuka_bld\n"
     ]
    },
    {
     "name": "stderr",
     "output_type": "stream",
     "text": [
      "Parsing reactions: 100%|██████████| 13629/13629 [00:13<00:00, 1044.71rows/s]\n",
      "Parsing to_id: 100%|██████████| 13629/13629 [00:00<00:00, 167267.50rows/s]\n",
      "Parsing fwd_from: 100%|██████████| 13629/13629 [00:14<00:00, 910.89rows/s] \n"
     ]
    },
    {
     "name": "stdout",
     "output_type": "stream",
     "text": [
      "177/299 oversized_shirts\n"
     ]
    },
    {
     "name": "stderr",
     "output_type": "stream",
     "text": [
      "Parsing reactions: 100%|██████████| 7571/7571 [00:06<00:00, 1096.78rows/s]\n",
      "Parsing to_id: 100%|██████████| 7571/7571 [00:00<00:00, 156788.09rows/s]\n",
      "Parsing fwd_from: 100%|██████████| 7571/7571 [00:10<00:00, 712.70rows/s] \n"
     ]
    },
    {
     "name": "stdout",
     "output_type": "stream",
     "text": [
      "178/299 parfentiev_club\n"
     ]
    },
    {
     "name": "stderr",
     "output_type": "stream",
     "text": [
      "Parsing reactions: 100%|██████████| 3347/3347 [00:03<00:00, 998.02rows/s] \n",
      "Parsing to_id: 100%|██████████| 3347/3347 [00:00<00:00, 130073.71rows/s]\n",
      "Parsing fwd_from: 100%|██████████| 3347/3347 [00:05<00:00, 655.40rows/s] \n"
     ]
    },
    {
     "name": "stdout",
     "output_type": "stream",
     "text": [
      "179/299 pdmnews\n"
     ]
    },
    {
     "name": "stderr",
     "output_type": "stream",
     "text": [
      "Parsing reactions: 100%|██████████| 54066/54066 [00:34<00:00, 1565.06rows/s]\n",
      "Parsing to_id: 100%|██████████| 54066/54066 [00:00<00:00, 184042.49rows/s]\n",
      "Parsing fwd_from: 100%|██████████| 54066/54066 [00:19<00:00, 2769.83rows/s] \n"
     ]
    },
    {
     "name": "stdout",
     "output_type": "stream",
     "text": [
      "180/299 pgubarev\n"
     ]
    },
    {
     "name": "stderr",
     "output_type": "stream",
     "text": [
      "Parsing reactions: 100%|██████████| 545/545 [00:00<00:00, 4549.24rows/s]\n",
      "Parsing to_id: 100%|██████████| 545/545 [00:00<00:00, 136341.15rows/s]\n",
      "Parsing fwd_from: 100%|██████████| 545/545 [00:00<00:00, 1703.09rows/s]\n"
     ]
    },
    {
     "name": "stdout",
     "output_type": "stream",
     "text": [
      "181/299 PlushevChannel\n"
     ]
    },
    {
     "name": "stderr",
     "output_type": "stream",
     "text": [
      "Parsing reactions: 100%|██████████| 19010/19010 [00:03<00:00, 5434.38rows/s]\n",
      "Parsing to_id: 100%|██████████| 19010/19010 [00:00<00:00, 114841.93rows/s]\n",
      "Parsing fwd_from: 100%|██████████| 19010/19010 [00:20<00:00, 921.01rows/s] \n"
     ]
    },
    {
     "name": "stdout",
     "output_type": "stream",
     "text": [
      "182/299 podosokorsky\n"
     ]
    },
    {
     "name": "stderr",
     "output_type": "stream",
     "text": [
      "Parsing reactions: 100%|██████████| 22819/22819 [00:09<00:00, 2451.01rows/s] \n",
      "Parsing to_id: 100%|██████████| 22819/22819 [00:00<00:00, 209902.39rows/s]\n",
      "Parsing fwd_from: 100%|██████████| 22819/22819 [00:11<00:00, 1957.91rows/s]\n"
     ]
    },
    {
     "name": "stdout",
     "output_type": "stream",
     "text": [
      "183/299 politadequate\n"
     ]
    },
    {
     "name": "stderr",
     "output_type": "stream",
     "text": [
      "Parsing reactions: 100%|██████████| 6910/6910 [00:00<00:00, 9786.02rows/s] \n",
      "Parsing to_id: 100%|██████████| 6910/6910 [00:00<00:00, 288740.74rows/s]\n",
      "Parsing fwd_from: 100%|██████████| 6910/6910 [00:01<00:00, 3947.86rows/s]\n"
     ]
    },
    {
     "name": "stdout",
     "output_type": "stream",
     "text": [
      "184/299 politjoystic\n"
     ]
    },
    {
     "name": "stderr",
     "output_type": "stream",
     "text": [
      "Parsing reactions: 100%|██████████| 29214/29214 [00:04<00:00, 7125.31rows/s] \n",
      "Parsing to_id: 100%|██████████| 29214/29214 [00:00<00:00, 395931.22rows/s]\n",
      "Parsing fwd_from: 100%|██████████| 29214/29214 [00:17<00:00, 1699.83rows/s]\n"
     ]
    },
    {
     "name": "stdout",
     "output_type": "stream",
     "text": [
      "185/299 polittemnik\n"
     ]
    },
    {
     "name": "stderr",
     "output_type": "stream",
     "text": [
      "Parsing reactions: 100%|██████████| 10189/10189 [00:02<00:00, 4820.67rows/s]\n",
      "Parsing to_id: 100%|██████████| 10189/10189 [00:00<00:00, 212554.40rows/s]\n",
      "Parsing fwd_from: 100%|██████████| 10189/10189 [00:07<00:00, 1423.87rows/s]\n"
     ]
    },
    {
     "name": "stdout",
     "output_type": "stream",
     "text": [
      "186/299 Postovo\n"
     ]
    },
    {
     "name": "stderr",
     "output_type": "stream",
     "text": [
      "Parsing reactions: 100%|██████████| 23648/23648 [00:20<00:00, 1160.70rows/s]\n",
      "Parsing to_id: 100%|██████████| 23648/23648 [00:00<00:00, 206042.71rows/s]\n",
      "Parsing fwd_from: 100%|██████████| 23648/23648 [00:18<00:00, 1311.36rows/s]\n"
     ]
    },
    {
     "name": "stdout",
     "output_type": "stream",
     "text": [
      "187/299 postposttruth\n"
     ]
    },
    {
     "name": "stderr",
     "output_type": "stream",
     "text": [
      "Parsing reactions: 100%|██████████| 8863/8863 [00:00<00:00, 8880.14rows/s] \n",
      "Parsing to_id: 100%|██████████| 8863/8863 [00:00<00:00, 295586.31rows/s]\n",
      "Parsing fwd_from: 100%|██████████| 8863/8863 [00:13<00:00, 648.60rows/s] \n"
     ]
    },
    {
     "name": "stdout",
     "output_type": "stream",
     "text": [
      "188/299 pravda_shuravi\n"
     ]
    },
    {
     "name": "stderr",
     "output_type": "stream",
     "text": [
      "Parsing reactions: 100%|██████████| 34709/34709 [00:34<00:00, 1000.37rows/s]\n",
      "Parsing to_id: 100%|██████████| 34709/34709 [00:00<00:00, 189573.71rows/s]\n",
      "Parsing fwd_from: 100%|██████████| 34709/34709 [00:59<00:00, 583.96rows/s] \n"
     ]
    },
    {
     "name": "stdout",
     "output_type": "stream",
     "text": [
      "189/299 pushilindenis\n"
     ]
    },
    {
     "name": "stderr",
     "output_type": "stream",
     "text": [
      "Parsing reactions: 100%|██████████| 2937/2937 [00:02<00:00, 1113.05rows/s]\n",
      "Parsing to_id: 100%|██████████| 2937/2937 [00:00<00:00, 90346.62rows/s]\n",
      "Parsing fwd_from: 100%|██████████| 2937/2937 [00:01<00:00, 1607.82rows/s]\n"
     ]
    },
    {
     "name": "stdout",
     "output_type": "stream",
     "text": [
      "190/299 radiogovoritmsk\n"
     ]
    },
    {
     "name": "stderr",
     "output_type": "stream",
     "text": [
      "Parsing reactions: 100%|██████████| 117498/117498 [01:39<00:00, 1177.18rows/s]\n",
      "Parsing to_id: 100%|██████████| 117498/117498 [00:00<00:00, 164053.73rows/s]\n",
      "Parsing fwd_from: 100%|██████████| 117498/117498 [01:00<00:00, 1953.73rows/s]\n"
     ]
    },
    {
     "name": "stdout",
     "output_type": "stream",
     "text": [
      "191/299 RadioStydoba\n"
     ]
    },
    {
     "name": "stderr",
     "output_type": "stream",
     "text": [
      "Parsing reactions: 100%|██████████| 20696/20696 [00:19<00:00, 1047.93rows/s]\n",
      "Parsing to_id: 100%|██████████| 20696/20696 [00:00<00:00, 259034.52rows/s]\n",
      "Parsing fwd_from: 100%|██████████| 20696/20696 [00:16<00:00, 1226.86rows/s]\n"
     ]
    },
    {
     "name": "stdout",
     "output_type": "stream",
     "text": [
      "192/299 radio_sputnik\n"
     ]
    },
    {
     "name": "stderr",
     "output_type": "stream",
     "text": [
      "Parsing reactions: 100%|██████████| 41818/41818 [00:42<00:00, 995.44rows/s]  \n",
      "Parsing to_id: 100%|██████████| 41818/41818 [00:00<00:00, 142495.02rows/s]\n",
      "Parsing fwd_from: 100%|██████████| 41818/41818 [00:21<00:00, 1986.20rows/s] \n"
     ]
    },
    {
     "name": "stdout",
     "output_type": "stream",
     "text": [
      "193/299 rasstrelny\n"
     ]
    },
    {
     "name": "stderr",
     "output_type": "stream",
     "text": [
      "Parsing reactions: 100%|██████████| 14011/14011 [00:13<00:00, 1042.75rows/s]\n",
      "Parsing to_id: 100%|██████████| 14011/14011 [00:00<00:00, 92308.84rows/s]\n",
      "Parsing fwd_from: 100%|██████████| 14011/14011 [00:07<00:00, 1756.63rows/s] \n"
     ]
    },
    {
     "name": "stdout",
     "output_type": "stream",
     "text": [
      "194/299 rasstriga\n"
     ]
    },
    {
     "name": "stderr",
     "output_type": "stream",
     "text": [
      "Parsing reactions: 100%|██████████| 9009/9009 [00:08<00:00, 1007.28rows/s]\n",
      "Parsing to_id: 100%|██████████| 9009/9009 [00:00<00:00, 139504.05rows/s]\n",
      "Parsing fwd_from: 100%|██████████| 9009/9009 [00:13<00:00, 651.27rows/s] \n"
     ]
    },
    {
     "name": "stdout",
     "output_type": "stream",
     "text": [
      "195/299 razvedkavperedZ\n"
     ]
    },
    {
     "name": "stderr",
     "output_type": "stream",
     "text": [
      "Parsing reactions: 100%|██████████| 364/364 [00:00<00:00, 953.45rows/s] \n",
      "Parsing to_id: 100%|██████████| 364/364 [00:00<00:00, 126217.48rows/s]\n",
      "Parsing fwd_from: 100%|██████████| 364/364 [00:00<00:00, 1299.70rows/s]\n"
     ]
    },
    {
     "name": "stdout",
     "output_type": "stream",
     "text": [
      "196/299 razvedosaa\n"
     ]
    },
    {
     "name": "stderr",
     "output_type": "stream",
     "text": [
      "Parsing reactions: 100%|██████████| 3357/3357 [00:03<00:00, 984.79rows/s] \n",
      "Parsing to_id: 100%|██████████| 3357/3357 [00:00<00:00, 136777.43rows/s]\n",
      "Parsing fwd_from: 100%|██████████| 3357/3357 [00:02<00:00, 1133.68rows/s]\n"
     ]
    },
    {
     "name": "stdout",
     "output_type": "stream",
     "text": [
      "197/299 rbc_news\n"
     ]
    },
    {
     "name": "stderr",
     "output_type": "stream",
     "text": [
      "Parsing reactions: 100%|██████████| 63975/63975 [00:17<00:00, 3579.82rows/s] \n",
      "Parsing to_id: 100%|██████████| 63975/63975 [00:00<00:00, 163450.38rows/s]\n",
      "Parsing fwd_from: 100%|██████████| 63975/63975 [00:30<00:00, 2092.21rows/s] \n"
     ]
    },
    {
     "name": "stdout",
     "output_type": "stream",
     "text": [
      "198/299 readovkanews\n"
     ]
    },
    {
     "name": "stderr",
     "output_type": "stream",
     "text": [
      "Parsing reactions: 100%|██████████| 91258/91258 [01:21<00:00, 1121.78rows/s]\n",
      "Parsing to_id: 100%|██████████| 91258/91258 [00:00<00:00, 167974.19rows/s]\n",
      "Parsing fwd_from: 100%|██████████| 91258/91258 [00:37<00:00, 2446.50rows/s] \n"
     ]
    },
    {
     "name": "stdout",
     "output_type": "stream",
     "text": [
      "199/299 readovkaru\n"
     ]
    },
    {
     "name": "stderr",
     "output_type": "stream",
     "text": [
      "Parsing reactions: 100%|██████████| 1969/1969 [00:00<00:00, 3205.03rows/s]\n",
      "Parsing to_id: 100%|██████████| 1969/1969 [00:00<00:00, 117167.97rows/s]\n",
      "Parsing fwd_from: 100%|██████████| 1969/1969 [00:02<00:00, 871.55rows/s] \n"
     ]
    },
    {
     "name": "stdout",
     "output_type": "stream",
     "text": [
      "200/299 redakciya_channel\n"
     ]
    },
    {
     "name": "stderr",
     "output_type": "stream",
     "text": [
      "Parsing reactions: 100%|██████████| 13876/13876 [00:14<00:00, 964.95rows/s] \n",
      "Parsing to_id: 100%|██████████| 13876/13876 [00:00<00:00, 120997.25rows/s]\n",
      "Parsing fwd_from: 100%|██████████| 13876/13876 [00:15<00:00, 902.18rows/s] \n"
     ]
    },
    {
     "name": "stdout",
     "output_type": "stream",
     "text": [
      "201/299 regnum_na\n"
     ]
    },
    {
     "name": "stderr",
     "output_type": "stream",
     "text": [
      "Parsing reactions: 100%|██████████| 28826/28826 [00:12<00:00, 2371.82rows/s] \n",
      "Parsing to_id: 100%|██████████| 28826/28826 [00:00<00:00, 451293.01rows/s]\n",
      "Parsing fwd_from: 100%|██████████| 28826/28826 [00:14<00:00, 1964.17rows/s] \n"
     ]
    },
    {
     "name": "stdout",
     "output_type": "stream",
     "text": [
      "202/299 riafan_everywhere\n"
     ]
    },
    {
     "name": "stderr",
     "output_type": "stream",
     "text": [
      "Parsing reactions: 100%|██████████| 14361/14361 [00:06<00:00, 2377.78rows/s]\n",
      "Parsing to_id: 100%|██████████| 14361/14361 [00:00<00:00, 306444.37rows/s]\n",
      "Parsing fwd_from: 100%|██████████| 14361/14361 [00:08<00:00, 1733.64rows/s]\n"
     ]
    },
    {
     "name": "stdout",
     "output_type": "stream",
     "text": [
      "203/299 RIAKremlinpool\n"
     ]
    },
    {
     "name": "stderr",
     "output_type": "stream",
     "text": [
      "Parsing reactions: 100%|██████████| 8405/8405 [00:00<00:00, 9277.06rows/s] \n",
      "Parsing to_id: 100%|██████████| 8405/8405 [00:00<00:00, 268767.25rows/s]\n",
      "Parsing fwd_from: 100%|██████████| 8405/8405 [00:01<00:00, 7271.14rows/s] \n",
      "C:\\Users\\IvarY\\AppData\\Local\\Temp\\ipykernel_11356\\3396395887.py:4: DtypeWarning: Columns (6) have mixed types. Specify dtype option on import or set low_memory=False.\n",
      "  df = pd.read_csv(os.path.join(INPUT_FOLDER, filename), index_col='Unnamed: 0', dtype=dtype_dict, parse_dates=['date'])\n"
     ]
    },
    {
     "name": "stdout",
     "output_type": "stream",
     "text": [
      "204/299 rian_ru\n"
     ]
    },
    {
     "name": "stderr",
     "output_type": "stream",
     "text": [
      "Parsing reactions: 100%|██████████| 187755/187755 [00:22<00:00, 8295.46rows/s] \n",
      "Parsing to_id: 100%|██████████| 187755/187755 [00:00<00:00, 475168.52rows/s]\n",
      "Parsing fwd_from: 100%|██████████| 187755/187755 [00:30<00:00, 6125.66rows/s] \n"
     ]
    },
    {
     "name": "stdout",
     "output_type": "stream",
     "text": [
      "205/299 RKadyrov_95\n"
     ]
    },
    {
     "name": "stderr",
     "output_type": "stream",
     "text": [
      "Parsing reactions: 100%|██████████| 3095/3095 [00:00<00:00, 3946.69rows/s]\n",
      "Parsing to_id: 100%|██████████| 3095/3095 [00:00<00:00, 198143.49rows/s]\n",
      "Parsing fwd_from: 100%|██████████| 3095/3095 [00:00<00:00, 6291.33rows/s] \n"
     ]
    },
    {
     "name": "stdout",
     "output_type": "stream",
     "text": [
      "206/299 rlz_the_kraken\n"
     ]
    },
    {
     "name": "stderr",
     "output_type": "stream",
     "text": [
      "Parsing reactions: 100%|██████████| 53199/53199 [00:15<00:00, 3336.43rows/s] \n",
      "Parsing to_id: 100%|██████████| 53199/53199 [00:00<00:00, 200330.37rows/s]\n",
      "Parsing fwd_from: 100%|██████████| 53199/53199 [00:15<00:00, 3387.62rows/s] \n"
     ]
    },
    {
     "name": "stdout",
     "output_type": "stream",
     "text": [
      "207/299 rogers_kitchen\n"
     ]
    },
    {
     "name": "stderr",
     "output_type": "stream",
     "text": [
      "Parsing reactions: 100%|██████████| 7527/7527 [00:02<00:00, 3175.11rows/s]\n",
      "Parsing to_id: 100%|██████████| 7527/7527 [00:00<00:00, 482825.73rows/s]\n",
      "Parsing fwd_from: 100%|██████████| 7527/7527 [00:05<00:00, 1383.61rows/s]\n"
     ]
    },
    {
     "name": "stdout",
     "output_type": "stream",
     "text": [
      "208/299 romagolovanov\n"
     ]
    },
    {
     "name": "stderr",
     "output_type": "stream",
     "text": [
      "Parsing reactions: 100%|██████████| 9413/9413 [00:02<00:00, 3302.55rows/s] \n",
      "Parsing to_id: 100%|██████████| 9413/9413 [00:00<00:00, 601376.73rows/s]\n",
      "Parsing fwd_from: 100%|██████████| 9413/9413 [00:10<00:00, 932.49rows/s] \n"
     ]
    },
    {
     "name": "stdout",
     "output_type": "stream",
     "text": [
      "209/299 romanov_92\n"
     ]
    },
    {
     "name": "stderr",
     "output_type": "stream",
     "text": [
      "Parsing reactions: 100%|██████████| 30668/30668 [00:09<00:00, 3144.67rows/s]\n",
      "Parsing to_id: 100%|██████████| 30668/30668 [00:00<00:00, 392486.92rows/s]\n",
      "Parsing fwd_from: 100%|██████████| 30668/30668 [00:15<00:00, 1925.66rows/s]\n"
     ]
    },
    {
     "name": "stdout",
     "output_type": "stream",
     "text": [
      "210/299 romasuperromasuper\n"
     ]
    },
    {
     "name": "stderr",
     "output_type": "stream",
     "text": [
      "Parsing reactions: 100%|██████████| 5403/5403 [00:01<00:00, 3341.54rows/s]\n",
      "Parsing to_id: 100%|██████████| 5403/5403 [00:00<00:00, 345945.08rows/s]\n",
      "Parsing fwd_from: 100%|██████████| 5403/5403 [00:00<00:00, 5873.86rows/s] \n"
     ]
    },
    {
     "name": "stdout",
     "output_type": "stream",
     "text": [
      "211/299 rosich_ru\n"
     ]
    },
    {
     "name": "stderr",
     "output_type": "stream",
     "text": [
      "Parsing reactions: 100%|██████████| 28719/28719 [00:08<00:00, 3220.78rows/s]\n",
      "Parsing to_id: 100%|██████████| 28719/28719 [00:00<00:00, 459330.53rows/s]\n",
      "Parsing fwd_from: 100%|██████████| 28719/28719 [00:15<00:00, 1845.58rows/s]\n"
     ]
    },
    {
     "name": "stdout",
     "output_type": "stream",
     "text": [
      "212/299 RtrDonetsk\n"
     ]
    },
    {
     "name": "stderr",
     "output_type": "stream",
     "text": [
      "Parsing reactions: 100%|██████████| 7382/7382 [00:02<00:00, 3437.20rows/s] \n",
      "Parsing to_id: 100%|██████████| 7382/7382 [00:00<00:00, 472505.68rows/s]\n",
      "Parsing fwd_from: 100%|██████████| 7382/7382 [00:05<00:00, 1438.82rows/s]\n"
     ]
    },
    {
     "name": "stdout",
     "output_type": "stream",
     "text": [
      "213/299 rtvimain\n"
     ]
    },
    {
     "name": "stderr",
     "output_type": "stream",
     "text": [
      "Parsing reactions: 100%|██████████| 60876/60876 [00:16<00:00, 3635.35rows/s] \n",
      "Parsing to_id: 100%|██████████| 60876/60876 [00:00<00:00, 432873.98rows/s]\n",
      "Parsing fwd_from: 100%|██████████| 60876/60876 [00:16<00:00, 3607.37rows/s] \n"
     ]
    },
    {
     "name": "stdout",
     "output_type": "stream",
     "text": [
      "214/299 rt_russian\n"
     ]
    },
    {
     "name": "stderr",
     "output_type": "stream",
     "text": [
      "Parsing reactions: 100%|██████████| 138568/138568 [00:47<00:00, 2906.95rows/s] \n",
      "Parsing to_id: 100%|██████████| 138568/138568 [00:00<00:00, 492796.09rows/s]\n",
      "Parsing fwd_from: 100%|██████████| 138568/138568 [00:36<00:00, 3782.19rows/s] \n"
     ]
    },
    {
     "name": "stdout",
     "output_type": "stream",
     "text": [
      "215/299 ru2ch_news\n"
     ]
    },
    {
     "name": "stderr",
     "output_type": "stream",
     "text": [
      "Parsing reactions: 100%|██████████| 63139/63139 [00:20<00:00, 3088.18rows/s] \n",
      "Parsing to_id: 100%|██████████| 63139/63139 [00:00<00:00, 449081.33rows/s]\n",
      "Parsing fwd_from: 100%|██████████| 63139/63139 [00:18<00:00, 3377.86rows/s]\n"
     ]
    },
    {
     "name": "stdout",
     "output_type": "stream",
     "text": [
      "216/299 rusbrief\n"
     ]
    },
    {
     "name": "stderr",
     "output_type": "stream",
     "text": [
      "Parsing reactions: 100%|██████████| 75357/75357 [00:25<00:00, 2952.81rows/s] \n",
      "Parsing to_id: 100%|██████████| 75357/75357 [00:00<00:00, 482535.14rows/s]\n",
      "Parsing fwd_from: 100%|██████████| 75357/75357 [00:31<00:00, 2389.37rows/s]\n"
     ]
    },
    {
     "name": "stdout",
     "output_type": "stream",
     "text": [
      "217/299 rusich_army\n"
     ]
    },
    {
     "name": "stderr",
     "output_type": "stream",
     "text": [
      "Parsing reactions: 100%|██████████| 5224/5224 [00:01<00:00, 3715.61rows/s]\n",
      "Parsing to_id: 100%|██████████| 5224/5224 [00:00<00:00, 333846.97rows/s]\n",
      "Parsing fwd_from: 100%|██████████| 5224/5224 [00:00<00:00, 5731.05rows/s] \n"
     ]
    },
    {
     "name": "stdout",
     "output_type": "stream",
     "text": [
      "218/299 russianfuture\n"
     ]
    },
    {
     "name": "stderr",
     "output_type": "stream",
     "text": [
      "Parsing reactions: 100%|██████████| 8949/8949 [00:00<00:00, 9239.85rows/s] \n",
      "Parsing to_id: 100%|██████████| 8949/8949 [00:00<00:00, 286481.66rows/s]\n",
      "Parsing fwd_from: 100%|██████████| 8949/8949 [00:04<00:00, 1965.27rows/s]\n"
     ]
    },
    {
     "name": "stdout",
     "output_type": "stream",
     "text": [
      "219/299 russianquarantine\n"
     ]
    },
    {
     "name": "stderr",
     "output_type": "stream",
     "text": [
      "Parsing reactions: 100%|██████████| 40673/40673 [00:11<00:00, 3512.34rows/s] \n",
      "Parsing to_id: 100%|██████████| 40673/40673 [00:00<00:00, 433944.66rows/s]\n",
      "Parsing fwd_from: 100%|██████████| 40673/40673 [00:17<00:00, 2282.09rows/s]\n"
     ]
    },
    {
     "name": "stdout",
     "output_type": "stream",
     "text": [
      "220/299 russica2\n"
     ]
    },
    {
     "name": "stderr",
     "output_type": "stream",
     "text": [
      "Parsing reactions: 100%|██████████| 32405/32405 [00:05<00:00, 5634.06rows/s] \n",
      "Parsing to_id: 100%|██████████| 32405/32405 [00:00<00:00, 345585.66rows/s]\n",
      "Parsing fwd_from: 100%|██████████| 32405/32405 [00:41<00:00, 783.00rows/s] \n"
     ]
    },
    {
     "name": "stdout",
     "output_type": "stream",
     "text": [
      "221/299 russ_orientalist\n"
     ]
    },
    {
     "name": "stderr",
     "output_type": "stream",
     "text": [
      "Parsing reactions: 100%|██████████| 11593/11593 [00:04<00:00, 2385.98rows/s]\n",
      "Parsing to_id: 100%|██████████| 11593/11593 [00:00<00:00, 185533.30rows/s]\n",
      "Parsing fwd_from: 100%|██████████| 11593/11593 [00:13<00:00, 843.46rows/s] \n"
     ]
    },
    {
     "name": "stdout",
     "output_type": "stream",
     "text": [
      "222/299 rustroyka1945\n"
     ]
    },
    {
     "name": "stderr",
     "output_type": "stream",
     "text": [
      "Parsing reactions: 100%|██████████| 6792/6792 [00:03<00:00, 2172.11rows/s]\n",
      "Parsing to_id: 100%|██████████| 6792/6792 [00:00<00:00, 144929.17rows/s]\n",
      "Parsing fwd_from: 100%|██████████| 6792/6792 [00:06<00:00, 993.32rows/s] \n"
     ]
    },
    {
     "name": "stdout",
     "output_type": "stream",
     "text": [
      "223/299 rusvesnasu\n"
     ]
    },
    {
     "name": "stderr",
     "output_type": "stream",
     "text": [
      "Parsing reactions: 100%|██████████| 23239/23239 [00:08<00:00, 2600.18rows/s]\n",
      "Parsing to_id: 100%|██████████| 23239/23239 [00:00<00:00, 371940.34rows/s]\n",
      "Parsing fwd_from: 100%|██████████| 23239/23239 [00:14<00:00, 1638.56rows/s]\n"
     ]
    },
    {
     "name": "stdout",
     "output_type": "stream",
     "text": [
      "224/299 rus_jansen\n"
     ]
    },
    {
     "name": "stderr",
     "output_type": "stream",
     "text": [
      "Parsing reactions: 100%|██████████| 1889/1889 [00:00<00:00, 3454.31rows/s]\n",
      "Parsing to_id: 100%|██████████| 1889/1889 [00:00<?, ?rows/s]\n",
      "Parsing fwd_from: 100%|██████████| 1889/1889 [00:01<00:00, 1300.89rows/s]\n"
     ]
    },
    {
     "name": "stdout",
     "output_type": "stream",
     "text": [
      "225/299 RVvoenkor\n"
     ]
    },
    {
     "name": "stderr",
     "output_type": "stream",
     "text": [
      "Parsing reactions: 100%|██████████| 32423/32423 [00:08<00:00, 3659.57rows/s]\n",
      "Parsing to_id: 100%|██████████| 32423/32423 [00:00<00:00, 296520.30rows/s]\n",
      "Parsing fwd_from: 100%|██████████| 32423/32423 [00:10<00:00, 3028.01rows/s]\n"
     ]
    },
    {
     "name": "stdout",
     "output_type": "stream",
     "text": [
      "226/299 sashakon\n"
     ]
    },
    {
     "name": "stderr",
     "output_type": "stream",
     "text": [
      "Parsing reactions: 100%|██████████| 6734/6734 [00:01<00:00, 3560.83rows/s] \n",
      "Parsing to_id: 100%|██████████| 6734/6734 [00:00<00:00, 215749.72rows/s]\n",
      "Parsing fwd_from: 100%|██████████| 6734/6734 [00:02<00:00, 3154.15rows/s]\n"
     ]
    },
    {
     "name": "stdout",
     "output_type": "stream",
     "text": [
      "227/299 sashakots\n"
     ]
    },
    {
     "name": "stderr",
     "output_type": "stream",
     "text": [
      "Parsing reactions: 100%|██████████| 36898/36898 [00:10<00:00, 3474.04rows/s] \n",
      "Parsing to_id: 100%|██████████| 36898/36898 [00:00<00:00, 337538.56rows/s]\n",
      "Parsing fwd_from: 100%|██████████| 36898/36898 [00:27<00:00, 1355.42rows/s]\n"
     ]
    },
    {
     "name": "stdout",
     "output_type": "stream",
     "text": [
      "228/299 separ_13\n"
     ]
    },
    {
     "name": "stderr",
     "output_type": "stream",
     "text": [
      "Parsing reactions: 100%|██████████| 5353/5353 [00:01<00:00, 3171.00rows/s]\n",
      "Parsing to_id: 100%|██████████| 5353/5353 [00:00<00:00, 342858.81rows/s]\n",
      "Parsing fwd_from: 100%|██████████| 5353/5353 [00:00<00:00, 5433.85rows/s] \n"
     ]
    },
    {
     "name": "stdout",
     "output_type": "stream",
     "text": [
      "229/299 SergeyKolyasnikov\n"
     ]
    },
    {
     "name": "stderr",
     "output_type": "stream",
     "text": [
      "Parsing reactions: 100%|██████████| 43694/43694 [00:12<00:00, 3582.79rows/s] \n",
      "Parsing to_id: 100%|██████████| 43694/43694 [00:00<00:00, 559638.44rows/s]\n",
      "Parsing fwd_from: 100%|██████████| 43694/43694 [00:25<00:00, 1711.00rows/s]\n"
     ]
    },
    {
     "name": "stdout",
     "output_type": "stream",
     "text": [
      "230/299 shot_shot\n"
     ]
    },
    {
     "name": "stderr",
     "output_type": "stream",
     "text": [
      "Parsing reactions: 100%|██████████| 46788/46788 [00:16<00:00, 2850.61rows/s] \n",
      "Parsing to_id: 100%|██████████| 46788/46788 [00:00<00:00, 499055.50rows/s]\n",
      "Parsing fwd_from: 100%|██████████| 46788/46788 [00:09<00:00, 5006.21rows/s] \n"
     ]
    },
    {
     "name": "stdout",
     "output_type": "stream",
     "text": [
      "231/299 SIL0VIKI\n"
     ]
    },
    {
     "name": "stderr",
     "output_type": "stream",
     "text": [
      "Parsing reactions: 100%|██████████| 56756/56756 [00:07<00:00, 7684.19rows/s] \n",
      "Parsing to_id: 100%|██████████| 56756/56756 [00:00<00:00, 316248.04rows/s]\n",
      "Parsing fwd_from: 100%|██████████| 56756/56756 [01:18<00:00, 722.64rows/s] \n"
     ]
    },
    {
     "name": "stdout",
     "output_type": "stream",
     "text": [
      "232/299 skabeeva\n"
     ]
    },
    {
     "name": "stderr",
     "output_type": "stream",
     "text": [
      "Parsing reactions: 100%|██████████| 14941/14941 [00:02<00:00, 5281.99rows/s]\n",
      "Parsing to_id: 100%|██████████| 14941/14941 [00:00<00:00, 318898.67rows/s]\n",
      "Parsing fwd_from: 100%|██████████| 14941/14941 [00:06<00:00, 2210.33rows/s]\n"
     ]
    },
    {
     "name": "stdout",
     "output_type": "stream",
     "text": [
      "233/299 skvir\n"
     ]
    },
    {
     "name": "stderr",
     "output_type": "stream",
     "text": [
      "Parsing reactions: 100%|██████████| 50207/50207 [00:14<00:00, 3563.91rows/s] \n",
      "Parsing to_id: 100%|██████████| 50207/50207 [00:00<00:00, 214258.82rows/s]\n",
      "Parsing fwd_from: 100%|██████████| 50207/50207 [00:37<00:00, 1321.46rows/s]\n"
     ]
    },
    {
     "name": "stdout",
     "output_type": "stream",
     "text": [
      "234/299 Sladkov_plus\n"
     ]
    },
    {
     "name": "stderr",
     "output_type": "stream",
     "text": [
      "Parsing reactions: 100%|██████████| 5364/5364 [00:02<00:00, 1804.17rows/s]\n",
      "Parsing to_id: 100%|██████████| 5364/5364 [00:00<00:00, 343264.57rows/s]\n",
      "Parsing fwd_from: 100%|██████████| 5364/5364 [00:01<00:00, 2970.94rows/s]\n"
     ]
    },
    {
     "name": "stdout",
     "output_type": "stream",
     "text": [
      "235/299 smolyak\n"
     ]
    },
    {
     "name": "stderr",
     "output_type": "stream",
     "text": [
      "Parsing reactions: 100%|██████████| 11850/11850 [00:03<00:00, 3186.36rows/s] \n",
      "Parsing to_id: 100%|██████████| 11850/11850 [00:00<00:00, 189610.85rows/s]\n",
      "Parsing fwd_from: 100%|██████████| 11850/11850 [00:03<00:00, 3742.64rows/s]\n"
     ]
    },
    {
     "name": "stdout",
     "output_type": "stream",
     "text": [
      "236/299 smotri_media\n"
     ]
    },
    {
     "name": "stderr",
     "output_type": "stream",
     "text": [
      "Parsing reactions: 100%|██████████| 33753/33753 [00:10<00:00, 3248.86rows/s]\n",
      "Parsing to_id: 100%|██████████| 33753/33753 [00:00<00:00, 432263.98rows/s]\n",
      "Parsing fwd_from: 100%|██████████| 33753/33753 [00:04<00:00, 6925.34rows/s] \n"
     ]
    },
    {
     "name": "stdout",
     "output_type": "stream",
     "text": [
      "237/299 sncmag\n"
     ]
    },
    {
     "name": "stderr",
     "output_type": "stream",
     "text": [
      "Parsing reactions: 100%|██████████| 34004/34004 [00:03<00:00, 10148.31rows/s]\n",
      "Parsing to_id: 100%|██████████| 34004/34004 [00:00<00:00, 544498.11rows/s]\n",
      "Parsing fwd_from: 100%|██████████| 34004/34004 [00:11<00:00, 2963.36rows/s]\n"
     ]
    },
    {
     "name": "stdout",
     "output_type": "stream",
     "text": [
      "238/299 Soldieroffortune777\n"
     ]
    },
    {
     "name": "stderr",
     "output_type": "stream",
     "text": [
      "Parsing reactions: 100%|██████████| 14154/14154 [00:04<00:00, 3156.33rows/s] \n",
      "Parsing to_id: 100%|██████████| 14154/14154 [00:00<00:00, 180584.83rows/s]\n",
      "Parsing fwd_from: 100%|██████████| 14154/14154 [00:08<00:00, 1712.02rows/s]\n"
     ]
    },
    {
     "name": "stdout",
     "output_type": "stream",
     "text": [
      "239/299 SolovievLive\n"
     ]
    },
    {
     "name": "stderr",
     "output_type": "stream",
     "text": [
      "Parsing reactions: 100%|██████████| 140116/140116 [00:44<00:00, 3158.77rows/s] \n",
      "Parsing to_id: 100%|██████████| 140116/140116 [00:00<00:00, 498221.90rows/s]\n",
      "Parsing fwd_from: 100%|██████████| 140116/140116 [02:34<00:00, 906.48rows/s] \n"
     ]
    },
    {
     "name": "stdout",
     "output_type": "stream",
     "text": [
      "240/299 sommerman\n"
     ]
    },
    {
     "name": "stderr",
     "output_type": "stream",
     "text": [
      "Parsing reactions: 100%|██████████| 3346/3346 [00:01<00:00, 3342.21rows/s]\n",
      "Parsing to_id: 100%|██████████| 3346/3346 [00:00<00:00, 214196.29rows/s]\n",
      "Parsing fwd_from: 100%|██████████| 3346/3346 [00:04<00:00, 751.65rows/s] \n"
     ]
    },
    {
     "name": "stdout",
     "output_type": "stream",
     "text": [
      "241/299 SonOfMonarchy\n"
     ]
    },
    {
     "name": "stderr",
     "output_type": "stream",
     "text": [
      "Parsing reactions: 100%|██████████| 7561/7561 [00:01<00:00, 3967.42rows/s]\n",
      "Parsing to_id: 100%|██████████| 7561/7561 [00:00<00:00, 483970.46rows/s]\n",
      "Parsing fwd_from: 100%|██████████| 7561/7561 [00:03<00:00, 2197.63rows/s]\n"
     ]
    },
    {
     "name": "stdout",
     "output_type": "stream",
     "text": [
      "242/299 sorok40russia\n"
     ]
    },
    {
     "name": "stderr",
     "output_type": "stream",
     "text": [
      "Parsing reactions: 100%|██████████| 35235/35235 [00:03<00:00, 9727.63rows/s] \n",
      "Parsing to_id: 100%|██████████| 35235/35235 [00:00<00:00, 376067.62rows/s]\n",
      "Parsing fwd_from: 100%|██████████| 35235/35235 [00:30<00:00, 1172.57rows/s]\n"
     ]
    },
    {
     "name": "stdout",
     "output_type": "stream",
     "text": [
      "243/299 sotaproject\n"
     ]
    },
    {
     "name": "stderr",
     "output_type": "stream",
     "text": [
      "Parsing reactions: 100%|██████████| 49125/49125 [00:12<00:00, 3813.95rows/s] \n",
      "Parsing to_id: 100%|██████████| 49125/49125 [00:00<00:00, 449238.82rows/s]\n",
      "Parsing fwd_from: 100%|██████████| 49125/49125 [00:07<00:00, 6925.88rows/s] \n"
     ]
    },
    {
     "name": "stdout",
     "output_type": "stream",
     "text": [
      "244/299 sputniklive\n"
     ]
    },
    {
     "name": "stderr",
     "output_type": "stream",
     "text": [
      "Parsing reactions: 100%|██████████| 50875/50875 [00:04<00:00, 10351.88rows/s]\n",
      "Parsing to_id: 100%|██████████| 50875/50875 [00:00<00:00, 407227.58rows/s]\n",
      "Parsing fwd_from: 100%|██████████| 50875/50875 [00:16<00:00, 3090.60rows/s]\n"
     ]
    },
    {
     "name": "stdout",
     "output_type": "stream",
     "text": [
      "245/299 srochnow\n"
     ]
    },
    {
     "name": "stderr",
     "output_type": "stream",
     "text": [
      "Parsing reactions: 100%|██████████| 23343/23343 [00:06<00:00, 3459.37rows/s]\n",
      "Parsing to_id: 100%|██████████| 23343/23343 [00:00<00:00, 373797.43rows/s]\n",
      "Parsing fwd_from: 100%|██████████| 23343/23343 [00:04<00:00, 5161.57rows/s] \n"
     ]
    },
    {
     "name": "stdout",
     "output_type": "stream",
     "text": [
      "246/299 ssigny\n"
     ]
    },
    {
     "name": "stderr",
     "output_type": "stream",
     "text": [
      "Parsing reactions: 100%|██████████| 46701/46701 [00:12<00:00, 3706.01rows/s]\n",
      "Parsing to_id: 100%|██████████| 46701/46701 [00:00<00:00, 498275.79rows/s]\n",
      "Parsing fwd_from: 100%|██████████| 46701/46701 [00:06<00:00, 7227.02rows/s] \n"
     ]
    },
    {
     "name": "stdout",
     "output_type": "stream",
     "text": [
      "247/299 sskarnaukhov\n"
     ]
    },
    {
     "name": "stderr",
     "output_type": "stream",
     "text": [
      "Parsing reactions: 100%|██████████| 31383/31383 [00:12<00:00, 2495.88rows/s] \n",
      "Parsing to_id: 100%|██████████| 31383/31383 [00:00<00:00, 200903.93rows/s]\n",
      "Parsing fwd_from: 100%|██████████| 31383/31383 [00:29<00:00, 1057.64rows/s]\n"
     ]
    },
    {
     "name": "stdout",
     "output_type": "stream",
     "text": [
      "248/299 stalin_gulag\n"
     ]
    },
    {
     "name": "stderr",
     "output_type": "stream",
     "text": [
      "Parsing reactions: 100%|██████████| 5654/5654 [00:02<00:00, 2430.35rows/s]\n",
      "Parsing to_id: 100%|██████████| 5654/5654 [00:00<00:00, 362021.72rows/s]\n",
      "Parsing fwd_from: 100%|██████████| 5654/5654 [00:00<00:00, 7375.87rows/s] \n"
     ]
    },
    {
     "name": "stdout",
     "output_type": "stream",
     "text": [
      "249/299 stanovaya\n"
     ]
    },
    {
     "name": "stderr",
     "output_type": "stream",
     "text": [
      "Parsing reactions: 100%|██████████| 1547/1547 [00:00<00:00, 6190.20rows/s]\n",
      "Parsing to_id: 100%|██████████| 1547/1547 [00:00<?, ?rows/s]\n",
      "Parsing fwd_from: 100%|██████████| 1547/1547 [00:00<00:00, 3961.26rows/s]\n"
     ]
    },
    {
     "name": "stdout",
     "output_type": "stream",
     "text": [
      "250/299 stormdaily\n"
     ]
    },
    {
     "name": "stderr",
     "output_type": "stream",
     "text": [
      "Parsing reactions: 100%|██████████| 54349/54349 [00:17<00:00, 3029.47rows/s] \n",
      "Parsing to_id: 100%|██████████| 54349/54349 [00:00<00:00, 435034.29rows/s]\n",
      "Parsing fwd_from: 100%|██████████| 54349/54349 [00:17<00:00, 3106.15rows/s]\n"
     ]
    },
    {
     "name": "stdout",
     "output_type": "stream",
     "text": [
      "251/299 strelets_molodec\n"
     ]
    },
    {
     "name": "stderr",
     "output_type": "stream",
     "text": [
      "Parsing reactions: 100%|██████████| 8726/8726 [00:00<00:00, 12084.32rows/s]\n",
      "Parsing to_id: 100%|██████████| 8726/8726 [00:00<00:00, 279278.88rows/s]\n",
      "Parsing fwd_from: 100%|██████████| 8726/8726 [00:02<00:00, 3879.07rows/s]\n"
     ]
    },
    {
     "name": "stdout",
     "output_type": "stream",
     "text": [
      "252/299 strelkovii\n"
     ]
    },
    {
     "name": "stderr",
     "output_type": "stream",
     "text": [
      "Parsing reactions: 100%|██████████| 3508/3508 [00:01<00:00, 3329.25rows/s]\n",
      "Parsing to_id: 100%|██████████| 3508/3508 [00:00<?, ?rows/s]\n",
      "Parsing fwd_from: 100%|██████████| 3508/3508 [00:00<00:00, 5338.33rows/s] \n"
     ]
    },
    {
     "name": "stdout",
     "output_type": "stream",
     "text": [
      "253/299 superdolgov\n"
     ]
    },
    {
     "name": "stderr",
     "output_type": "stream",
     "text": [
      "Parsing reactions: 100%|██████████| 23743/23743 [00:06<00:00, 3429.69rows/s] \n",
      "Parsing to_id: 100%|██████████| 23743/23743 [00:00<00:00, 380195.47rows/s]\n",
      "Parsing fwd_from: 100%|██████████| 23743/23743 [00:05<00:00, 4019.07rows/s] \n"
     ]
    },
    {
     "name": "stdout",
     "output_type": "stream",
     "text": [
      "254/299 surf_noise1\n"
     ]
    },
    {
     "name": "stderr",
     "output_type": "stream",
     "text": [
      "Parsing reactions: 100%|██████████| 20593/20593 [00:06<00:00, 3123.10rows/s] \n",
      "Parsing to_id: 100%|██████████| 20593/20593 [00:00<00:00, 164051.86rows/s]\n",
      "Parsing fwd_from: 100%|██████████| 20593/20593 [00:25<00:00, 803.13rows/s] \n"
     ]
    },
    {
     "name": "stdout",
     "output_type": "stream",
     "text": [
      "255/299 svarschiki\n"
     ]
    },
    {
     "name": "stderr",
     "output_type": "stream",
     "text": [
      "Parsing reactions: 100%|██████████| 6776/6776 [00:00<00:00, 13032.20rows/s]\n",
      "Parsing to_id: 100%|██████████| 6776/6776 [00:00<00:00, 433016.48rows/s]\n",
      "Parsing fwd_from: 100%|██████████| 6776/6776 [00:02<00:00, 2267.11rows/s]\n"
     ]
    },
    {
     "name": "stdout",
     "output_type": "stream",
     "text": [
      "256/299 swodki\n"
     ]
    },
    {
     "name": "stderr",
     "output_type": "stream",
     "text": [
      "Parsing reactions: 100%|██████████| 195882/195882 [00:52<00:00, 3719.72rows/s] \n",
      "Parsing to_id: 100%|██████████| 195882/195882 [00:00<00:00, 501584.66rows/s]\n",
      "Parsing fwd_from: 100%|██████████| 195882/195882 [00:36<00:00, 5432.84rows/s] \n"
     ]
    },
    {
     "name": "stdout",
     "output_type": "stream",
     "text": [
      "257/299 TanyaChuprova\n"
     ]
    },
    {
     "name": "stderr",
     "output_type": "stream",
     "text": [
      "Parsing reactions: 100%|██████████| 6340/6340 [00:02<00:00, 2596.34rows/s]\n",
      "Parsing to_id: 100%|██████████| 6340/6340 [00:00<00:00, 405772.38rows/s]\n",
      "Parsing fwd_from: 100%|██████████| 6340/6340 [00:00<00:00, 7944.24rows/s] \n",
      "C:\\Users\\IvarY\\AppData\\Local\\Temp\\ipykernel_11356\\3396395887.py:4: DtypeWarning: Columns (6) have mixed types. Specify dtype option on import or set low_memory=False.\n",
      "  df = pd.read_csv(os.path.join(INPUT_FOLDER, filename), index_col='Unnamed: 0', dtype=dtype_dict, parse_dates=['date'])\n"
     ]
    },
    {
     "name": "stdout",
     "output_type": "stream",
     "text": [
      "258/299 tass_agency\n"
     ]
    },
    {
     "name": "stderr",
     "output_type": "stream",
     "text": [
      "Parsing reactions: 100%|██████████| 170746/170746 [00:47<00:00, 3588.36rows/s] \n",
      "Parsing to_id: 100%|██████████| 170746/170746 [00:00<00:00, 520486.76rows/s]\n",
      "Parsing fwd_from: 100%|██████████| 170746/170746 [00:25<00:00, 6585.43rows/s] \n"
     ]
    },
    {
     "name": "stdout",
     "output_type": "stream",
     "text": [
      "259/299 temablog\n"
     ]
    },
    {
     "name": "stderr",
     "output_type": "stream",
     "text": [
      "Parsing reactions: 100%|██████████| 6004/6004 [00:01<00:00, 3026.39rows/s]\n",
      "Parsing to_id: 100%|██████████| 6004/6004 [00:00<00:00, 192171.98rows/s]\n",
      "Parsing fwd_from: 100%|██████████| 6004/6004 [00:01<00:00, 3282.63rows/s] \n"
     ]
    },
    {
     "name": "stdout",
     "output_type": "stream",
     "text": [
      "260/299 TheBadComedian\n"
     ]
    },
    {
     "name": "stderr",
     "output_type": "stream",
     "text": [
      "Parsing reactions: 100%|██████████| 6045/6045 [00:01<00:00, 3531.85rows/s]\n",
      "Parsing to_id: 100%|██████████| 6045/6045 [00:00<00:00, 386956.76rows/s]\n",
      "Parsing fwd_from: 100%|██████████| 6045/6045 [00:00<00:00, 8999.18rows/s] \n"
     ]
    },
    {
     "name": "stdout",
     "output_type": "stream",
     "text": [
      "261/299 thebell_io\n"
     ]
    },
    {
     "name": "stderr",
     "output_type": "stream",
     "text": [
      "Parsing reactions: 100%|██████████| 20824/20824 [00:07<00:00, 2789.66rows/s] \n",
      "Parsing to_id: 100%|██████████| 20824/20824 [00:00<00:00, 444394.51rows/s]\n",
      "Parsing fwd_from: 100%|██████████| 20824/20824 [00:11<00:00, 1875.11rows/s]\n"
     ]
    },
    {
     "name": "stdout",
     "output_type": "stream",
     "text": [
      "262/299 thegraschenkov\n"
     ]
    },
    {
     "name": "stderr",
     "output_type": "stream",
     "text": [
      "Parsing reactions: 100%|██████████| 3052/3052 [00:00<00:00, 5084.61rows/s]\n",
      "Parsing to_id: 100%|██████████| 3052/3052 [00:00<00:00, 196103.00rows/s]\n",
      "Parsing fwd_from: 100%|██████████| 3052/3052 [00:02<00:00, 1494.90rows/s]\n"
     ]
    },
    {
     "name": "stdout",
     "output_type": "stream",
     "text": [
      "263/299 thynk\n"
     ]
    },
    {
     "name": "stderr",
     "output_type": "stream",
     "text": [
      "Parsing reactions: 100%|██████████| 17203/17203 [00:05<00:00, 2918.07rows/s] \n",
      "Parsing to_id: 100%|██████████| 17203/17203 [00:00<00:00, 157331.21rows/s]\n",
      "Parsing fwd_from: 100%|██████████| 17203/17203 [00:04<00:00, 3766.31rows/s] \n"
     ]
    },
    {
     "name": "stdout",
     "output_type": "stream",
     "text": [
      "264/299 tikandelaki\n"
     ]
    },
    {
     "name": "stderr",
     "output_type": "stream",
     "text": [
      "Parsing reactions: 100%|██████████| 13216/13216 [00:03<00:00, 4228.22rows/s] \n",
      "Parsing to_id: 100%|██████████| 13216/13216 [00:00<00:00, 423092.76rows/s]\n",
      "Parsing fwd_from: 100%|██████████| 13216/13216 [00:03<00:00, 3436.35rows/s]\n"
     ]
    },
    {
     "name": "stdout",
     "output_type": "stream",
     "text": [
      "265/299 tolk_tolk\n"
     ]
    },
    {
     "name": "stderr",
     "output_type": "stream",
     "text": [
      "Parsing reactions: 100%|██████████| 14359/14359 [00:03<00:00, 4031.51rows/s] \n",
      "Parsing to_id: 100%|██████████| 14359/14359 [00:00<00:00, 459001.24rows/s]\n",
      "Parsing fwd_from: 100%|██████████| 14359/14359 [00:03<00:00, 4015.11rows/s]\n"
     ]
    },
    {
     "name": "stdout",
     "output_type": "stream",
     "text": [
      "266/299 Topaz_Govorit\n"
     ]
    },
    {
     "name": "stderr",
     "output_type": "stream",
     "text": [
      "Parsing reactions: 100%|██████████| 13241/13241 [00:03<00:00, 3694.94rows/s]\n",
      "Parsing to_id: 100%|██████████| 13241/13241 [00:00<00:00, 424271.99rows/s]\n",
      "Parsing fwd_from: 100%|██████████| 13241/13241 [00:02<00:00, 5433.42rows/s] \n"
     ]
    },
    {
     "name": "stdout",
     "output_type": "stream",
     "text": [
      "267/299 truekpru\n"
     ]
    },
    {
     "name": "stderr",
     "output_type": "stream",
     "text": [
      "Parsing reactions: 100%|██████████| 100131/100131 [00:29<00:00, 3427.49rows/s] \n",
      "Parsing to_id: 100%|██████████| 100131/100131 [00:00<00:00, 493052.16rows/s]\n",
      "Parsing fwd_from: 100%|██████████| 100131/100131 [00:29<00:00, 3383.14rows/s]\n"
     ]
    },
    {
     "name": "stdout",
     "output_type": "stream",
     "text": [
      "268/299 truth_aggregator\n"
     ]
    },
    {
     "name": "stderr",
     "output_type": "stream",
     "text": [
      "Parsing reactions: 100%|██████████| 67679/67679 [00:08<00:00, 7984.78rows/s] \n",
      "Parsing to_id: 100%|██████████| 67679/67679 [00:00<00:00, 481415.72rows/s]\n",
      "Parsing fwd_from: 100%|██████████| 67679/67679 [01:36<00:00, 699.36rows/s] \n"
     ]
    },
    {
     "name": "stdout",
     "output_type": "stream",
     "text": [
      "269/299 tv360\n"
     ]
    },
    {
     "name": "stderr",
     "output_type": "stream",
     "text": [
      "Parsing reactions: 100%|██████████| 100284/100284 [00:30<00:00, 3291.82rows/s] \n",
      "Parsing to_id: 100%|██████████| 100284/100284 [00:00<00:00, 458634.59rows/s]\n",
      "Parsing fwd_from: 100%|██████████| 100284/100284 [00:26<00:00, 3741.50rows/s]\n"
     ]
    },
    {
     "name": "stdout",
     "output_type": "stream",
     "text": [
      "270/299 tvrain\n"
     ]
    },
    {
     "name": "stderr",
     "output_type": "stream",
     "text": [
      "Parsing reactions: 100%|██████████| 59150/59150 [00:20<00:00, 2889.25rows/s] \n",
      "Parsing to_id: 100%|██████████| 59150/59150 [00:00<00:00, 420821.99rows/s]\n",
      "Parsing fwd_from: 100%|██████████| 59150/59150 [00:09<00:00, 6106.38rows/s] \n"
     ]
    },
    {
     "name": "stdout",
     "output_type": "stream",
     "text": [
      "271/299 umar_kremlev\n"
     ]
    },
    {
     "name": "stderr",
     "output_type": "stream",
     "text": [
      "Parsing reactions: 100%|██████████| 1449/1449 [00:00<00:00, 4637.99rows/s] \n",
      "Parsing to_id: 100%|██████████| 1449/1449 [00:00<?, ?rows/s]\n",
      "Parsing fwd_from: 100%|██████████| 1449/1449 [00:00<00:00, 10304.68rows/s]\n"
     ]
    },
    {
     "name": "stdout",
     "output_type": "stream",
     "text": [
      "272/299 uranews\n"
     ]
    },
    {
     "name": "stderr",
     "output_type": "stream",
     "text": [
      "Parsing reactions: 100%|██████████| 70923/70923 [00:23<00:00, 2981.44rows/s] \n",
      "Parsing to_id: 100%|██████████| 70923/70923 [00:00<00:00, 504423.43rows/s]\n",
      "Parsing fwd_from: 100%|██████████| 70923/70923 [00:18<00:00, 3776.78rows/s] \n"
     ]
    },
    {
     "name": "stdout",
     "output_type": "stream",
     "text": [
      "273/299 vandalslavyansk\n"
     ]
    },
    {
     "name": "stderr",
     "output_type": "stream",
     "text": [
      "Parsing reactions: 100%|██████████| 2399/2399 [00:01<00:00, 1745.15rows/s]\n",
      "Parsing to_id: 100%|██████████| 2399/2399 [00:00<?, ?rows/s]\n",
      "Parsing fwd_from: 100%|██████████| 2399/2399 [00:02<00:00, 832.17rows/s] \n"
     ]
    },
    {
     "name": "stdout",
     "output_type": "stream",
     "text": [
      "274/299 varlamov\n"
     ]
    },
    {
     "name": "stderr",
     "output_type": "stream",
     "text": [
      "Parsing reactions: 100%|██████████| 7625/7625 [00:01<00:00, 4648.62rows/s] \n",
      "Parsing to_id: 100%|██████████| 7625/7625 [00:00<00:00, 488230.94rows/s]\n",
      "Parsing fwd_from: 100%|██████████| 7625/7625 [00:04<00:00, 1572.72rows/s]\n"
     ]
    },
    {
     "name": "stdout",
     "output_type": "stream",
     "text": [
      "275/299 varlamov_news\n"
     ]
    },
    {
     "name": "stderr",
     "output_type": "stream",
     "text": [
      "Parsing reactions: 100%|██████████| 36989/36989 [00:11<00:00, 3125.74rows/s] \n",
      "Parsing to_id: 100%|██████████| 36989/36989 [00:00<00:00, 197267.14rows/s]\n",
      "Parsing fwd_from: 100%|██████████| 36989/36989 [00:07<00:00, 4706.83rows/s] \n"
     ]
    },
    {
     "name": "stdout",
     "output_type": "stream",
     "text": [
      "276/299 vatnoeboloto\n"
     ]
    },
    {
     "name": "stderr",
     "output_type": "stream",
     "text": [
      "Parsing reactions: 100%|██████████| 3396/3396 [00:00<00:00, 10353.33rows/s]\n",
      "Parsing to_id: 100%|██████████| 3396/3396 [00:00<00:00, 217397.08rows/s]\n",
      "Parsing fwd_from: 100%|██████████| 3396/3396 [00:01<00:00, 3240.51rows/s]\n"
     ]
    },
    {
     "name": "stdout",
     "output_type": "stream",
     "text": [
      "277/299 vchkogpu\n"
     ]
    },
    {
     "name": "stderr",
     "output_type": "stream",
     "text": [
      "Parsing reactions: 100%|██████████| 34043/34043 [00:03<00:00, 9013.54rows/s] \n",
      "Parsing to_id: 100%|██████████| 34043/34043 [00:00<00:00, 436092.43rows/s]\n",
      "Parsing fwd_from: 100%|██████████| 34043/34043 [00:15<00:00, 2151.42rows/s]\n"
     ]
    },
    {
     "name": "stdout",
     "output_type": "stream",
     "text": [
      "278/299 veraafanasyeva\n"
     ]
    },
    {
     "name": "stderr",
     "output_type": "stream",
     "text": [
      "Parsing reactions: 100%|██████████| 17158/17158 [00:02<00:00, 6096.95rows/s]\n",
      "Parsing to_id: 100%|██████████| 17158/17158 [00:00<00:00, 549219.42rows/s]\n",
      "Parsing fwd_from: 100%|██████████| 17158/17158 [00:01<00:00, 8795.72rows/s] \n"
     ]
    },
    {
     "name": "stdout",
     "output_type": "stream",
     "text": [
      "279/299 vibornyk\n"
     ]
    },
    {
     "name": "stderr",
     "output_type": "stream",
     "text": [
      "Parsing reactions: 100%|██████████| 75850/75850 [00:10<00:00, 7381.72rows/s] \n",
      "Parsing to_id: 100%|██████████| 75850/75850 [00:00<00:00, 303476.12rows/s]\n",
      "Parsing fwd_from: 100%|██████████| 75850/75850 [01:56<00:00, 653.63rows/s] \n"
     ]
    },
    {
     "name": "stdout",
     "output_type": "stream",
     "text": [
      "280/299 vityzeva\n"
     ]
    },
    {
     "name": "stderr",
     "output_type": "stream",
     "text": [
      "Parsing reactions: 100%|██████████| 73817/73817 [00:07<00:00, 10526.66rows/s]\n",
      "Parsing to_id: 100%|██████████| 73817/73817 [00:00<00:00, 472650.93rows/s]\n",
      "Parsing fwd_from: 100%|██████████| 73817/73817 [00:44<00:00, 1666.78rows/s]\n"
     ]
    },
    {
     "name": "stdout",
     "output_type": "stream",
     "text": [
      "281/299 vladivostok1978\n"
     ]
    },
    {
     "name": "stderr",
     "output_type": "stream",
     "text": [
      "Parsing reactions: 100%|██████████| 11705/11705 [00:05<00:00, 2290.67rows/s]\n",
      "Parsing to_id: 100%|██████████| 11705/11705 [00:00<00:00, 456695.67rows/s]\n",
      "Parsing fwd_from: 100%|██████████| 11705/11705 [00:07<00:00, 1570.90rows/s]\n"
     ]
    },
    {
     "name": "stdout",
     "output_type": "stream",
     "text": [
      "282/299 vladlentatarsky\n"
     ]
    },
    {
     "name": "stderr",
     "output_type": "stream",
     "text": [
      "Parsing reactions: 100%|██████████| 15587/15587 [00:01<00:00, 11595.66rows/s]\n",
      "Parsing to_id: 100%|██████████| 15587/15587 [00:00<00:00, 498274.59rows/s]\n",
      "Parsing fwd_from: 100%|██████████| 15587/15587 [00:12<00:00, 1259.24rows/s]\n"
     ]
    },
    {
     "name": "stdout",
     "output_type": "stream",
     "text": [
      "283/299 vlast_Zh\n"
     ]
    },
    {
     "name": "stderr",
     "output_type": "stream",
     "text": [
      "Parsing reactions: 100%|██████████| 9978/9978 [00:02<00:00, 3488.10rows/s] \n",
      "Parsing to_id: 100%|██████████| 9978/9978 [00:00<00:00, 213100.29rows/s]\n",
      "Parsing fwd_from: 100%|██████████| 9978/9978 [00:02<00:00, 4302.58rows/s] \n"
     ]
    },
    {
     "name": "stdout",
     "output_type": "stream",
     "text": [
      "284/299 voenacher\n"
     ]
    },
    {
     "name": "stderr",
     "output_type": "stream",
     "text": [
      "Parsing reactions: 100%|██████████| 34303/34303 [00:08<00:00, 3946.71rows/s] \n",
      "Parsing to_id: 100%|██████████| 34303/34303 [00:00<00:00, 549346.75rows/s]\n",
      "Parsing fwd_from: 100%|██████████| 34303/34303 [00:10<00:00, 3155.45rows/s] \n"
     ]
    },
    {
     "name": "stdout",
     "output_type": "stream",
     "text": [
      "285/299 voenkorKotenok\n"
     ]
    },
    {
     "name": "stderr",
     "output_type": "stream",
     "text": [
      "Parsing reactions: 100%|██████████| 42374/42374 [00:14<00:00, 2869.03rows/s] \n",
      "Parsing to_id: 100%|██████████| 42374/42374 [00:00<00:00, 452107.76rows/s]\n",
      "Parsing fwd_from: 100%|██████████| 42374/42374 [00:36<00:00, 1156.59rows/s]\n"
     ]
    },
    {
     "name": "stdout",
     "output_type": "stream",
     "text": [
      "286/299 vvgladkov\n"
     ]
    },
    {
     "name": "stderr",
     "output_type": "stream",
     "text": [
      "Parsing reactions: 100%|██████████| 1431/1431 [00:00<00:00, 15235.25rows/s]\n",
      "Parsing to_id: 100%|██████████| 1431/1431 [00:00<?, ?rows/s]\n",
      "Parsing fwd_from: 100%|██████████| 1431/1431 [00:00<00:00, 9160.41rows/s]\n"
     ]
    },
    {
     "name": "stdout",
     "output_type": "stream",
     "text": [
      "287/299 vv_volodin\n"
     ]
    },
    {
     "name": "stderr",
     "output_type": "stream",
     "text": [
      "Parsing reactions: 100%|██████████| 583/583 [00:00<00:00, 3731.81rows/s]\n",
      "Parsing to_id: 100%|██████████| 583/583 [00:00<?, ?rows/s]\n",
      "Parsing fwd_from: 100%|██████████| 583/583 [00:00<00:00, 9330.28rows/s]\n"
     ]
    },
    {
     "name": "stdout",
     "output_type": "stream",
     "text": [
      "288/299 vysokygovorit\n"
     ]
    },
    {
     "name": "stderr",
     "output_type": "stream",
     "text": [
      "Parsing reactions: 100%|██████████| 9845/9845 [00:01<00:00, 6178.84rows/s] \n",
      "Parsing to_id: 100%|██████████| 9845/9845 [00:00<00:00, 210084.37rows/s]\n",
      "Parsing fwd_from: 100%|██████████| 9845/9845 [00:08<00:00, 1211.06rows/s]\n"
     ]
    },
    {
     "name": "stdout",
     "output_type": "stream",
     "text": [
      "289/299 vzglyad_ru\n"
     ]
    },
    {
     "name": "stderr",
     "output_type": "stream",
     "text": [
      "Parsing reactions: 100%|██████████| 67553/67553 [00:20<00:00, 3264.67rows/s] \n",
      "Parsing to_id: 100%|██████████| 67553/67553 [00:00<00:00, 480673.53rows/s]\n",
      "Parsing fwd_from: 100%|██████████| 67553/67553 [00:16<00:00, 4043.72rows/s] \n"
     ]
    },
    {
     "name": "stdout",
     "output_type": "stream",
     "text": [
      "290/299 warfakes\n"
     ]
    },
    {
     "name": "stderr",
     "output_type": "stream",
     "text": [
      "Parsing reactions: 100%|██████████| 9907/9907 [00:02<00:00, 3395.04rows/s] \n",
      "Parsing to_id: 100%|██████████| 9907/9907 [00:00<00:00, 317493.92rows/s]\n",
      "Parsing fwd_from: 100%|██████████| 9907/9907 [00:01<00:00, 6671.00rows/s] \n"
     ]
    },
    {
     "name": "stdout",
     "output_type": "stream",
     "text": [
      "291/299 wargonzo\n"
     ]
    },
    {
     "name": "stderr",
     "output_type": "stream",
     "text": [
      "Parsing reactions: 100%|██████████| 8905/8905 [00:02<00:00, 3129.78rows/s] \n",
      "Parsing to_id: 100%|██████████| 8905/8905 [00:00<00:00, 569998.28rows/s]\n",
      "Parsing fwd_from: 100%|██████████| 8905/8905 [00:05<00:00, 1539.51rows/s]\n"
     ]
    },
    {
     "name": "stdout",
     "output_type": "stream",
     "text": [
      "292/299 worldprotest\n"
     ]
    },
    {
     "name": "stderr",
     "output_type": "stream",
     "text": [
      "Parsing reactions: 100%|██████████| 25099/25099 [00:06<00:00, 3917.37rows/s] \n",
      "Parsing to_id: 100%|██████████| 25099/25099 [00:00<00:00, 535513.43rows/s]\n",
      "Parsing fwd_from: 100%|██████████| 25099/25099 [00:03<00:00, 6464.38rows/s] \n"
     ]
    },
    {
     "name": "stdout",
     "output_type": "stream",
     "text": [
      "293/299 youlistenedmayak\n"
     ]
    },
    {
     "name": "stderr",
     "output_type": "stream",
     "text": [
      "Parsing reactions: 100%|██████████| 23170/23170 [00:02<00:00, 9225.72rows/s] \n",
      "Parsing to_id: 100%|██████████| 23170/23170 [00:00<00:00, 494047.07rows/s]\n",
      "Parsing fwd_from: 100%|██████████| 23170/23170 [00:04<00:00, 4850.18rows/s] \n"
     ]
    },
    {
     "name": "stdout",
     "output_type": "stream",
     "text": [
      "294/299 yurydud\n"
     ]
    },
    {
     "name": "stderr",
     "output_type": "stream",
     "text": [
      "Parsing reactions: 100%|██████████| 98/98 [00:00<?, ?rows/s]\n",
      "Parsing to_id: 100%|██████████| 98/98 [00:00<?, ?rows/s]\n",
      "Parsing fwd_from: 100%|██████████| 98/98 [00:00<00:00, 6259.11rows/s]\n"
     ]
    },
    {
     "name": "stdout",
     "output_type": "stream",
     "text": [
      "295/299 zakharprilepin\n"
     ]
    },
    {
     "name": "stderr",
     "output_type": "stream",
     "text": [
      "Parsing reactions: 100%|██████████| 16319/16319 [00:01<00:00, 9790.13rows/s] \n",
      "Parsing to_id: 100%|██████████| 16319/16319 [00:00<00:00, 174110.96rows/s]\n",
      "Parsing fwd_from: 100%|██████████| 16319/16319 [00:13<00:00, 1197.77rows/s]\n"
     ]
    },
    {
     "name": "stdout",
     "output_type": "stream",
     "text": [
      "296/299 zhogaartem\n"
     ]
    },
    {
     "name": "stderr",
     "output_type": "stream",
     "text": [
      "Parsing reactions: 100%|██████████| 126/126 [00:00<00:00, 4032.92rows/s]\n",
      "Parsing to_id: 100%|██████████| 126/126 [00:00<?, ?rows/s]\n",
      "Parsing fwd_from: 100%|██████████| 126/126 [00:00<00:00, 2015.25rows/s]\n"
     ]
    },
    {
     "name": "stdout",
     "output_type": "stream",
     "text": [
      "297/299 znachit_net\n"
     ]
    },
    {
     "name": "stderr",
     "output_type": "stream",
     "text": [
      "Parsing reactions: 100%|██████████| 1710/1710 [00:00<00:00, 3127.89rows/s]\n",
      "Parsing to_id: 100%|██████████| 1710/1710 [00:00<?, ?rows/s]\n",
      "Parsing fwd_from: 100%|██████████| 1710/1710 [00:00<00:00, 3648.85rows/s]\n"
     ]
    },
    {
     "name": "stdout",
     "output_type": "stream",
     "text": [
      "298/299 zvezdanews\n"
     ]
    },
    {
     "name": "stderr",
     "output_type": "stream",
     "text": [
      "Parsing reactions: 100%|██████████| 102190/102190 [00:10<00:00, 9732.33rows/s] \n",
      "Parsing to_id: 100%|██████████| 102190/102190 [00:00<00:00, 408852.80rows/s]\n",
      "Parsing fwd_from: 100%|██████████| 102190/102190 [00:12<00:00, 8141.99rows/s]\n"
     ]
    }
   ],
   "source": [
    "for i, channel in enumerate(channels):\n",
    "    df = read_channel(channel)\n",
    "    print(f\"{i}/{len(channels)} {df['handle'][0]}\")\n",
    "    tqdm.pandas(desc = \"Parsing reactions\", unit='rows')\n",
    "    df = process_reactions_df(df)\n",
    "    tqdm.pandas(desc = \"Parsing to_id\", unit='rows')\n",
    "    df = extract_to_id_df(df)\n",
    "    tqdm.pandas(desc = \"Parsing fwd_from\", unit='rows')\n",
    "    df = df.progress_apply(process_fwd_from, axis=1)\n",
    "    # drop the fwd_from column\n",
    "    df.drop(columns=['fwd_from'], inplace=True)\n",
    "    try:\n",
    "        df.drop(columns=['msg_entity'], inplace=True)\n",
    "    except KeyError:\n",
    "        pass\n",
    "    save_channel(df, channel)"
   ],
   "metadata": {
    "collapsed": false,
    "pycharm": {
     "name": "#%%\n"
    }
   }
  },
  {
   "cell_type": "code",
   "execution_count": 248,
   "outputs": [
    {
     "data": {
      "text/plain": "                       date  duration fwd_date fwd_from_id fwd_mes_id  \\\n0 2022-12-19 11:04:43+00:00       NaN      NaT         NaN        NaN   \n1 2022-12-19 11:04:43+00:00       NaN      NaT         NaN        NaN   \n2 2022-12-19 11:04:43+00:00       NaN      NaT         NaN        NaN   \n3 2022-12-19 11:04:43+00:00       NaN      NaT         NaN        NaN   \n4 2022-12-19 10:57:43+00:00       NaN      NaT         NaN        NaN   \n\n       handle      id                                            message  \\\n0  zvezdanews  103862                                                NaN   \n1  zvezdanews  103861                                                NaN   \n2  zvezdanews  103860                                                NaN   \n3  zvezdanews  103859  ⚡️⚡️⚡️⚡️ Путин подписал закон о праве мобилизо...   \n4  zvezdanews  103858  ❗️❗️❗️❗️Путин подписал закон о запрете на услу...   \n\n        to_id   type   views  \n0  1144616980  photo  1577.0  \n1  1144616980  photo  1577.0  \n2  1144616980  photo  1577.0  \n3  1144616980  photo  1577.0  \n4  1144616980   text  2516.0  ",
      "text/html": "<div>\n<style scoped>\n    .dataframe tbody tr th:only-of-type {\n        vertical-align: middle;\n    }\n\n    .dataframe tbody tr th {\n        vertical-align: top;\n    }\n\n    .dataframe thead th {\n        text-align: right;\n    }\n</style>\n<table border=\"1\" class=\"dataframe\">\n  <thead>\n    <tr style=\"text-align: right;\">\n      <th></th>\n      <th>date</th>\n      <th>duration</th>\n      <th>fwd_date</th>\n      <th>fwd_from_id</th>\n      <th>fwd_mes_id</th>\n      <th>handle</th>\n      <th>id</th>\n      <th>message</th>\n      <th>to_id</th>\n      <th>type</th>\n      <th>views</th>\n    </tr>\n  </thead>\n  <tbody>\n    <tr>\n      <th>0</th>\n      <td>2022-12-19 11:04:43+00:00</td>\n      <td>NaN</td>\n      <td>NaT</td>\n      <td>NaN</td>\n      <td>NaN</td>\n      <td>zvezdanews</td>\n      <td>103862</td>\n      <td>NaN</td>\n      <td>1144616980</td>\n      <td>photo</td>\n      <td>1577.0</td>\n    </tr>\n    <tr>\n      <th>1</th>\n      <td>2022-12-19 11:04:43+00:00</td>\n      <td>NaN</td>\n      <td>NaT</td>\n      <td>NaN</td>\n      <td>NaN</td>\n      <td>zvezdanews</td>\n      <td>103861</td>\n      <td>NaN</td>\n      <td>1144616980</td>\n      <td>photo</td>\n      <td>1577.0</td>\n    </tr>\n    <tr>\n      <th>2</th>\n      <td>2022-12-19 11:04:43+00:00</td>\n      <td>NaN</td>\n      <td>NaT</td>\n      <td>NaN</td>\n      <td>NaN</td>\n      <td>zvezdanews</td>\n      <td>103860</td>\n      <td>NaN</td>\n      <td>1144616980</td>\n      <td>photo</td>\n      <td>1577.0</td>\n    </tr>\n    <tr>\n      <th>3</th>\n      <td>2022-12-19 11:04:43+00:00</td>\n      <td>NaN</td>\n      <td>NaT</td>\n      <td>NaN</td>\n      <td>NaN</td>\n      <td>zvezdanews</td>\n      <td>103859</td>\n      <td>⚡️⚡️⚡️⚡️ Путин подписал закон о праве мобилизо...</td>\n      <td>1144616980</td>\n      <td>photo</td>\n      <td>1577.0</td>\n    </tr>\n    <tr>\n      <th>4</th>\n      <td>2022-12-19 10:57:43+00:00</td>\n      <td>NaN</td>\n      <td>NaT</td>\n      <td>NaN</td>\n      <td>NaN</td>\n      <td>zvezdanews</td>\n      <td>103858</td>\n      <td>❗️❗️❗️❗️Путин подписал закон о запрете на услу...</td>\n      <td>1144616980</td>\n      <td>text</td>\n      <td>2516.0</td>\n    </tr>\n  </tbody>\n</table>\n</div>"
     },
     "execution_count": 248,
     "metadata": {},
     "output_type": "execute_result"
    }
   ],
   "source": [
    "df.head()"
   ],
   "metadata": {
    "collapsed": false,
    "pycharm": {
     "name": "#%%\n"
    }
   }
  },
  {
   "cell_type": "code",
   "execution_count": null,
   "outputs": [],
   "source": [],
   "metadata": {
    "collapsed": false,
    "pycharm": {
     "name": "#%%\n"
    }
   }
  }
 ],
 "metadata": {
  "kernelspec": {
   "display_name": "Python 3",
   "language": "python",
   "name": "python3"
  },
  "language_info": {
   "codemirror_mode": {
    "name": "ipython",
    "version": 2
   },
   "file_extension": ".py",
   "mimetype": "text/x-python",
   "name": "python",
   "nbconvert_exporter": "python",
   "pygments_lexer": "ipython2",
   "version": "2.7.6"
  }
 },
 "nbformat": 4,
 "nbformat_minor": 0
}